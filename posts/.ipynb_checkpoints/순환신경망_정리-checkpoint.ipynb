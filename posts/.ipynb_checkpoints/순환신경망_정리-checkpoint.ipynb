{
 "cells": [
  {
   "cell_type": "raw",
   "id": "d4bb85d0-f59b-4f29-94fa-f95358a489a3",
   "metadata": {},
   "source": [
    "---\n",
    "title: \"순환신경망 정리\"\n",
    "author: \"차상진\"\n",
    "date: \"2025-05-07\"\n",
    "---"
   ]
  },
  {
   "cell_type": "markdown",
   "id": "eb898004-25d0-42c1-8dd4-d79bcc39d755",
   "metadata": {},
   "source": [
    "# 0. Data, Preprocessing"
   ]
  },
  {
   "cell_type": "code",
   "execution_count": 1,
   "id": "6415c1f2-5f76-4dd9-bfbe-e51d2a4c220f",
   "metadata": {},
   "outputs": [],
   "source": [
    "import torch\n",
    "import pandas as pd\n",
    "import matplotlib.pyplot as plt"
   ]
  },
  {
   "cell_type": "code",
   "execution_count": 61,
   "id": "4a71083d-6302-40c2-bef3-658dd9a388ba",
   "metadata": {},
   "outputs": [],
   "source": [
    "soft = torch.nn.Softmax(dim=1)\n",
    "sig = torch.nn.Sigmoid()\n",
    "tanh = torch.nn.Tanh()"
   ]
  },
  {
   "cell_type": "code",
   "execution_count": 3,
   "id": "11cc2766-52be-4981-a6ae-3736d1737c5c",
   "metadata": {},
   "outputs": [
    {
     "data": {
      "text/plain": [
       "['A', 'b', 'A', 'c', 'A', 'd', 'A', 'b', 'A', 'c']"
      ]
     },
     "execution_count": 3,
     "metadata": {},
     "output_type": "execute_result"
    }
   ],
   "source": [
    "txt = list('AbAcAd'*50)\n",
    "txt[:10]"
   ]
  },
  {
   "cell_type": "code",
   "execution_count": 4,
   "id": "272e0c85-e44d-4926-a48b-8ac33b029f3d",
   "metadata": {},
   "outputs": [
    {
     "data": {
      "text/html": [
       "<div>\n",
       "<style scoped>\n",
       "    .dataframe tbody tr th:only-of-type {\n",
       "        vertical-align: middle;\n",
       "    }\n",
       "\n",
       "    .dataframe tbody tr th {\n",
       "        vertical-align: top;\n",
       "    }\n",
       "\n",
       "    .dataframe thead th {\n",
       "        text-align: right;\n",
       "    }\n",
       "</style>\n",
       "<table border=\"1\" class=\"dataframe\">\n",
       "  <thead>\n",
       "    <tr style=\"text-align: right;\">\n",
       "      <th></th>\n",
       "      <th>x</th>\n",
       "      <th>y</th>\n",
       "    </tr>\n",
       "  </thead>\n",
       "  <tbody>\n",
       "    <tr>\n",
       "      <th>0</th>\n",
       "      <td>A</td>\n",
       "      <td>b</td>\n",
       "    </tr>\n",
       "    <tr>\n",
       "      <th>1</th>\n",
       "      <td>b</td>\n",
       "      <td>A</td>\n",
       "    </tr>\n",
       "    <tr>\n",
       "      <th>2</th>\n",
       "      <td>A</td>\n",
       "      <td>c</td>\n",
       "    </tr>\n",
       "    <tr>\n",
       "      <th>3</th>\n",
       "      <td>c</td>\n",
       "      <td>A</td>\n",
       "    </tr>\n",
       "    <tr>\n",
       "      <th>4</th>\n",
       "      <td>A</td>\n",
       "      <td>d</td>\n",
       "    </tr>\n",
       "  </tbody>\n",
       "</table>\n",
       "</div>"
      ],
      "text/plain": [
       "   x  y\n",
       "0  A  b\n",
       "1  b  A\n",
       "2  A  c\n",
       "3  c  A\n",
       "4  A  d"
      ]
     },
     "execution_count": 4,
     "metadata": {},
     "output_type": "execute_result"
    }
   ],
   "source": [
    "df_train = pd.DataFrame({'x':txt[:-1], 'y':txt[1:]})\n",
    "df_train[:5]"
   ]
  },
  {
   "cell_type": "markdown",
   "id": "4ccff584-70c8-4016-86ce-99ca88c2b89f",
   "metadata": {},
   "source": [
    "`-` `input`은 단어의 종류 개수인 4이고 `hidden size`는 3으로 설정"
   ]
  },
  {
   "cell_type": "markdown",
   "id": "b38f2f52-7218-4a06-8a06-b10b9033b521",
   "metadata": {},
   "source": [
    "# 1. RNNCell"
   ]
  },
  {
   "cell_type": "code",
   "execution_count": 29,
   "id": "57416b7c-1f86-476f-bc7c-e3abb44f83b8",
   "metadata": {},
   "outputs": [],
   "source": [
    "x = torch.tensor(df_train.x.map({'A':0,'b':1,'c':2,'d':3}))\n",
    "y = torch.tensor(df_train.y.map({'A':0,'b':1,'c':2,'d':3}))\n",
    "X = torch.nn.functional.one_hot(x).float()\n",
    "y = torch.nn.functional.one_hot(y).float()"
   ]
  },
  {
   "cell_type": "code",
   "execution_count": 30,
   "id": "2a6ce07f-606b-4934-9aef-76e659c58cb0",
   "metadata": {},
   "outputs": [],
   "source": [
    "rnncell = torch.nn.RNNCell(4,3)\n",
    "linr = torch.nn.Linear(3,4)\n",
    "loss_fn = torch.nn.CrossEntropyLoss()\n",
    "optimizr = torch.optim.Adam(list(rnncell.parameters()) + list(linr.parameters()),lr=0.1)"
   ]
  },
  {
   "cell_type": "code",
   "execution_count": 31,
   "id": "3f45eaac-c5d8-4756-aa76-2a78fef85c30",
   "metadata": {},
   "outputs": [],
   "source": [
    "L = len(X)\n",
    "for l in range(200):\n",
    "    loss = 0\n",
    "    ht = torch.zeros(3)\n",
    "    for t in range(L):\n",
    "        Xt,yt = X[t],y[t]\n",
    "        ht = rnncell(Xt,ht)\n",
    "        netout = linr(ht)\n",
    "        loss = loss + loss_fn(netout,yt)\n",
    "    loss = loss/L\n",
    "    loss.backward()\n",
    "    optimizr.step()\n",
    "    optimizr.zero_grad()"
   ]
  },
  {
   "cell_type": "code",
   "execution_count": 32,
   "id": "ddcc3c6c-52f3-4bff-9ec6-b94541eb34d9",
   "metadata": {},
   "outputs": [
    {
     "data": {
      "text/plain": [
       "tensor([[1.0115e-02, 7.5804e-01, 5.5738e-02, 1.7611e-01],\n",
       "        [9.9825e-01, 6.4732e-04, 1.0804e-03, 1.8182e-05],\n",
       "        [1.4760e-03, 9.1038e-04, 9.9757e-01, 4.3916e-05],\n",
       "        ...,\n",
       "        [1.1941e-03, 1.3800e-03, 9.9737e-01, 5.9494e-05],\n",
       "        [9.9993e-01, 4.1149e-07, 7.4368e-05, 6.4593e-08],\n",
       "        [3.9266e-06, 4.9567e-01, 7.3947e-04, 5.0359e-01]],\n",
       "       grad_fn=<SoftmaxBackward0>)"
      ]
     },
     "execution_count": 32,
     "metadata": {},
     "output_type": "execute_result"
    }
   ],
   "source": [
    "h = torch.zeros(L,3)\n",
    "water = torch.zeros(3)\n",
    "h[0] = rnncell(X[0],water)\n",
    "for t in range(1,L):\n",
    "    h[t] = rnncell(X[t],h[t-1])\n",
    "yhat = soft(linr(h))\n",
    "yhat"
   ]
  },
  {
   "cell_type": "code",
   "execution_count": 33,
   "id": "e179f18f-d699-428e-8b65-0de83027cd66",
   "metadata": {},
   "outputs": [
    {
     "data": {
      "image/png": "[encoded data removed]",
      "text/plain": [
       "<Figure size 400x571.429 with 1 Axes>"
      ]
     },
     "metadata": {},
     "output_type": "display_data"
    }
   ],
   "source": [
    "mat = torch.concat([h,yhat],axis=1).data[:10]\n",
    "plt.matshow(mat,cmap='bwr',vmin=-1,vmax=1)\n",
    "plt.axvline(x=2.5,color='lime')\n",
    "plt.xticks(range(7),[r'$h_1$',r'$h_2$',r'$h_3$', r'$P_A$',r'$P_b$',r'$P_c$',r'$P_d$']);"
   ]
  },
  {
   "cell_type": "markdown",
   "id": "381d80f2-6e0d-4969-995c-51c27ea35d52",
   "metadata": {},
   "source": [
    "# 2. RNN"
   ]
  },
  {
   "cell_type": "code",
   "execution_count": 25,
   "id": "c6d0670e-8fc7-4374-ad97-31f2887b7c17",
   "metadata": {},
   "outputs": [],
   "source": [
    "x = torch.tensor(df_train.x.map({'A':0,'b':1,'c':2,'d':3}))\n",
    "y = torch.tensor(df_train.y.map({'A':0,'b':1,'c':2,'d':3}))\n",
    "X = torch.nn.functional.one_hot(x).float()\n",
    "y = torch.nn.functional.one_hot(y).float()"
   ]
  },
  {
   "cell_type": "code",
   "execution_count": 26,
   "id": "95f3999f-9e7c-413e-a257-7885179a6f3b",
   "metadata": {},
   "outputs": [],
   "source": [
    "rnn = torch.nn.RNN(4,3)\n",
    "linr = torch.nn.Linear(3,4)\n",
    "loss_fn = torch.nn.CrossEntropyLoss() \n",
    "optimizr = torch.optim.Adam(list(rnn.parameters())+list(linr.parameters()),lr=0.1)\n",
    "\n",
    "water = torch.zeros(1,3)\n",
    "for l in range(200):\n",
    "    h,hL = rnn(X,water)\n",
    "    netout = linr(h)\n",
    "    loss = loss_fn(netout,y)\n",
    "    loss.backward()\n",
    "    optimizr.step()\n",
    "    optimizr.zero_grad()"
   ]
  },
  {
   "cell_type": "code",
   "execution_count": 27,
   "id": "63c700a9-2dce-4d18-b14b-6b2a809a0f6b",
   "metadata": {},
   "outputs": [
    {
     "data": {
      "text/plain": [
       "tensor([[2.3293e-02, 9.7478e-01, 6.4693e-06, 1.9182e-03],\n",
       "        [9.9996e-01, 3.9347e-05, 2.1711e-09, 2.8704e-08],\n",
       "        [1.7528e-08, 5.4821e-07, 9.9156e-01, 8.4434e-03],\n",
       "        ...,\n",
       "        [1.7383e-08, 5.4203e-07, 9.9162e-01, 8.3797e-03],\n",
       "        [9.9946e-01, 5.4431e-04, 1.2763e-08, 2.2101e-07],\n",
       "        [7.5180e-06, 1.0098e-02, 5.9897e-03, 9.8390e-01]],\n",
       "       grad_fn=<SoftmaxBackward0>)"
      ]
     },
     "execution_count": 27,
     "metadata": {},
     "output_type": "execute_result"
    }
   ],
   "source": [
    "h,_ = rnn(X,water)\n",
    "yhat = soft(linr(h))\n",
    "yhat"
   ]
  },
  {
   "cell_type": "code",
   "execution_count": 28,
   "id": "af818c22-caa1-4e67-a80a-d4789023f14d",
   "metadata": {},
   "outputs": [
    {
     "data": {
      "image/png": "[encoded data removed]",
      "text/plain": [
       "<Figure size 400x571.429 with 1 Axes>"
      ]
     },
     "metadata": {},
     "output_type": "display_data"
    }
   ],
   "source": [
    "mat = torch.concat([h,yhat],axis=1).data[:10]\n",
    "plt.matshow(mat,cmap='bwr',vmin=-1,vmax=1)\n",
    "plt.axvline(x=2.5,color='lime')\n",
    "plt.xticks(range(7),[r'$h_1$',r'$h_2$',r'$h_3$', r'$P_A$',r'$P_b$',r'$P_c$',r'$P_d$']);"
   ]
  },
  {
   "cell_type": "markdown",
   "id": "d9d096a4-db04-4623-96ae-4640bafd2258",
   "metadata": {},
   "source": [
    "# 3. LSTM"
   ]
  },
  {
   "cell_type": "code",
   "execution_count": 37,
   "id": "0a3794ff-79d4-41c4-9546-d6982f7e3a2b",
   "metadata": {},
   "outputs": [],
   "source": [
    "x = torch.tensor(df_train.x.map({'A':0,'b':1,'c':2,'d':3}))\n",
    "y = torch.tensor(df_train.y.map({'A':0,'b':1,'c':2,'d':3}))\n",
    "X = torch.nn.functional.one_hot(x).float()\n",
    "y = torch.nn.functional.one_hot(y).float()"
   ]
  },
  {
   "cell_type": "code",
   "execution_count": 38,
   "id": "25d032f5-b835-4575-9ff5-1f05691592c1",
   "metadata": {},
   "outputs": [],
   "source": [
    "lstm = torch.nn.LSTM(4,3)\n",
    "linr = torch.nn.Linear(3,4)\n",
    "loss_fn = torch.nn.CrossEntropyLoss()\n",
    "optimizr = torch.optim.Adam(list(lstm.parameters()) + list(linr.parameters()),lr=0.1)\n",
    "\n",
    "for l in range(500):\n",
    "    h,_ = lstm(X)\n",
    "    netout = linr(h)\n",
    "    loss = loss_fn(netout,y)\n",
    "    loss.backward()\n",
    "    optimizr.step()\n",
    "    optimizr.zero_grad()"
   ]
  },
  {
   "cell_type": "code",
   "execution_count": 39,
   "id": "573a8883-dc06-4fa3-ba69-40a5378bf528",
   "metadata": {},
   "outputs": [
    {
     "data": {
      "text/plain": [
       "tensor([[7.0750e-04, 9.7673e-01, 1.4719e-08, 2.2562e-02],\n",
       "        [9.9934e-01, 1.9747e-09, 6.5815e-04, 7.6823e-07],\n",
       "        [7.2932e-06, 7.5534e-11, 9.9835e-01, 1.6416e-03],\n",
       "        ...,\n",
       "        [7.4841e-06, 7.9410e-11, 9.9831e-01, 1.6844e-03],\n",
       "        [9.9994e-01, 6.7138e-08, 5.9597e-05, 2.4941e-06],\n",
       "        [3.2600e-04, 1.7392e-03, 1.3645e-03, 9.9657e-01]],\n",
       "       grad_fn=<SoftmaxBackward0>)"
      ]
     },
     "execution_count": 39,
     "metadata": {},
     "output_type": "execute_result"
    }
   ],
   "source": [
    "h,_ = lstm(X)\n",
    "yhat = soft(linr(h))\n",
    "yhat"
   ]
  },
  {
   "cell_type": "code",
   "execution_count": 40,
   "id": "66cf5779-a552-427f-9221-c3187e662994",
   "metadata": {},
   "outputs": [
    {
     "data": {
      "image/png": "[encoded data removed]",
      "text/plain": [
       "<Figure size 400x571.429 with 1 Axes>"
      ]
     },
     "metadata": {},
     "output_type": "display_data"
    }
   ],
   "source": [
    "mat = torch.concat([h,yhat],axis=1).data[:10]\n",
    "plt.matshow(mat,cmap='bwr',vmin=-1,vmax=1)\n",
    "plt.axvline(x=2.5,color='lime')\n",
    "plt.xticks(range(7),[r'$h_1$',r'$h_2$',r'$h_3$', r'$P_A$',r'$P_b$',r'$P_c$',r'$P_d$']);"
   ]
  },
  {
   "cell_type": "markdown",
   "id": "3538d77c-a0d6-4e29-bce4-ac97fffca54d",
   "metadata": {},
   "source": [
    "# 4. LSTMCell"
   ]
  },
  {
   "cell_type": "code",
   "execution_count": 152,
   "id": "059d6efb-190b-49f7-aab4-992639d0818a",
   "metadata": {},
   "outputs": [],
   "source": [
    "x = torch.tensor(df_train.x.map({'A':0,'b':1,'c':2,'d':3}))\n",
    "y = torch.tensor(df_train.y.map({'A':0,'b':1,'c':2,'d':3}))\n",
    "X = torch.nn.functional.one_hot(x).float()\n",
    "y = torch.nn.functional.one_hot(y).float()"
   ]
  },
  {
   "cell_type": "code",
   "execution_count": 148,
   "id": "be172bb2-a89f-4ef8-8adf-f7a945663d8d",
   "metadata": {},
   "outputs": [],
   "source": [
    "lstmcell = torch.nn.LSTMCell(4,3)\n",
    "linr = torch.nn.Linear(3,4)\n",
    "loss_fn = torch.nn.CrossEntropyLoss()\n",
    "optimizr = torch.optim.Adam(list(lstmcell.parameters())+list(linr.parameters()),lr=0.1)"
   ]
  },
  {
   "cell_type": "code",
   "execution_count": 149,
   "id": "e5f7c74a-3d52-48dc-b790-01732418cf5a",
   "metadata": {},
   "outputs": [],
   "source": [
    "for l in range(100):\n",
    "    loss = 0\n",
    "    ht = torch.zeros(3)\n",
    "    ct = torch.zeros(3)\n",
    "    for t in range(len(X)):\n",
    "        Xt,yt = X[t],y[t]\n",
    "        ht,ct = lstmcell(Xt,(ht,ct))\n",
    "        netout_t = linr(ht)\n",
    "        loss = loss + loss_fn(netout_t,yt)\n",
    "    loss = loss/L\n",
    "    loss.backward()\n",
    "    optimizr.step()\n",
    "    optimizr.zero_grad()"
   ]
  },
  {
   "cell_type": "code",
   "execution_count": 150,
   "id": "1a1979bd-ea48-4921-bb75-0f2a556fa879",
   "metadata": {},
   "outputs": [
    {
     "data": {
      "text/plain": [
       "tensor([[2.0200e-03, 9.7144e-01, 1.5596e-02, 1.0939e-02],\n",
       "        [9.8657e-01, 3.4276e-08, 1.3420e-02, 5.1240e-06],\n",
       "        [1.6634e-02, 1.8627e-03, 9.6436e-01, 1.7148e-02],\n",
       "        ...,\n",
       "        [1.8804e-02, 4.0043e-03, 9.6906e-01, 8.1301e-03],\n",
       "        [9.9448e-01, 1.0317e-05, 3.7891e-03, 1.7218e-03],\n",
       "        [1.2681e-04, 7.6272e-04, 4.3521e-03, 9.9476e-01]],\n",
       "       grad_fn=<SoftmaxBackward0>)"
      ]
     },
     "execution_count": 150,
     "metadata": {},
     "output_type": "execute_result"
    }
   ],
   "source": [
    "h = torch.zeros(L,3)\n",
    "c = torch.zeros(L,3)\n",
    "ht = torch.zeros(3)\n",
    "ct = torch.zeros(3)\n",
    "h[0],c[0] = lstmcell(X[0],(ht,ct))\n",
    "for t in range(1,L):\n",
    "    h[t],c[t] = lstmcell(X[t],(h[t-1],c[t-1]))\n",
    "yhat = soft(linr(h))\n",
    "yhat"
   ]
  },
  {
   "cell_type": "code",
   "execution_count": 151,
   "id": "300991d2-c1ff-4b88-b7b6-959b80f74f3e",
   "metadata": {},
   "outputs": [
    {
     "data": {
      "image/png": "[encoded data removed]",
      "text/plain": [
       "<Figure size 400x571.429 with 1 Axes>"
      ]
     },
     "metadata": {},
     "output_type": "display_data"
    }
   ],
   "source": [
    "mat = torch.concat([h,yhat],axis=1).data[:10]\n",
    "plt.matshow(mat,cmap='bwr',vmin=-1,vmax=1)\n",
    "plt.axvline(x=2.5,color='lime')\n",
    "plt.xticks(range(7),[r'$h_1$',r'$h_2$',r'$h_3$','$P_A$',r'$P_b$',r'$P_c$',r'$P_d$']);"
   ]
  },
  {
   "cell_type": "markdown",
   "id": "8aa55778-1b63-46ae-82bc-4ccae2e7334a",
   "metadata": {},
   "source": [
    "# 5. `torch.nn.Module` + rNNCell"
   ]
  },
  {
   "cell_type": "code",
   "execution_count": 48,
   "id": "21b69f8f-1415-401b-a6fd-bccc57f5386a",
   "metadata": {},
   "outputs": [],
   "source": [
    "x = torch.tensor(df_train.x.map({'A':0,'b':1,'c':2,'d':3}))\n",
    "y = torch.tensor(df_train.y.map({'A':0,'b':1,'c':2,'d':3}))\n",
    "X = torch.nn.functional.one_hot(x).float()\n",
    "y = torch.nn.functional.one_hot(y).float()"
   ]
  },
  {
   "cell_type": "code",
   "execution_count": 49,
   "id": "63e2033c-40bf-4c21-959e-09336f643bb3",
   "metadata": {},
   "outputs": [],
   "source": [
    "class rNNCell(torch.nn.Module):\n",
    "    def __init__(self):\n",
    "        super().__init__()\n",
    "        self.i2h = torch.nn.Linear(4,2) \n",
    "        self.h2h = torch.nn.Linear(2,2) \n",
    "        self.tanh = torch.nn.Tanh()\n",
    "    def forward(self,Xt,ht):\n",
    "        ht = self.tanh(self.i2h(Xt)+self.h2h(ht))\n",
    "        return ht\n",
    "torch.manual_seed(43052) # 시드고정해야만 답나옴 --> 임베딩공간이 부족하다는 의미 (사실상 6개의 문자니까!)\n",
    "rnncell = rNNCell() \n",
    "cook = torch.nn.Linear(2,4) \n",
    "#\n",
    "loss_fn = torch.nn.CrossEntropyLoss()\n",
    "optimizr = torch.optim.Adam(list(rnncell.parameters())+ list(cook.parameters()),lr=0.1)\n",
    "#---#\n",
    "L = len(X)\n",
    "for epoc in range(200):\n",
    "    ## 1~2 \n",
    "    ht = torch.zeros(2)\n",
    "    loss = 0\n",
    "    for t in range(L):\n",
    "        Xt, yt = X[t], y[t]\n",
    "        ht = rnncell(Xt, ht)\n",
    "        ot = cook(ht) \n",
    "        loss = loss + loss_fn(ot, yt)\n",
    "    loss = loss/L\n",
    "    ## 3 \n",
    "    loss.backward()\n",
    "    ## 4 \n",
    "    optimizr.step()\n",
    "    optimizr.zero_grad()"
   ]
  },
  {
   "cell_type": "code",
   "execution_count": 50,
   "id": "c9eb67d5-41d6-440b-aec6-f500338d0813",
   "metadata": {},
   "outputs": [
    {
     "data": {
      "text/plain": [
       "tensor([[4.1978e-03, 9.4555e-01, 1.9557e-06, 5.0253e-02],\n",
       "        [9.9994e-01, 5.5569e-05, 8.4751e-10, 1.3143e-06],\n",
       "        [2.1349e-07, 1.1345e-06, 9.7019e-01, 2.9806e-02],\n",
       "        ...,\n",
       "        [2.1339e-07, 1.1339e-06, 9.7020e-01, 2.9798e-02],\n",
       "        [9.9901e-01, 9.6573e-04, 6.9303e-09, 2.1945e-05],\n",
       "        [7.2919e-04, 2.5484e-02, 3.3011e-02, 9.4078e-01]],\n",
       "       grad_fn=<SoftmaxBackward0>)"
      ]
     },
     "execution_count": 50,
     "metadata": {},
     "output_type": "execute_result"
    }
   ],
   "source": [
    "h = torch.zeros(L,2)\n",
    "water = torch.zeros(2)\n",
    "h[0] = rnncell(X[0],water)\n",
    "for t in range(1,L):\n",
    "    h[t] = rnncell(X[t],h[t-1])\n",
    "yhat = soft(cook(h))\n",
    "yhat    "
   ]
  },
  {
   "cell_type": "code",
   "execution_count": 51,
   "id": "28d5b15c-9de8-4db3-9f07-f9768ae08aa9",
   "metadata": {},
   "outputs": [
    {
     "data": {
      "image/png": "[encoded data removed]",
      "text/plain": [
       "<Figure size 400x666.667 with 1 Axes>"
      ]
     },
     "metadata": {},
     "output_type": "display_data"
    }
   ],
   "source": [
    "mat = torch.concat([h,yhat],axis=1).data[:10]\n",
    "plt.matshow(mat,cmap='bwr',vmin=-1,vmax=1)\n",
    "plt.axvline(x=1.5,color='lime')\n",
    "plt.xticks(range(6),[r'$h_1$',r'$h_2$',r'$P_A$',r'$P_b$',r'$P_c$',r'$P_d$']);"
   ]
  },
  {
   "cell_type": "code",
   "execution_count": 152,
   "id": "17dcdc2c-3e18-481a-9491-bf4d96ec4c91",
   "metadata": {},
   "outputs": [],
   "source": [
    "x = torch.tensor(df_train.x.map({'A':0,'b':1,'c':2,'d':3}))\n",
    "y = torch.tensor(df_train.y.map({'A':0,'b':1,'c':2,'d':3}))\n",
    "X = torch.nn.functional.one_hot(x).float()\n",
    "y = torch.nn.functional.one_hot(y).float()"
   ]
  },
  {
   "cell_type": "code",
   "execution_count": 148,
   "id": "b254b2f8-e8c0-4b11-99af-a2197045e7e2",
   "metadata": {},
   "outputs": [],
   "source": [
    "lstmcell = torch.nn.LSTMCell(4,3)\n",
    "linr = torch.nn.Linear(3,4)\n",
    "loss_fn = torch.nn.CrossEntropyLoss()\n",
    "optimizr = torch.optim.Adam(list(lstmcell.parameters())+list(linr.parameters()),lr=0.1)"
   ]
  },
  {
   "cell_type": "code",
   "execution_count": 149,
   "id": "a406ce22-1c12-4156-8ba9-9423306d0b8f",
   "metadata": {},
   "outputs": [],
   "source": [
    "for l in range(100):\n",
    "    loss = 0\n",
    "    ht = torch.zeros(3)\n",
    "    ct = torch.zeros(3)\n",
    "    for t in range(len(X)):\n",
    "        Xt,yt = X[t],y[t]\n",
    "        ht,ct = lstmcell(Xt,(ht,ct))\n",
    "        netout_t = linr(ht)\n",
    "        loss = loss + loss_fn(netout_t,yt)\n",
    "    loss = loss/L\n",
    "    loss.backward()\n",
    "    optimizr.step()\n",
    "    optimizr.zero_grad()"
   ]
  },
  {
   "cell_type": "code",
   "execution_count": 150,
   "id": "74a4a7fa-ed32-49fa-9450-321d5a979fca",
   "metadata": {},
   "outputs": [
    {
     "data": {
      "text/plain": [
       "tensor([[2.0200e-03, 9.7144e-01, 1.5596e-02, 1.0939e-02],\n",
       "        [9.8657e-01, 3.4276e-08, 1.3420e-02, 5.1240e-06],\n",
       "        [1.6634e-02, 1.8627e-03, 9.6436e-01, 1.7148e-02],\n",
       "        ...,\n",
       "        [1.8804e-02, 4.0043e-03, 9.6906e-01, 8.1301e-03],\n",
       "        [9.9448e-01, 1.0317e-05, 3.7891e-03, 1.7218e-03],\n",
       "        [1.2681e-04, 7.6272e-04, 4.3521e-03, 9.9476e-01]],\n",
       "       grad_fn=<SoftmaxBackward0>)"
      ]
     },
     "execution_count": 150,
     "metadata": {},
     "output_type": "execute_result"
    }
   ],
   "source": [
    "h = torch.zeros(L,3)\n",
    "c = torch.zeros(L,3)\n",
    "ht = torch.zeros(3)\n",
    "ct = torch.zeros(3)\n",
    "h[0],c[0] = lstmcell(X[0],(ht,ct))\n",
    "for t in range(1,L):\n",
    "    h[t],c[t] = lstmcell(X[t],(h[t-1],c[t-1]))\n",
    "yhat = soft(linr(h))\n",
    "yhat"
   ]
  },
  {
   "cell_type": "code",
   "execution_count": 151,
   "id": "b0d46d86-9af5-4fdb-b87a-5f7f6d6a0138",
   "metadata": {},
   "outputs": [
    {
     "data": {
      "image/png": "[encoded data removed]",
      "text/plain": [
       "<Figure size 400x571.429 with 1 Axes>"
      ]
     },
     "metadata": {},
     "output_type": "display_data"
    }
   ],
   "source": [
    "mat = torch.concat([h,yhat],axis=1).data[:10]\n",
    "plt.matshow(mat,cmap='bwr',vmin=-1,vmax=1)\n",
    "plt.axvline(x=2.5,color='lime')\n",
    "plt.xticks(range(7),[r'$h_1$',r'$h_2$',r'$h_3$','$P_A$',r'$P_b$',r'$P_c$',r'$P_d$']);"
   ]
  },
  {
   "cell_type": "markdown",
   "id": "740bf746-a396-4695-a775-c5de4d8a17a2",
   "metadata": {},
   "source": [
    "# 6. `torch.nn.Module` + LSTM"
   ]
  },
  {
   "cell_type": "code",
   "execution_count": 67,
   "id": "0483ef7c-ba56-4917-8191-1ddd0ae429b8",
   "metadata": {},
   "outputs": [],
   "source": [
    "torch.manual_seed(43052)\n",
    "lstmcell = torch.nn.LSTMCell(4,2) # 숙성담당\n",
    "cook = torch.nn.Linear(2,4)\n",
    "lstm = torch.nn.LSTM(4,2) # <-- 이거로 학습\n",
    "lstm.weight_ih_l0.data = lstmcell.weight_ih.data\n",
    "lstm.weight_hh_l0.data = lstmcell.weight_hh.data\n",
    "lstm.bias_ih_l0.data = lstmcell.bias_ih.data\n",
    "lstm.bias_hh_l0.data = lstmcell.bias_hh.data\n",
    "loss_fn = torch.nn.CrossEntropyLoss()\n",
    "optimizr = torch.optim.Adam(list(lstm.parameters())+list(cook.parameters()),lr=0.1) \n",
    "#---#\n",
    "L = len(X)\n",
    "Water = torch.zeros(1,2)\n",
    "for epoc in range(1):\n",
    "    # 1 \n",
    "    h,(hL,cL) = lstm(X,(Water,Water))\n",
    "    netout = cook(h)\n",
    "    # 2 \n",
    "    loss = loss_fn(netout,y)\n",
    "    # 3\n",
    "    loss.backward()\n",
    "    # 4 \n",
    "    optimizr.step()\n",
    "    optimizr.zero_grad()"
   ]
  },
  {
   "cell_type": "code",
   "execution_count": 68,
   "id": "5ec6594f-7424-4ea5-a4f1-7cd1dbdbc7c4",
   "metadata": {},
   "outputs": [
    {
     "data": {
      "text/plain": [
       "(tensor([[0.1745, 0.1610]], grad_fn=<SqueezeBackward1>),\n",
       " tensor([[0.2894, 0.4533]], grad_fn=<SqueezeBackward1>))"
      ]
     },
     "execution_count": 68,
     "metadata": {},
     "output_type": "execute_result"
    }
   ],
   "source": [
    "hL,cL"
   ]
  }
 ],
 "metadata": {
  "kernelspec": {
   "display_name": "Python 3 (ipykernel)",
   "language": "python",
   "name": "python3"
  },
  "language_info": {
   "codemirror_mode": {
    "name": "ipython",
    "version": 3
   },
   "file_extension": ".py",
   "mimetype": "text/x-python",
   "name": "python",
   "nbconvert_exporter": "python",
   "pygments_lexer": "ipython3",
   "version": "3.12.2"
  }
 },
 "nbformat": 4,
 "nbformat_minor": 5
}
