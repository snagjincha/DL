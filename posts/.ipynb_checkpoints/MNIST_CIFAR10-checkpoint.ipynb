{
 "cells": [
  {
   "cell_type": "raw",
   "id": "aa82105c-6059-4a98-a443-f232db563e8a",
   "metadata": {},
   "source": [
    "---\n",
    "title: \"MNIST CIFAR10\"\n",
    "author: \"차상진\"\n",
    "date: \"2024-04-18\"\n",
    "---"
   ]
  },
  {
   "cell_type": "markdown",
   "id": "4e4660da-e7cd-44bb-bf88-a64db1d189d7",
   "metadata": {},
   "source": [
    "# 1. Imports"
   ]
  },
  {
   "cell_type": "code",
   "execution_count": 2,
   "id": "76ba9093-3501-43a4-b91e-63308ce63b49",
   "metadata": {},
   "outputs": [],
   "source": [
    "import torch\n",
    "import torchvision\n",
    "import matplotlib.pyplot as plt\n",
    "import pandas as pd\n",
    "from fastai.data.all import *\n",
    "from fastai.vision.all import * \n",
    "import fastai"
   ]
  },
  {
   "cell_type": "markdown",
   "id": "f83a76b8-159c-41e9-8b34-6537ff04a764",
   "metadata": {},
   "source": [
    "# 2. MNIST-직접설계"
   ]
  },
  {
   "cell_type": "code",
   "execution_count": 3,
   "id": "9791aeac-0b0d-4ec7-b108-59c6d7d6c38b",
   "metadata": {},
   "outputs": [
    {
     "data": {
      "text/plain": [
       "(#2) [Path('/root/.fastai/data/mnist_png/training'),Path('/root/.fastai/data/mnist_png/testing')]"
      ]
     },
     "execution_count": 3,
     "metadata": {},
     "output_type": "execute_result"
    }
   ],
   "source": [
    "path = untar_data(URLs.MNIST)\n",
    "path.ls()"
   ]
  },
  {
   "cell_type": "code",
   "execution_count": 4,
   "id": "039503a4-442e-45fc-8c31-59107e91172a",
   "metadata": {},
   "outputs": [],
   "source": [
    "X0 = torch.stack([torchvision.io.read_image(str(fname)) for fname in list(Path('/root/.fastai/data/mnist_png/training/0').ls())])\n",
    "X1 = torch.stack([torchvision.io.read_image(str(fname)) for fname in list(Path('/root/.fastai/data/mnist_png/training/1').ls())])\n",
    "X2 = torch.stack([torchvision.io.read_image(str(fname)) for fname in list(Path('/root/.fastai/data/mnist_png/training/2').ls())])\n",
    "X = torch.concat([X0,X1,X2],axis=0)/255\n",
    "y = torch.nn.functional.one_hot(torch.tensor([0]*len(X0) + [1]*len(X1) + [2]*len(X2))).float()\n",
    "XX0 = torch.stack([torchvision.io.read_image(str(fname)) for fname in list(Path('/root/.fastai/data/mnist_png/testing/0').ls())])\n",
    "XX1 = torch.stack([torchvision.io.read_image(str(fname)) for fname in list(Path('/root/.fastai/data/mnist_png/testing/1').ls())])\n",
    "XX2 = torch.stack([torchvision.io.read_image(str(fname)) for fname in list(Path('/root/.fastai/data/mnist_png/testing/2').ls())])\n",
    "XX = torch.concat([XX0,XX1,XX2],axis=0)/255\n",
    "yy = torch.nn.functional.one_hot(torch.tensor([0]*len(XX0) + [1]*len(XX1) + [2]*len(XX2))).float()"
   ]
  },
  {
   "cell_type": "code",
   "execution_count": 5,
   "id": "748b18c8-618b-4fe4-8dec-0211c8c64e1b",
   "metadata": {},
   "outputs": [
    {
     "name": "stdout",
     "output_type": "stream",
     "text": [
      "torch.Size([18623, 1, 28, 28])\n",
      "torch.Size([18623, 3])\n",
      "torch.Size([3147, 1, 28, 28])\n",
      "torch.Size([3147, 3])\n"
     ]
    }
   ],
   "source": [
    "print(X.shape)\n",
    "print(y.shape)\n",
    "print(XX.shape)\n",
    "print(yy.shape)"
   ]
  },
  {
   "cell_type": "code",
   "execution_count": 6,
   "id": "05572b70-ab68-44bb-96ab-937b5f2ed8a9",
   "metadata": {},
   "outputs": [
    {
     "data": {
      "text/plain": [
       "<matplotlib.image.AxesImage at 0x7fd6a5f17950>"
      ]
     },
     "execution_count": 6,
     "metadata": {},
     "output_type": "execute_result"
    },
    {
     "data": {
      "image/png": "[encoded data removed]",
      "text/plain": [
       "<Figure size 640x480 with 1 Axes>"
      ]
     },
     "metadata": {},
     "output_type": "display_data"
    }
   ],
   "source": [
    "plt.imshow(torch.einsum('cij -> ijc',X[0]),cmap='grey')"
   ]
  },
  {
   "cell_type": "markdown",
   "id": "a7551a37-aabc-4f67-a222-f32e4754d38d",
   "metadata": {},
   "source": [
    "(n,n,3)으로 차원이 설정되어 있어야 imshow를 할 수 있다.\n",
    "    \n",
    "(n,n,1)이면 흑백 3이면 컬러이다."
   ]
  },
  {
   "cell_type": "markdown",
   "id": "4f6a0863-0af7-497a-99e1-eb5959600e6d",
   "metadata": {},
   "source": [
    "## A. y:(n,3) - float형"
   ]
  },
  {
   "cell_type": "code",
   "execution_count": 9,
   "id": "8f925602-f506-4d62-b072-446e26c08841",
   "metadata": {},
   "outputs": [
    {
     "name": "stdout",
     "output_type": "stream",
     "text": [
      "train : 0.9846\n",
      "val : 0.9914\n"
     ]
    }
   ],
   "source": [
    "ds = torch.utils.data.TensorDataset(X,y)\n",
    "dl = torch.utils.data.DataLoader(ds,batch_size=128)\n",
    "\n",
    "net1 = torch.nn.Sequential(\n",
    "    torch.nn.Conv2d(1,16,(5,5)),\n",
    "    torch.nn.ReLU(),\n",
    "    torch.nn.MaxPool2d((2,2)),\n",
    "    torch.nn.Flatten()\n",
    ")\n",
    "\n",
    "net2 = torch.nn.Sequential(\n",
    "    torch.nn.Linear(2304,3)\n",
    ")\n",
    "net = torch.nn.Sequential(\n",
    "    net1,\n",
    "    net2\n",
    ")\n",
    "loss_fn = torch.nn.CrossEntropyLoss()\n",
    "optimizr = torch.optim.Adam(net.parameters())\n",
    "net.to('cuda:0')\n",
    "for epoc in range(10):\n",
    "    for xi,yi in dl:\n",
    "        loss = loss_fn(net(xi.to('cuda:0')),yi.to('cuda:0'))\n",
    "        loss.backward()\n",
    "        optimizr.step()\n",
    "        optimizr.zero_grad()\n",
    "\n",
    "net.to('cpu')\n",
    "\n",
    "print(f'train : {(net(X).data.argmax(axis=1) == y.argmax(axis=1)).float().mean():.4f}')\n",
    "print(f'val : {(net(XX).data.argmax(axis=1) == yy.argmax(axis=1)).float().mean():.4f}')"
   ]
  },
  {
   "cell_type": "markdown",
   "id": "ea9d30bb-03b5-4a26-9f46-fee17ba84613",
   "metadata": {},
   "source": [
    "`-` 항상 하던 것."
   ]
  },
  {
   "cell_type": "markdown",
   "id": "6379b3c5-100b-43a1-bd64-699206df5b78",
   "metadata": {},
   "source": [
    "## B. y:(n,) - int형"
   ]
  },
  {
   "cell_type": "code",
   "execution_count": 10,
   "id": "ac241d88-dbf4-4bd1-9547-7fe70811ea74",
   "metadata": {},
   "outputs": [],
   "source": [
    "X0 = torch.stack([torchvision.io.read_image(str(fname)) for fname in list(Path('/root/.fastai/data/mnist_png/training/0').ls())])\n",
    "X1 = torch.stack([torchvision.io.read_image(str(fname)) for fname in list(Path('/root/.fastai/data/mnist_png/training/1').ls())])\n",
    "X2 = torch.stack([torchvision.io.read_image(str(fname)) for fname in list(Path('/root/.fastai/data/mnist_png/training/2').ls())])\n",
    "X = torch.concat([X0,X1,X2],axis=0)/255\n",
    "y = torch.nn.functional.one_hot(torch.tensor([0]*len(X0) + [1]*len(X1) + [2]*len(X2))).float()\n",
    "XX0 = torch.stack([torchvision.io.read_image(str(fname)) for fname in list(Path('/root/.fastai/data/mnist_png/testing/0').ls())])\n",
    "XX1 = torch.stack([torchvision.io.read_image(str(fname)) for fname in list(Path('/root/.fastai/data/mnist_png/testing/1').ls())])\n",
    "XX2 = torch.stack([torchvision.io.read_image(str(fname)) for fname in list(Path('/root/.fastai/data/mnist_png/testing/2').ls())])\n",
    "XX = torch.concat([XX0,XX1,XX2],axis=0)/255\n",
    "yy = torch.nn.functional.one_hot(torch.tensor([0]*len(XX0) + [1]*len(XX1) + [2]*len(XX2))).float()"
   ]
  },
  {
   "cell_type": "code",
   "execution_count": 11,
   "id": "e15dc398-f7e5-4807-b1cc-199f3304656f",
   "metadata": {},
   "outputs": [],
   "source": [
    "y = y.argmax(axis=-1)\n",
    "yy = yy.argmax(axis=-1)"
   ]
  },
  {
   "cell_type": "markdown",
   "id": "53d09d44-70a0-413b-8f1f-2503bfb8371d",
   "metadata": {},
   "source": [
    "y와 yy를 int형으로 바꿔야하기에 argmax함수를 이용했다."
   ]
  },
  {
   "cell_type": "code",
   "execution_count": 12,
   "id": "58a892c5-00f0-4041-a5ce-702a4648f1db",
   "metadata": {},
   "outputs": [
    {
     "name": "stdout",
     "output_type": "stream",
     "text": [
      "torch.Size([18623, 1, 28, 28])\n",
      "torch.Size([18623])\n",
      "torch.Size([3147, 1, 28, 28])\n",
      "torch.Size([3147])\n"
     ]
    }
   ],
   "source": [
    "print(X.shape)\n",
    "print(y.shape)\n",
    "print(XX.shape)\n",
    "print(yy.shape)"
   ]
  },
  {
   "cell_type": "code",
   "execution_count": 13,
   "id": "2b5f0546-9911-4b64-a603-be7cbd6c897b",
   "metadata": {},
   "outputs": [
    {
     "name": "stdout",
     "output_type": "stream",
     "text": [
      "train : 0.9792\n",
      "val : 0.9857\n"
     ]
    }
   ],
   "source": [
    "ds = torch.utils.data.TensorDataset(X,y)\n",
    "dl = torch.utils.data.DataLoader(ds,batch_size=128)\n",
    "\n",
    "net1 =  torch.nn.Sequential(\n",
    "    torch.nn.Conv2d(1,16,(5,5)),\n",
    "    torch.nn.ReLU(),\n",
    "    torch.nn.MaxPool2d((2,2)),\n",
    "    torch.nn.Flatten()\n",
    ")\n",
    "net2 = torch.nn.Sequential(\n",
    "    torch.nn.Linear(2304,3)\n",
    ")\n",
    "net = torch.nn.Sequential(\n",
    "    net1,\n",
    "    net2\n",
    ")\n",
    "loss_fn = torch.nn.CrossEntropyLoss()\n",
    "optimizr = torch.optim.Adam(net.parameters())\n",
    "net.to('cuda:0')\n",
    "for epoc in range(10):\n",
    "    for xi,yi in dl:\n",
    "        # netout = net(xi.to('cuda:0'))\n",
    "        loss = loss_fn(net(xi.to('cuda:0')),yi.to('cuda:0'))\n",
    "        loss.backward()\n",
    "        optimizr.step()\n",
    "        optimizr.zero_grad()\n",
    "net.to(\"cpu\")\n",
    "print(f'train : {(net(X).data.argmax(axis=1) == y).float().mean():.4f}')\n",
    "print(f'val : {(net(XX).data.argmax(axis=1) == yy).float().mean():.4f}')"
   ]
  },
  {
   "cell_type": "markdown",
   "id": "07a7e3dc-e432-4266-a1bf-5d240eefc83a",
   "metadata": {},
   "source": [
    "`-` 손실함수로 torch.nn.CrossEntropyLoss()를 사용하면 one_hot_encoding , float형 전처리 모두 필요없다 알아서 다 해줌"
   ]
  },
  {
   "cell_type": "markdown",
   "id": "a700e1e4-f148-4537-b01b-9961cb515bc1",
   "metadata": {},
   "source": [
    "`-` 받아야하는 class가 1보다 크면 CrossEntropyLoss()를 사용"
   ]
  },
  {
   "cell_type": "markdown",
   "id": "6e535a27-2e57-4186-8a10-397ce74c7ba0",
   "metadata": {},
   "source": [
    "# 4. Fashion-MNIST"
   ]
  },
  {
   "cell_type": "code",
   "execution_count": 14,
   "id": "0135b87e-a31f-442a-ba47-8f91dc56b1e8",
   "metadata": {},
   "outputs": [],
   "source": [
    "df_train=pd.read_csv('https://media.githubusercontent.com/media/guebin/PP2023/main/posts/fashion-mnist_train.csv')\n",
    "df_test=pd.read_csv('https://media.githubusercontent.com/media/guebin/PP2023/main/posts/fashion-mnist_test.csv')\n",
    "def rshp(row):\n",
    "    return row.reshape(1,28,28)\n",
    "X = torch.tensor(np.apply_along_axis(rshp,axis=1,arr=np.array(df_train.iloc[:,1:]))).float()\n",
    "XX  = torch.tensor(np.apply_along_axis(rshp,axis=1,arr=np.array(df_test.iloc[:,1:]))).float()\n",
    "y = torch.tensor(np.array(df_train.label))\n",
    "yy  = torch.tensor(np.array(df_test.label))"
   ]
  },
  {
   "cell_type": "code",
   "execution_count": 15,
   "id": "b6152c47-4922-4704-8e72-5ba6f83ddcc5",
   "metadata": {},
   "outputs": [
    {
     "name": "stdout",
     "output_type": "stream",
     "text": [
      "torch.Size([60000, 1, 28, 28]) \t torch.float32\n",
      "torch.Size([60000]) \t\t\t torch.int64\n",
      "torch.Size([10000, 1, 28, 28]) \t torch.float32\n",
      "torch.Size([10000]) \t\t\t torch.int64\n"
     ]
    }
   ],
   "source": [
    "print(X.shape,'\\t',X.dtype)\n",
    "print(y.shape,'\\t\\t\\t',y.dtype)\n",
    "print(XX.shape,'\\t',XX.dtype)\n",
    "print(yy.shape,'\\t\\t\\t',yy.dtype)"
   ]
  },
  {
   "cell_type": "code",
   "execution_count": 16,
   "id": "2d3d178a-a1ba-4559-a057-86174c302831",
   "metadata": {},
   "outputs": [
    {
     "data": {
      "text/plain": [
       "<matplotlib.image.AxesImage at 0x7fd6a5c11340>"
      ]
     },
     "execution_count": 16,
     "metadata": {},
     "output_type": "execute_result"
    },
    {
     "data": {
      "image/png": "[encoded data removed]",
      "text/plain": [
       "<Figure size 640x480 with 1 Axes>"
      ]
     },
     "metadata": {},
     "output_type": "display_data"
    }
   ],
   "source": [
    "plt.imshow(torch.einsum('cij -> ijc',X[0]),cmap=\"gray\")"
   ]
  },
  {
   "cell_type": "markdown",
   "id": "6067ee32-5359-4e0b-ae30-8af3ebf46ae8",
   "metadata": {},
   "source": [
    "## A. torch"
   ]
  },
  {
   "cell_type": "code",
   "execution_count": 17,
   "id": "66c0bcf4-c38e-4a5b-9576-a526176bc60a",
   "metadata": {},
   "outputs": [
    {
     "name": "stdout",
     "output_type": "stream",
     "text": [
      "train: 0.9073\n",
      "val: 0.8723\n"
     ]
    }
   ],
   "source": [
    "ds = torch.utils.data.TensorDataset(X,y)\n",
    "dl = torch.utils.data.DataLoader(ds,batch_size=128)\n",
    "\n",
    "net1 = torch.nn.Sequential(\n",
    "    torch.nn.Conv2d(1,16,(5,5)),\n",
    "    torch.nn.ReLU(),\n",
    "    torch.nn.MaxPool2d((2,2)),\n",
    "    torch.nn.Flatten()\n",
    ")\n",
    "net2 = torch.nn.Sequential(\n",
    "    torch.nn.Linear(2304,10)\n",
    ")\n",
    "net = torch.nn.Sequential(\n",
    "    net1,\n",
    "    net2\n",
    ")\n",
    "loss_fn = torch.nn.CrossEntropyLoss()\n",
    "optimizr = torch.optim.Adam(net.parameters())\n",
    "net.to('cuda:0')\n",
    "for epoc in range(10):\n",
    "    for xi,yi in dl:\n",
    "        netout = net(xi.to('cuda:0'))\n",
    "        loss = loss_fn(netout,yi.to('cuda:0'))\n",
    "        loss.backward()\n",
    "        optimizr.step()\n",
    "        optimizr.zero_grad()\n",
    "net.to('cpu')\n",
    "\n",
    "print(f'train: {(net(X).data.argmax(axis=1) == y).float().mean():.4f}')\n",
    "print(f'val: {(net(XX).data.argmax(axis=1) == yy).float().mean():.4f}')"
   ]
  },
  {
   "cell_type": "markdown",
   "id": "ae4cd755-5eb6-4162-9648-00df4b575c83",
   "metadata": {},
   "source": [
    "`-` 항상 하던 것\n",
    "\n",
    "`-` 받아야하는 class가 10개니까 torch.nn.CrossEntropyLoss() 사용하고 어자피 float형 안 맞춰도 되니까 y를 int형으로 설정"
   ]
  },
  {
   "cell_type": "markdown",
   "id": "faa9498f-5ca4-4cab-839e-d224acca266f",
   "metadata": {},
   "source": [
    "## B. fastai"
   ]
  },
  {
   "cell_type": "code",
   "execution_count": 18,
   "id": "dc37f4fe-3078-496a-9b44-9420c039ca1e",
   "metadata": {},
   "outputs": [
    {
     "data": {
      "text/html": [
       "\n",
       "<style>\n",
       "    /* Turns off some styling */\n",
       "    progress {\n",
       "        /* gets rid of default border in Firefox and Opera. */\n",
       "        border: none;\n",
       "        /* Needs to be in here for Safari polyfill so background images work as expected. */\n",
       "        background-size: auto;\n",
       "    }\n",
       "    progress:not([value]), progress:not([value])::-webkit-progress-bar {\n",
       "        background: repeating-linear-gradient(45deg, #7e7e7e, #7e7e7e 10px, #5c5c5c 10px, #5c5c5c 20px);\n",
       "    }\n",
       "    .progress-bar-interrupted, .progress-bar-interrupted::-webkit-progress-bar {\n",
       "        background: #F44336;\n",
       "    }\n",
       "</style>\n"
      ],
      "text/plain": [
       "<IPython.core.display.HTML object>"
      ]
     },
     "metadata": {},
     "output_type": "display_data"
    },
    {
     "data": {
      "text/html": [
       "<table border=\"1\" class=\"dataframe\">\n",
       "  <thead>\n",
       "    <tr style=\"text-align: left;\">\n",
       "      <th>epoch</th>\n",
       "      <th>train_loss</th>\n",
       "      <th>valid_loss</th>\n",
       "      <th>accuracy</th>\n",
       "      <th>time</th>\n",
       "    </tr>\n",
       "  </thead>\n",
       "  <tbody>\n",
       "    <tr>\n",
       "      <td>0</td>\n",
       "      <td>0.554820</td>\n",
       "      <td>0.531753</td>\n",
       "      <td>0.838000</td>\n",
       "      <td>00:01</td>\n",
       "    </tr>\n",
       "    <tr>\n",
       "      <td>1</td>\n",
       "      <td>0.393958</td>\n",
       "      <td>0.425235</td>\n",
       "      <td>0.858600</td>\n",
       "      <td>00:01</td>\n",
       "    </tr>\n",
       "    <tr>\n",
       "      <td>2</td>\n",
       "      <td>0.352178</td>\n",
       "      <td>0.419405</td>\n",
       "      <td>0.868800</td>\n",
       "      <td>00:01</td>\n",
       "    </tr>\n",
       "    <tr>\n",
       "      <td>3</td>\n",
       "      <td>0.317096</td>\n",
       "      <td>0.415394</td>\n",
       "      <td>0.873600</td>\n",
       "      <td>00:01</td>\n",
       "    </tr>\n",
       "    <tr>\n",
       "      <td>4</td>\n",
       "      <td>0.295001</td>\n",
       "      <td>0.433857</td>\n",
       "      <td>0.870100</td>\n",
       "      <td>00:01</td>\n",
       "    </tr>\n",
       "    <tr>\n",
       "      <td>5</td>\n",
       "      <td>0.279118</td>\n",
       "      <td>0.443609</td>\n",
       "      <td>0.870300</td>\n",
       "      <td>00:01</td>\n",
       "    </tr>\n",
       "    <tr>\n",
       "      <td>6</td>\n",
       "      <td>0.271758</td>\n",
       "      <td>0.461911</td>\n",
       "      <td>0.870000</td>\n",
       "      <td>00:01</td>\n",
       "    </tr>\n",
       "    <tr>\n",
       "      <td>7</td>\n",
       "      <td>0.262299</td>\n",
       "      <td>0.472799</td>\n",
       "      <td>0.866900</td>\n",
       "      <td>00:01</td>\n",
       "    </tr>\n",
       "    <tr>\n",
       "      <td>8</td>\n",
       "      <td>0.251994</td>\n",
       "      <td>0.489210</td>\n",
       "      <td>0.867200</td>\n",
       "      <td>00:01</td>\n",
       "    </tr>\n",
       "    <tr>\n",
       "      <td>9</td>\n",
       "      <td>0.247002</td>\n",
       "      <td>0.501473</td>\n",
       "      <td>0.868800</td>\n",
       "      <td>00:01</td>\n",
       "    </tr>\n",
       "  </tbody>\n",
       "</table>"
      ],
      "text/plain": [
       "<IPython.core.display.HTML object>"
      ]
     },
     "metadata": {},
     "output_type": "display_data"
    },
    {
     "name": "stdout",
     "output_type": "stream",
     "text": [
      "train: 0.9114\n",
      "val: 0.8688\n"
     ]
    }
   ],
   "source": [
    "# Step1: 데이터정리 (dls생성)\n",
    "ds1 = torch.utils.data.TensorDataset(X,y)\n",
    "ds2 = torch.utils.data.TensorDataset(XX,yy)\n",
    "dl1 = torch.utils.data.DataLoader(ds1,batch_size=128)\n",
    "dl2 = torch.utils.data.DataLoader(ds2,batch_size=128)\n",
    "dls = fastai.data.core.DataLoaders(dl1,dl2)\n",
    "# Step2: 적합에 필요한 오브젝트 생성\n",
    "net1 = torch.nn.Sequential(\n",
    "    torch.nn.Conv2d(1,16,(5,5)),\n",
    "    torch.nn.ReLU(),\n",
    "    torch.nn.MaxPool2d((2,2)),\n",
    "    torch.nn.Flatten()\n",
    ")\n",
    "net2 = torch.nn.Sequential(\n",
    "    torch.nn.Linear(2304,10),\n",
    ")\n",
    "net = torch.nn.Sequential(\n",
    "    net1, # 2d-part\n",
    "    net2, # 1d-part \n",
    ")\n",
    "loss_fn = torch.nn.CrossEntropyLoss()\n",
    "# optimizr = torch.optim.Adam(net.parameters())\n",
    "# Step3: 적합 \n",
    "lrnr = fastai.learner.Learner(\n",
    "    dls=dls,\n",
    "    model = net,\n",
    "    loss_func = loss_fn,\n",
    "    metrics = [fastai.metrics.accuracy]\n",
    ")\n",
    "\n",
    "lrnr.fit(10)\n",
    "\n",
    "# Step4: 예측 및 평가 \n",
    "lrnr.model.to('cpu')\n",
    "\n",
    "print(f'train: {(net(X).data.argmax(axis=1) == y).float().mean():.4f}')\n",
    "print(f'val: {(net(XX).data.argmax(axis=1) == yy).float().mean():.4f}')"
   ]
  },
  {
   "cell_type": "markdown",
   "id": "21fdbf87-998a-4807-b727-25554d2ded61",
   "metadata": {},
   "source": [
    "`-` 조금 새롭게 fastai 이용\n",
    "\n",
    "optimizr 사용 안 해도 된다. lrnr 새롭게 정의해서 손실함수 넣어주고 원하는 적합기준 정해주면 된다.\n",
    "    \n",
    "for epoc 귀찮게 길게 쓸 필요 없이 fit하면 바로 학습\n",
    "\n",
    "lrnr 사용하면 to.('cuda:0') 사용 할 필요없이 바로 GPU로 연산해준다."
   ]
  },
  {
   "cell_type": "markdown",
   "id": "11c30e9a-543f-41c7-b719-03258f8f5419",
   "metadata": {},
   "source": [
    "# 5. CIFAR10 – transfer"
   ]
  },
  {
   "cell_type": "markdown",
   "id": "b2d09519-a595-4e08-a57f-44bbf336e3d7",
   "metadata": {},
   "source": [
    "## A. 데이터 불러오기 및 전처리"
   ]
  },
  {
   "cell_type": "code",
   "execution_count": 19,
   "id": "471d586d-5b05-40cd-9404-4bc7a62d4727",
   "metadata": {},
   "outputs": [
    {
     "data": {
      "text/plain": [
       "(#3) [Path('/root/.fastai/data/cifar10/train'),Path('/root/.fastai/data/cifar10/labels.txt'),Path('/root/.fastai/data/cifar10/test')]"
      ]
     },
     "execution_count": 19,
     "metadata": {},
     "output_type": "execute_result"
    }
   ],
   "source": [
    "path = fastai.data.external.untar_data(fastai.data.external.URLs.CIFAR)\n",
    "path.ls()"
   ]
  },
  {
   "cell_type": "code",
   "execution_count": 20,
   "id": "befe5882-7240-4251-bf79-ccb17bb93ae1",
   "metadata": {},
   "outputs": [
    {
     "data": {
      "text/plain": [
       "['ship',\n",
       " 'horse',\n",
       " 'bird',\n",
       " 'cat',\n",
       " 'truck',\n",
       " 'deer',\n",
       " 'frog',\n",
       " 'dog',\n",
       " 'automobile',\n",
       " 'airplane']"
      ]
     },
     "execution_count": 20,
     "metadata": {},
     "output_type": "execute_result"
    }
   ],
   "source": [
    "labels = [str(l).split('/')[-1] for l in (path/'train').ls()]\n",
    "labels"
   ]
  },
  {
   "cell_type": "code",
   "execution_count": 21,
   "id": "31aeb754-c7d8-4c9a-84c0-e4ae849345cd",
   "metadata": {},
   "outputs": [],
   "source": [
    "X = torch.stack([torchvision.io.read_image(str(fname)) for l in labels for fname in (path/f'train/{l}').ls()],axis=0).float()/255\n",
    "XX = torch.stack([torchvision.io.read_image(str(fname)) for l in labels for fname in (path/f'test/{l}').ls()],axis=0).float()/255\n",
    "y = torch.tensor([i for i,l in enumerate(labels) for fname in (path/f'train/{l}').ls()])\n",
    "yy = torch.tensor([i for i,l in enumerate(labels) for fname in (path/f'test/{l}').ls()])"
   ]
  },
  {
   "cell_type": "code",
   "execution_count": 22,
   "id": "d8561025-2875-4ae1-a21b-15a5fe14fa3a",
   "metadata": {},
   "outputs": [
    {
     "name": "stdout",
     "output_type": "stream",
     "text": [
      "torch.Size([50000, 3, 32, 32]) \t torch.float32\n",
      "torch.Size([50000]) \t\t\t torch.int64\n",
      "torch.Size([10000, 3, 32, 32]) \t torch.float32\n",
      "torch.Size([10000]) \t\t\t torch.int64\n"
     ]
    }
   ],
   "source": [
    "print(X.shape,'\\t',X.dtype)\n",
    "print(y.shape,'\\t\\t\\t',y.dtype)\n",
    "print(XX.shape,'\\t',XX.dtype)\n",
    "print(yy.shape,'\\t\\t\\t',yy.dtype)"
   ]
  },
  {
   "cell_type": "code",
   "execution_count": 23,
   "id": "670d163a-3db1-44d7-bb13-8205ac494c2a",
   "metadata": {},
   "outputs": [
    {
     "data": {
      "text/plain": [
       "Text(0.5, 1.0, 'frog,6')"
      ]
     },
     "execution_count": 23,
     "metadata": {},
     "output_type": "execute_result"
    },
    {
     "data": {
      "image/png": "[encoded data removed]",
      "text/plain": [
       "<Figure size 640x480 with 1 Axes>"
      ]
     },
     "metadata": {},
     "output_type": "display_data"
    }
   ],
   "source": [
    "ylabel = [l for l in labels for fname in (path/f'train/{l}').ls()]\n",
    "i = 30002\n",
    "plt.imshow(torch.einsum('cij->ijc',X[i]))\n",
    "plt.title(f'{ylabel[i]},{y[i]}')"
   ]
  },
  {
   "cell_type": "markdown",
   "id": "f1ba6cf9-0df6-4804-9494-f925aaab241f",
   "metadata": {},
   "source": [
    "## B. 수제네트워크로 학습"
   ]
  },
  {
   "cell_type": "markdown",
   "id": "b328bef8-bd82-42fe-b3bd-9556f9e81569",
   "metadata": {},
   "source": [
    "`-` shuffle 적용 전"
   ]
  },
  {
   "cell_type": "code",
   "execution_count": 29,
   "id": "6f61c556-37c2-4a7d-90e4-b1cad00fa53c",
   "metadata": {},
   "outputs": [
    {
     "data": {
      "text/html": [
       "\n",
       "<style>\n",
       "    /* Turns off some styling */\n",
       "    progress {\n",
       "        /* gets rid of default border in Firefox and Opera. */\n",
       "        border: none;\n",
       "        /* Needs to be in here for Safari polyfill so background images work as expected. */\n",
       "        background-size: auto;\n",
       "    }\n",
       "    progress:not([value]), progress:not([value])::-webkit-progress-bar {\n",
       "        background: repeating-linear-gradient(45deg, #7e7e7e, #7e7e7e 10px, #5c5c5c 10px, #5c5c5c 20px);\n",
       "    }\n",
       "    .progress-bar-interrupted, .progress-bar-interrupted::-webkit-progress-bar {\n",
       "        background: #F44336;\n",
       "    }\n",
       "</style>\n"
      ],
      "text/plain": [
       "<IPython.core.display.HTML object>"
      ]
     },
     "metadata": {},
     "output_type": "display_data"
    },
    {
     "data": {
      "text/html": [
       "<table border=\"1\" class=\"dataframe\">\n",
       "  <thead>\n",
       "    <tr style=\"text-align: left;\">\n",
       "      <th>epoch</th>\n",
       "      <th>train_loss</th>\n",
       "      <th>valid_loss</th>\n",
       "      <th>accuracy</th>\n",
       "      <th>time</th>\n",
       "    </tr>\n",
       "  </thead>\n",
       "  <tbody>\n",
       "    <tr>\n",
       "      <td>0</td>\n",
       "      <td>2.423931</td>\n",
       "      <td>2.302204</td>\n",
       "      <td>0.095300</td>\n",
       "      <td>00:01</td>\n",
       "    </tr>\n",
       "    <tr>\n",
       "      <td>1</td>\n",
       "      <td>2.060858</td>\n",
       "      <td>7.854949</td>\n",
       "      <td>0.100000</td>\n",
       "      <td>00:01</td>\n",
       "    </tr>\n",
       "    <tr>\n",
       "      <td>2</td>\n",
       "      <td>2.388210</td>\n",
       "      <td>2.297860</td>\n",
       "      <td>0.103100</td>\n",
       "      <td>00:01</td>\n",
       "    </tr>\n",
       "    <tr>\n",
       "      <td>3</td>\n",
       "      <td>2.465129</td>\n",
       "      <td>2.278522</td>\n",
       "      <td>0.103700</td>\n",
       "      <td>00:01</td>\n",
       "    </tr>\n",
       "    <tr>\n",
       "      <td>4</td>\n",
       "      <td>2.647360</td>\n",
       "      <td>2.273736</td>\n",
       "      <td>0.141000</td>\n",
       "      <td>00:01</td>\n",
       "    </tr>\n",
       "    <tr>\n",
       "      <td>5</td>\n",
       "      <td>2.334776</td>\n",
       "      <td>2.246390</td>\n",
       "      <td>0.158400</td>\n",
       "      <td>00:01</td>\n",
       "    </tr>\n",
       "    <tr>\n",
       "      <td>6</td>\n",
       "      <td>2.566397</td>\n",
       "      <td>2.217799</td>\n",
       "      <td>0.150400</td>\n",
       "      <td>00:01</td>\n",
       "    </tr>\n",
       "    <tr>\n",
       "      <td>7</td>\n",
       "      <td>2.194528</td>\n",
       "      <td>3.984030</td>\n",
       "      <td>0.105600</td>\n",
       "      <td>00:01</td>\n",
       "    </tr>\n",
       "    <tr>\n",
       "      <td>8</td>\n",
       "      <td>2.700539</td>\n",
       "      <td>2.256594</td>\n",
       "      <td>0.154400</td>\n",
       "      <td>00:01</td>\n",
       "    </tr>\n",
       "    <tr>\n",
       "      <td>9</td>\n",
       "      <td>2.189913</td>\n",
       "      <td>3.454185</td>\n",
       "      <td>0.127800</td>\n",
       "      <td>00:01</td>\n",
       "    </tr>\n",
       "  </tbody>\n",
       "</table>"
      ],
      "text/plain": [
       "<IPython.core.display.HTML object>"
      ]
     },
     "metadata": {},
     "output_type": "display_data"
    },
    {
     "name": "stdout",
     "output_type": "stream",
     "text": [
      "train: 0.1267\n",
      "val: 0.1278\n"
     ]
    }
   ],
   "source": [
    "# Step1:\n",
    "ds1 = torch.utils.data.TensorDataset(X,y)\n",
    "ds2 = torch.utils.data.TensorDataset(XX,yy)\n",
    "dl1 = torch.utils.data.DataLoader(ds1,batch_size=256)\n",
    "dl2 = torch.utils.data.DataLoader(ds2,batch_size=100)\n",
    "dls = fastai.data.core.DataLoaders(dl1,dl2)\n",
    "# Step2:\n",
    "net1 = torch.nn.Sequential(\n",
    "    torch.nn.Conv2d(3,16,(5,5)),\n",
    "    torch.nn.ReLU(),\n",
    "    torch.nn.MaxPool2d((2,2)),\n",
    "    torch.nn.Flatten()\n",
    ")\n",
    "net2 = torch.nn.Sequential(\n",
    "    torch.nn.Linear(3136,10),\n",
    ")\n",
    "net = torch.nn.Sequential(\n",
    "    net1, # 2d-part\n",
    "    net2, # 1d-part \n",
    ")\n",
    "loss_fn = torch.nn.CrossEntropyLoss()\n",
    "lrnr = fastai.learner.Learner(\n",
    "    dls=dls,\n",
    "    model=net,\n",
    "    loss_func=loss_fn,\n",
    "    #--#\n",
    "    metrics=[fastai.metrics.accuracy]\n",
    ")\n",
    "# Step3:\n",
    "lrnr.fit(10)\n",
    "# Step4: \n",
    "lrnr.model.to(\"cpu\")\n",
    "print(f'train: {(lrnr.model(X).data.argmax(axis=1) == y).float().mean():.4f}')\n",
    "print(f'val: {(lrnr.model(XX).data.argmax(axis=1) == yy).float().mean():.4f}')"
   ]
  },
  {
   "cell_type": "markdown",
   "id": "0be6ad18-470a-46df-9e4a-d42dfb2bb701",
   "metadata": {},
   "source": [
    "`-` shuffle 적용 후"
   ]
  },
  {
   "cell_type": "code",
   "execution_count": 30,
   "id": "f8febfeb-6d35-4f78-9799-4c48141b8641",
   "metadata": {},
   "outputs": [
    {
     "data": {
      "text/html": [
       "\n",
       "<style>\n",
       "    /* Turns off some styling */\n",
       "    progress {\n",
       "        /* gets rid of default border in Firefox and Opera. */\n",
       "        border: none;\n",
       "        /* Needs to be in here for Safari polyfill so background images work as expected. */\n",
       "        background-size: auto;\n",
       "    }\n",
       "    progress:not([value]), progress:not([value])::-webkit-progress-bar {\n",
       "        background: repeating-linear-gradient(45deg, #7e7e7e, #7e7e7e 10px, #5c5c5c 10px, #5c5c5c 20px);\n",
       "    }\n",
       "    .progress-bar-interrupted, .progress-bar-interrupted::-webkit-progress-bar {\n",
       "        background: #F44336;\n",
       "    }\n",
       "</style>\n"
      ],
      "text/plain": [
       "<IPython.core.display.HTML object>"
      ]
     },
     "metadata": {},
     "output_type": "display_data"
    },
    {
     "data": {
      "text/html": [
       "<table border=\"1\" class=\"dataframe\">\n",
       "  <thead>\n",
       "    <tr style=\"text-align: left;\">\n",
       "      <th>epoch</th>\n",
       "      <th>train_loss</th>\n",
       "      <th>valid_loss</th>\n",
       "      <th>accuracy</th>\n",
       "      <th>time</th>\n",
       "    </tr>\n",
       "  </thead>\n",
       "  <tbody>\n",
       "    <tr>\n",
       "      <td>0</td>\n",
       "      <td>1.666294</td>\n",
       "      <td>1.589550</td>\n",
       "      <td>0.446000</td>\n",
       "      <td>00:01</td>\n",
       "    </tr>\n",
       "    <tr>\n",
       "      <td>1</td>\n",
       "      <td>1.476124</td>\n",
       "      <td>1.465711</td>\n",
       "      <td>0.491000</td>\n",
       "      <td>00:01</td>\n",
       "    </tr>\n",
       "    <tr>\n",
       "      <td>2</td>\n",
       "      <td>1.367271</td>\n",
       "      <td>1.363849</td>\n",
       "      <td>0.534000</td>\n",
       "      <td>00:01</td>\n",
       "    </tr>\n",
       "    <tr>\n",
       "      <td>3</td>\n",
       "      <td>1.274095</td>\n",
       "      <td>1.274507</td>\n",
       "      <td>0.552500</td>\n",
       "      <td>00:01</td>\n",
       "    </tr>\n",
       "    <tr>\n",
       "      <td>4</td>\n",
       "      <td>1.222440</td>\n",
       "      <td>1.225671</td>\n",
       "      <td>0.574500</td>\n",
       "      <td>00:01</td>\n",
       "    </tr>\n",
       "    <tr>\n",
       "      <td>5</td>\n",
       "      <td>1.177622</td>\n",
       "      <td>1.223371</td>\n",
       "      <td>0.574400</td>\n",
       "      <td>00:01</td>\n",
       "    </tr>\n",
       "    <tr>\n",
       "      <td>6</td>\n",
       "      <td>1.149504</td>\n",
       "      <td>1.184314</td>\n",
       "      <td>0.594200</td>\n",
       "      <td>00:01</td>\n",
       "    </tr>\n",
       "    <tr>\n",
       "      <td>7</td>\n",
       "      <td>1.120652</td>\n",
       "      <td>1.159286</td>\n",
       "      <td>0.593100</td>\n",
       "      <td>00:01</td>\n",
       "    </tr>\n",
       "    <tr>\n",
       "      <td>8</td>\n",
       "      <td>1.106153</td>\n",
       "      <td>1.153125</td>\n",
       "      <td>0.602100</td>\n",
       "      <td>00:01</td>\n",
       "    </tr>\n",
       "    <tr>\n",
       "      <td>9</td>\n",
       "      <td>1.081379</td>\n",
       "      <td>1.126705</td>\n",
       "      <td>0.608200</td>\n",
       "      <td>00:01</td>\n",
       "    </tr>\n",
       "  </tbody>\n",
       "</table>"
      ],
      "text/plain": [
       "<IPython.core.display.HTML object>"
      ]
     },
     "metadata": {},
     "output_type": "display_data"
    },
    {
     "name": "stdout",
     "output_type": "stream",
     "text": [
      "train: 0.6408\n",
      "val: 0.6082\n"
     ]
    }
   ],
   "source": [
    "# Step1:\n",
    "ds1 = torch.utils.data.TensorDataset(X,y)\n",
    "ds2 = torch.utils.data.TensorDataset(XX,yy)\n",
    "dl1 = torch.utils.data.DataLoader(ds1,batch_size=256,shuffle=True)\n",
    "dl2 = torch.utils.data.DataLoader(ds2,batch_size=100)\n",
    "dls = fastai.data.core.DataLoaders(dl1,dl2)\n",
    "# Step2:\n",
    "net1 = torch.nn.Sequential(\n",
    "    torch.nn.Conv2d(3,16,(5,5)),\n",
    "    torch.nn.ReLU(),\n",
    "    torch.nn.MaxPool2d((2,2)),\n",
    "    torch.nn.Flatten()\n",
    ")\n",
    "net2 = torch.nn.Sequential(\n",
    "    torch.nn.Linear(3136,10),\n",
    ")\n",
    "net = torch.nn.Sequential(\n",
    "    net1, # 2d-part\n",
    "    net2, # 1d-part \n",
    ")\n",
    "loss_fn = torch.nn.CrossEntropyLoss()\n",
    "lrnr = fastai.learner.Learner(\n",
    "    dls=dls,\n",
    "    model=net,\n",
    "    loss_func=loss_fn,\n",
    "    #--#\n",
    "    metrics=[fastai.metrics.accuracy]\n",
    ")\n",
    "# Step3:\n",
    "lrnr.fit(10)\n",
    "# Step4: \n",
    "lrnr.model.to(\"cpu\")\n",
    "print(f'train: {(lrnr.model(X).data.argmax(axis=1) == y).float().mean():.4f}')\n",
    "print(f'val: {(lrnr.model(XX).data.argmax(axis=1) == yy).float().mean():.4f}')"
   ]
  },
  {
   "cell_type": "markdown",
   "id": "9f8b7cc7-64c1-42fc-8588-b1ecce651476",
   "metadata": {},
   "source": [
    "`-` shuffle 하나로 이렇게 상승한다고?"
   ]
  },
  {
   "cell_type": "markdown",
   "id": "e4856709-2ac1-4411-8886-93490e16a568",
   "metadata": {},
   "source": [
    "## C. TransferLearning"
   ]
  },
  {
   "cell_type": "markdown",
   "id": "3d5eda03-15f8-45ee-b5b1-548cf8fa9615",
   "metadata": {},
   "source": [
    "`-` 남들이 만들어놓은 좋은 model을 가져와서 써보자"
   ]
  },
  {
   "cell_type": "code",
   "execution_count": 32,
   "id": "57010151-6693-47af-a43e-0248e3f4660f",
   "metadata": {},
   "outputs": [
    {
     "data": {
      "text/plain": [
       "ResNet(\n",
       "  (conv1): Conv2d(3, 64, kernel_size=(7, 7), stride=(2, 2), padding=(3, 3), bias=False)\n",
       "  (bn1): BatchNorm2d(64, eps=1e-05, momentum=0.1, affine=True, track_running_stats=True)\n",
       "  (relu): ReLU(inplace=True)\n",
       "  (maxpool): MaxPool2d(kernel_size=3, stride=2, padding=1, dilation=1, ceil_mode=False)\n",
       "  (layer1): Sequential(\n",
       "    (0): BasicBlock(\n",
       "      (conv1): Conv2d(64, 64, kernel_size=(3, 3), stride=(1, 1), padding=(1, 1), bias=False)\n",
       "      (bn1): BatchNorm2d(64, eps=1e-05, momentum=0.1, affine=True, track_running_stats=True)\n",
       "      (relu): ReLU(inplace=True)\n",
       "      (conv2): Conv2d(64, 64, kernel_size=(3, 3), stride=(1, 1), padding=(1, 1), bias=False)\n",
       "      (bn2): BatchNorm2d(64, eps=1e-05, momentum=0.1, affine=True, track_running_stats=True)\n",
       "    )\n",
       "    (1): BasicBlock(\n",
       "      (conv1): Conv2d(64, 64, kernel_size=(3, 3), stride=(1, 1), padding=(1, 1), bias=False)\n",
       "      (bn1): BatchNorm2d(64, eps=1e-05, momentum=0.1, affine=True, track_running_stats=True)\n",
       "      (relu): ReLU(inplace=True)\n",
       "      (conv2): Conv2d(64, 64, kernel_size=(3, 3), stride=(1, 1), padding=(1, 1), bias=False)\n",
       "      (bn2): BatchNorm2d(64, eps=1e-05, momentum=0.1, affine=True, track_running_stats=True)\n",
       "    )\n",
       "  )\n",
       "  (layer2): Sequential(\n",
       "    (0): BasicBlock(\n",
       "      (conv1): Conv2d(64, 128, kernel_size=(3, 3), stride=(2, 2), padding=(1, 1), bias=False)\n",
       "      (bn1): BatchNorm2d(128, eps=1e-05, momentum=0.1, affine=True, track_running_stats=True)\n",
       "      (relu): ReLU(inplace=True)\n",
       "      (conv2): Conv2d(128, 128, kernel_size=(3, 3), stride=(1, 1), padding=(1, 1), bias=False)\n",
       "      (bn2): BatchNorm2d(128, eps=1e-05, momentum=0.1, affine=True, track_running_stats=True)\n",
       "      (downsample): Sequential(\n",
       "        (0): Conv2d(64, 128, kernel_size=(1, 1), stride=(2, 2), bias=False)\n",
       "        (1): BatchNorm2d(128, eps=1e-05, momentum=0.1, affine=True, track_running_stats=True)\n",
       "      )\n",
       "    )\n",
       "    (1): BasicBlock(\n",
       "      (conv1): Conv2d(128, 128, kernel_size=(3, 3), stride=(1, 1), padding=(1, 1), bias=False)\n",
       "      (bn1): BatchNorm2d(128, eps=1e-05, momentum=0.1, affine=True, track_running_stats=True)\n",
       "      (relu): ReLU(inplace=True)\n",
       "      (conv2): Conv2d(128, 128, kernel_size=(3, 3), stride=(1, 1), padding=(1, 1), bias=False)\n",
       "      (bn2): BatchNorm2d(128, eps=1e-05, momentum=0.1, affine=True, track_running_stats=True)\n",
       "    )\n",
       "  )\n",
       "  (layer3): Sequential(\n",
       "    (0): BasicBlock(\n",
       "      (conv1): Conv2d(128, 256, kernel_size=(3, 3), stride=(2, 2), padding=(1, 1), bias=False)\n",
       "      (bn1): BatchNorm2d(256, eps=1e-05, momentum=0.1, affine=True, track_running_stats=True)\n",
       "      (relu): ReLU(inplace=True)\n",
       "      (conv2): Conv2d(256, 256, kernel_size=(3, 3), stride=(1, 1), padding=(1, 1), bias=False)\n",
       "      (bn2): BatchNorm2d(256, eps=1e-05, momentum=0.1, affine=True, track_running_stats=True)\n",
       "      (downsample): Sequential(\n",
       "        (0): Conv2d(128, 256, kernel_size=(1, 1), stride=(2, 2), bias=False)\n",
       "        (1): BatchNorm2d(256, eps=1e-05, momentum=0.1, affine=True, track_running_stats=True)\n",
       "      )\n",
       "    )\n",
       "    (1): BasicBlock(\n",
       "      (conv1): Conv2d(256, 256, kernel_size=(3, 3), stride=(1, 1), padding=(1, 1), bias=False)\n",
       "      (bn1): BatchNorm2d(256, eps=1e-05, momentum=0.1, affine=True, track_running_stats=True)\n",
       "      (relu): ReLU(inplace=True)\n",
       "      (conv2): Conv2d(256, 256, kernel_size=(3, 3), stride=(1, 1), padding=(1, 1), bias=False)\n",
       "      (bn2): BatchNorm2d(256, eps=1e-05, momentum=0.1, affine=True, track_running_stats=True)\n",
       "    )\n",
       "  )\n",
       "  (layer4): Sequential(\n",
       "    (0): BasicBlock(\n",
       "      (conv1): Conv2d(256, 512, kernel_size=(3, 3), stride=(2, 2), padding=(1, 1), bias=False)\n",
       "      (bn1): BatchNorm2d(512, eps=1e-05, momentum=0.1, affine=True, track_running_stats=True)\n",
       "      (relu): ReLU(inplace=True)\n",
       "      (conv2): Conv2d(512, 512, kernel_size=(3, 3), stride=(1, 1), padding=(1, 1), bias=False)\n",
       "      (bn2): BatchNorm2d(512, eps=1e-05, momentum=0.1, affine=True, track_running_stats=True)\n",
       "      (downsample): Sequential(\n",
       "        (0): Conv2d(256, 512, kernel_size=(1, 1), stride=(2, 2), bias=False)\n",
       "        (1): BatchNorm2d(512, eps=1e-05, momentum=0.1, affine=True, track_running_stats=True)\n",
       "      )\n",
       "    )\n",
       "    (1): BasicBlock(\n",
       "      (conv1): Conv2d(512, 512, kernel_size=(3, 3), stride=(1, 1), padding=(1, 1), bias=False)\n",
       "      (bn1): BatchNorm2d(512, eps=1e-05, momentum=0.1, affine=True, track_running_stats=True)\n",
       "      (relu): ReLU(inplace=True)\n",
       "      (conv2): Conv2d(512, 512, kernel_size=(3, 3), stride=(1, 1), padding=(1, 1), bias=False)\n",
       "      (bn2): BatchNorm2d(512, eps=1e-05, momentum=0.1, affine=True, track_running_stats=True)\n",
       "    )\n",
       "  )\n",
       "  (avgpool): AdaptiveAvgPool2d(output_size=(1, 1))\n",
       "  (fc): Linear(in_features=512, out_features=1000, bias=True)\n",
       ")"
      ]
     },
     "execution_count": 32,
     "metadata": {},
     "output_type": "execute_result"
    }
   ],
   "source": [
    "net = torchvision.models.resnet18()\n",
    "net"
   ]
  },
  {
   "cell_type": "markdown",
   "id": "43cd93ce-74c8-4b87-a701-66556575baa5",
   "metadata": {},
   "source": [
    "`-` 마지막만 바꾸는 건 받아야하는 class의 개수가 원래 net과 다르니 이 부분을 바꿔준다"
   ]
  },
  {
   "cell_type": "code",
   "execution_count": 34,
   "id": "28eb6b37-a995-4ec2-8bcf-2c503e6ba238",
   "metadata": {},
   "outputs": [],
   "source": [
    "net.fc = torch.nn.Linear(512,10)"
   ]
  },
  {
   "cell_type": "code",
   "execution_count": 35,
   "id": "b98e2642-c2b7-4c19-8017-cd3e8c2e8452",
   "metadata": {},
   "outputs": [
    {
     "data": {
      "text/html": [
       "\n",
       "<style>\n",
       "    /* Turns off some styling */\n",
       "    progress {\n",
       "        /* gets rid of default border in Firefox and Opera. */\n",
       "        border: none;\n",
       "        /* Needs to be in here for Safari polyfill so background images work as expected. */\n",
       "        background-size: auto;\n",
       "    }\n",
       "    progress:not([value]), progress:not([value])::-webkit-progress-bar {\n",
       "        background: repeating-linear-gradient(45deg, #7e7e7e, #7e7e7e 10px, #5c5c5c 10px, #5c5c5c 20px);\n",
       "    }\n",
       "    .progress-bar-interrupted, .progress-bar-interrupted::-webkit-progress-bar {\n",
       "        background: #F44336;\n",
       "    }\n",
       "</style>\n"
      ],
      "text/plain": [
       "<IPython.core.display.HTML object>"
      ]
     },
     "metadata": {},
     "output_type": "display_data"
    },
    {
     "data": {
      "text/html": [
       "<table border=\"1\" class=\"dataframe\">\n",
       "  <thead>\n",
       "    <tr style=\"text-align: left;\">\n",
       "      <th>epoch</th>\n",
       "      <th>train_loss</th>\n",
       "      <th>valid_loss</th>\n",
       "      <th>accuracy</th>\n",
       "      <th>time</th>\n",
       "    </tr>\n",
       "  </thead>\n",
       "  <tbody>\n",
       "    <tr>\n",
       "      <td>0</td>\n",
       "      <td>1.118602</td>\n",
       "      <td>1.336943</td>\n",
       "      <td>0.533500</td>\n",
       "      <td>00:12</td>\n",
       "    </tr>\n",
       "    <tr>\n",
       "      <td>1</td>\n",
       "      <td>0.947132</td>\n",
       "      <td>1.220068</td>\n",
       "      <td>0.598500</td>\n",
       "      <td>00:11</td>\n",
       "    </tr>\n",
       "    <tr>\n",
       "      <td>2</td>\n",
       "      <td>0.771734</td>\n",
       "      <td>1.346856</td>\n",
       "      <td>0.577400</td>\n",
       "      <td>00:11</td>\n",
       "    </tr>\n",
       "    <tr>\n",
       "      <td>3</td>\n",
       "      <td>0.699828</td>\n",
       "      <td>1.194723</td>\n",
       "      <td>0.614800</td>\n",
       "      <td>00:11</td>\n",
       "    </tr>\n",
       "    <tr>\n",
       "      <td>4</td>\n",
       "      <td>0.571979</td>\n",
       "      <td>0.946209</td>\n",
       "      <td>0.684400</td>\n",
       "      <td>00:11</td>\n",
       "    </tr>\n",
       "    <tr>\n",
       "      <td>5</td>\n",
       "      <td>0.506702</td>\n",
       "      <td>0.967242</td>\n",
       "      <td>0.682800</td>\n",
       "      <td>00:11</td>\n",
       "    </tr>\n",
       "    <tr>\n",
       "      <td>6</td>\n",
       "      <td>0.434684</td>\n",
       "      <td>0.887218</td>\n",
       "      <td>0.732100</td>\n",
       "      <td>00:11</td>\n",
       "    </tr>\n",
       "    <tr>\n",
       "      <td>7</td>\n",
       "      <td>0.338026</td>\n",
       "      <td>0.915448</td>\n",
       "      <td>0.733100</td>\n",
       "      <td>00:11</td>\n",
       "    </tr>\n",
       "    <tr>\n",
       "      <td>8</td>\n",
       "      <td>0.274322</td>\n",
       "      <td>1.014980</td>\n",
       "      <td>0.720900</td>\n",
       "      <td>00:11</td>\n",
       "    </tr>\n",
       "    <tr>\n",
       "      <td>9</td>\n",
       "      <td>0.243159</td>\n",
       "      <td>0.961551</td>\n",
       "      <td>0.741300</td>\n",
       "      <td>00:11</td>\n",
       "    </tr>\n",
       "  </tbody>\n",
       "</table>"
      ],
      "text/plain": [
       "<IPython.core.display.HTML object>"
      ]
     },
     "metadata": {},
     "output_type": "display_data"
    },
    {
     "name": "stdout",
     "output_type": "stream",
     "text": [
      "train: 0.9260\n",
      "val: 0.7413\n"
     ]
    }
   ],
   "source": [
    "# Step1:\n",
    "ds1 = torch.utils.data.TensorDataset(X,y)\n",
    "ds2 = torch.utils.data.TensorDataset(XX,yy)\n",
    "dl1 = torch.utils.data.DataLoader(ds1,batch_size=64,shuffle=True)\n",
    "dl2 = torch.utils.data.DataLoader(ds2,batch_size=100)\n",
    "dls = fastai.data.core.DataLoaders(dl1,dl2)\n",
    "# Step2:\n",
    "net = torchvision.models.resnet18()\n",
    "net.fc = torch.nn.Linear(512,10)\n",
    "loss_fn = torch.nn.CrossEntropyLoss()\n",
    "lrnr = fastai.learner.Learner(\n",
    "    dls=dls,\n",
    "    model=net,\n",
    "    loss_func=loss_fn,\n",
    "    #--#\n",
    "    metrics=[fastai.metrics.accuracy]\n",
    ")\n",
    "# Step3:\n",
    "lrnr.fit(10)\n",
    "# Step4: \n",
    "\n",
    "lrnr.model.to(\"cpu\")\n",
    "print(f'train: {(lrnr.model(X).data.argmax(axis=1) == y).float().mean():.4f}') # \n",
    "print(f'val: {(lrnr.model(XX).data.argmax(axis=1) == yy).float().mean():.4f}')"
   ]
  },
  {
   "cell_type": "markdown",
   "id": "7ae68013-e42b-41c6-bb89-fff5943337a5",
   "metadata": {},
   "source": [
    "`-` 오버피팅이 좀 있지만 꽤 잘 맞춘다"
   ]
  },
  {
   "cell_type": "markdown",
   "id": "a7b4a5c0-474d-4257-a002-eeb4a33669ab",
   "metadata": {},
   "source": [
    "`-` 결론 : 남들이 쓰는 거 가져다가 살짝 바꿔서 쓰는 게 잘 나오긴 한다..."
   ]
  }
 ],
 "metadata": {
  "kernelspec": {
   "display_name": "Python 3 (ipykernel)",
   "language": "python",
   "name": "python3"
  },
  "language_info": {
   "codemirror_mode": {
    "name": "ipython",
    "version": 3
   },
   "file_extension": ".py",
   "mimetype": "text/x-python",
   "name": "python",
   "nbconvert_exporter": "python",
   "pygments_lexer": "ipython3",
   "version": "3.12.2"
  }
 },
 "nbformat": 4,
 "nbformat_minor": 5
}
