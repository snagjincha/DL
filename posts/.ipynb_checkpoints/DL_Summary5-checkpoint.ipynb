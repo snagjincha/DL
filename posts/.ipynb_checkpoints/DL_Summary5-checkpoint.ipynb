{
 "cells": [
  {
   "cell_type": "raw",
   "id": "3a84b336-4bb2-4858-b3d7-4fa220e49724",
   "metadata": {},
   "source": [
    "---\n",
    "title: \"Deep Learning 5\"\n",
    "author: \"차상진\"\n",
    "date: \"2024-05-07\"\n",
    "---"
   ]
  },
  {
   "cell_type": "markdown",
   "id": "6ee46628-7a58-4126-bbd0-6df83bbc641f",
   "metadata": {},
   "source": [
    "# 1. Imports"
   ]
  },
  {
   "cell_type": "code",
   "execution_count": 4,
   "id": "94c8bd8c-f992-494e-b397-7c1a987f4691",
   "metadata": {},
   "outputs": [],
   "source": [
    "import torch \n",
    "import torchvision\n",
    "import fastai.vision.all \n",
    "import fastai.vision.gan\n",
    "import matplotlib.pyplot as plt "
   ]
  },
  {
   "cell_type": "markdown",
   "id": "e07fd2f8-f28e-4e6e-88e7-8a814a0176c1",
   "metadata": {},
   "source": [
    "# GAN"
   ]
  },
  {
   "cell_type": "markdown",
   "id": "fa111f05-c9ad-48e9-a680-d8c18b6a4cef",
   "metadata": {},
   "source": [
    "# 2. GAN?"
   ]
  },
  {
   "cell_type": "markdown",
   "id": "2312cd9f-e985-48c9-92c5-954d021922b3",
   "metadata": {},
   "source": [
    "## A-1. 생성모형이란? 쉬운 설명"
   ]
  },
  {
   "cell_type": "markdown",
   "id": "6865c90d-8d80-42d0-9630-72d28b58f7dd",
   "metadata": {},
   "source": [
    "`-` 사진 속에 있는 고양이와 개를 분류하는 것보다 고양이 이미지와 개 이미지를 만드는 것이 더 어렵지 않은가?\n",
    "\n",
    "`-` 만들수 없다면 이해하지 못한 것이다 - 리처드 파인만"
   ]
  },
  {
   "cell_type": "markdown",
   "id": "6ab4a11d-73b4-4dfb-8272-6794f7d8311a",
   "metadata": {},
   "source": [
    "## A-2. 수학적인 설명"
   ]
  },
  {
   "cell_type": "markdown",
   "id": "c05530b6-1a36-49c7-a16a-a8549af16536",
   "metadata": {},
   "source": [
    "`-` 이미지 $X$가 주어졌을 때 라벨을 $y$라고 한다면. 이미지를 보고 라벨을 맞추는 것은 $P(y|X)$이다\n",
    "\n",
    "`-` 그렇지만 이미지를 생성하는 것은 $P(X,y)$이다\n",
    "\n",
    "`-` 쉽게 말하면 고양이인지 개인지 맞추는 것은 $y$만 맞추면 됨. 하지만 이미지를 생성하는 것은 $X,y$를 모두 맞추어야 함\n",
    "\n",
    "### <center>$P(y|X) = \\frac{P(X,y)}{P(X)} = \\frac{P(X,y)}{\\sum_{y}P(X,y)}$<center> ###\n",
    "\n",
    "`-` $P(X,y)$를 알면 $P(y|X)$은 알 수 있음 하지만 역은 불가능\n",
    "\n",
    "`-` 한 마디로 이미지를 생성하는 것이 이미지를 분류하는 것보다 더 어렵다"
   ]
  },
  {
   "cell_type": "markdown",
   "id": "587233f9-0c1e-4c07-9bff-4dd5d7b3319c",
   "metadata": {},
   "source": [
    "## B. GAN은 생성모형 중 하나다"
   ]
  },
  {
   "cell_type": "markdown",
   "id": "686b1e90-997e-425d-ac62-f36d35d428d9",
   "metadata": {},
   "source": [
    "`-` GAN의 원리는 예를 들어 설명하면 경찰과 위조지폐범이 경쟁을 통해서 서로 발전하는 모형으로 설명 가능하다.\n",
    "\n",
    "`-` 위조범은 경찰이 속게끔 위조지폐를 더 정교하게 만들고 경찰은 그 위조지폐를 잘 구별하게끔 학습을 한다.\n",
    "\n",
    "`-` 굉장히 우수한 경찰이라도 진짜와 가짜를 구분하지 못 할때(=진짜 이미지를 0.5의 확률로만 진짜라고 할 때= 가짜이미지를 0.5의 확률로 가짜라고 할 때) 학습을 멈춘다."
   ]
  },
  {
   "cell_type": "markdown",
   "id": "cdb5ce78-e0bb-4b97-96b5-35db09211003",
   "metadata": {},
   "source": [
    "# 3. GAN의 구현"
   ]
  },
  {
   "cell_type": "markdown",
   "id": "cd6d9f48-f611-42d6-bd97-03adfa7f6bda",
   "metadata": {},
   "source": [
    "## A.DATA"
   ]
  },
  {
   "cell_type": "code",
   "execution_count": 5,
   "id": "97b9e0f7-ee06-4f5f-8a8e-9ec22f2db3bb",
   "metadata": {},
   "outputs": [
    {
     "data": {
      "text/plain": [
       "Path('/root/.fastai/data/mnist_png')"
      ]
     },
     "execution_count": 5,
     "metadata": {},
     "output_type": "execute_result"
    }
   ],
   "source": [
    "path = fastai.data.external.untar_data(fastai.data.external.URLs.MNIST)\n",
    "path"
   ]
  },
  {
   "cell_type": "code",
   "execution_count": 6,
   "id": "615d3454-e310-4da7-8fa5-9b01b8edd3e6",
   "metadata": {},
   "outputs": [
    {
     "data": {
      "text/plain": [
       "torch.Size([6131, 1, 28, 28])"
      ]
     },
     "execution_count": 6,
     "metadata": {},
     "output_type": "execute_result"
    }
   ],
   "source": [
    "X_real = torch.stack([torchvision.io.read_image(str(l)) for l in (path/'training/3').ls()],axis=0)/255\n",
    "X_real.shape"
   ]
  },
  {
   "cell_type": "code",
   "execution_count": 7,
   "id": "ff962c51-16c4-491c-b2f4-af88fba7b31f",
   "metadata": {},
   "outputs": [
    {
     "data": {
      "text/plain": [
       "<matplotlib.image.AxesImage at 0x7f4e7bd86180>"
      ]
     },
     "execution_count": 7,
     "metadata": {},
     "output_type": "execute_result"
    },
    {
     "data": {
      "image/png": "[encoded data removed]",
      "text/plain": [
       "<Figure size 640x480 with 1 Axes>"
      ]
     },
     "metadata": {},
     "output_type": "display_data"
    }
   ],
   "source": [
    "plt.imshow(X_real[0].reshape(28,28),cmap='grey')"
   ]
  },
  {
   "cell_type": "markdown",
   "id": "09e7ccc8-53c7-469f-8aad-6fd8fecccfb1",
   "metadata": {},
   "source": [
    "## B. Faker 생성"
   ]
  },
  {
   "cell_type": "markdown",
   "id": "2b8ab198-7c63-4388-a4f4-ff308c0e2c95",
   "metadata": {},
   "source": [
    "`-` 네트워크 입력 : (n,??)\n",
    "\n",
    "`-` 네트워크 출력 : (n,1,28,28)"
   ]
  },
  {
   "cell_type": "code",
   "execution_count": 8,
   "id": "aa9a6952-d19c-41a4-800f-a747fcee8c76",
   "metadata": {},
   "outputs": [
    {
     "data": {
      "text/plain": [
       "tensor([[ 0.0454, -0.7508, -0.9412, -1.6791]])"
      ]
     },
     "execution_count": 8,
     "metadata": {},
     "output_type": "execute_result"
    }
   ],
   "source": [
    "torch.randn(1,4)"
   ]
  },
  {
   "cell_type": "markdown",
   "id": "402ace87-d0e8-4d08-9a68-2fbfdde03c42",
   "metadata": {},
   "source": [
    "reshape을 위한 class를 정의하자"
   ]
  },
  {
   "cell_type": "code",
   "execution_count": 9,
   "id": "62e4fcb4-1e80-4011-a418-34c3f33ec6db",
   "metadata": {},
   "outputs": [],
   "source": [
    "class reshape2828(torch.nn.Module):\n",
    "    def __init__(self):\n",
    "        super().__init__()\n",
    "    def forward(self,X):\n",
    "        return X.reshape(-1,1,28,28)"
   ]
  },
  {
   "cell_type": "code",
   "execution_count": 10,
   "id": "7de78a79-cc9f-4bcf-b481-3145ad580d0a",
   "metadata": {},
   "outputs": [],
   "source": [
    "net_faker = torch.nn.Sequential(\n",
    "    torch.nn.Linear(4,64),\n",
    "    torch.nn.ReLU(),\n",
    "    torch.nn.Linear(64,64),\n",
    "    torch.nn.ReLU(),\n",
    "    torch.nn.Linear(64,784),\n",
    "    torch.nn.Sigmoid(),\n",
    "    reshape2828()\n",
    ")"
   ]
  },
  {
   "cell_type": "code",
   "execution_count": 11,
   "id": "d6a03523-da20-44f0-bc51-fbca26d3ee0e",
   "metadata": {},
   "outputs": [
    {
     "data": {
      "text/plain": [
       "torch.Size([1, 1, 28, 28])"
      ]
     },
     "execution_count": 11,
     "metadata": {},
     "output_type": "execute_result"
    }
   ],
   "source": [
    "net_faker(torch.randn(1,4)).shape"
   ]
  },
  {
   "cell_type": "markdown",
   "id": "65c79972-df77-4643-852f-04f61becbe5e",
   "metadata": {},
   "source": [
    "## C. 경찰 생성"
   ]
  },
  {
   "cell_type": "markdown",
   "id": "fef58353-3e25-4abc-878f-b7ca4f3968b2",
   "metadata": {},
   "source": [
    "`-` 네트워크의 입력 : (n,1,28,28)\n",
    "\n",
    "`-` 네트워크의 출력 : 0 or 1"
   ]
  },
  {
   "cell_type": "code",
   "execution_count": 12,
   "id": "ee7d658c-4131-44a5-8f24-eb8f0e1a0fc6",
   "metadata": {},
   "outputs": [],
   "source": [
    "net_police = torch.nn.Sequential(\n",
    "    torch.nn.Flatten(),\n",
    "    torch.nn.Linear(784,64),\n",
    "    torch.nn.ReLU(),\n",
    "    torch.nn.Linear(64,30),\n",
    "    torch.nn.ReLU(),\n",
    "    torch.nn.Linear(30,1),\n",
    "    torch.nn.Sigmoid()\n",
    ")"
   ]
  },
  {
   "cell_type": "markdown",
   "id": "dd9c9f48-5858-4286-8a7d-7b488035723a",
   "metadata": {},
   "source": [
    "## D. 패트와 매트"
   ]
  },
  {
   "cell_type": "code",
   "execution_count": 13,
   "id": "7df88766-42c9-4efe-b5f4-d253034bbaf6",
   "metadata": {},
   "outputs": [
    {
     "data": {
      "text/plain": [
       "<matplotlib.image.AxesImage at 0x7f4e7b538fb0>"
      ]
     },
     "execution_count": 13,
     "metadata": {},
     "output_type": "execute_result"
    },
    {
     "data": {
      "image/png": "[encoded data removed]",
      "text/plain": [
       "<Figure size 640x480 with 1 Axes>"
      ]
     },
     "metadata": {},
     "output_type": "display_data"
    }
   ],
   "source": [
    "plt.imshow(X_real[0].reshape(28,28),cmap='grey')"
   ]
  },
  {
   "cell_type": "markdown",
   "id": "63102bd4-1bda-43b4-ab7f-9b57fd27a08c",
   "metadata": {},
   "source": [
    "진짜 이미지 -> 0 / 가짜 이미지 -> 1"
   ]
  },
  {
   "cell_type": "code",
   "execution_count": 14,
   "id": "0bceb898-2edf-4629-8e5c-ff83aafd9100",
   "metadata": {},
   "outputs": [
    {
     "data": {
      "text/plain": [
       "tensor([[0.5080]], grad_fn=<SigmoidBackward0>)"
      ]
     },
     "execution_count": 14,
     "metadata": {},
     "output_type": "execute_result"
    }
   ],
   "source": [
    "net_police(X_real[[0]])"
   ]
  },
  {
   "cell_type": "code",
   "execution_count": 15,
   "id": "2e70ddf8-6bac-4c40-8910-02452cbd106f",
   "metadata": {},
   "outputs": [
    {
     "data": {
      "text/plain": [
       "<matplotlib.image.AxesImage at 0x7f4e7b4c40e0>"
      ]
     },
     "execution_count": 15,
     "metadata": {},
     "output_type": "execute_result"
    },
    {
     "data": {
      "image/png": "[encoded data removed]",
      "text/plain": [
       "<Figure size 640x480 with 1 Axes>"
      ]
     },
     "metadata": {},
     "output_type": "display_data"
    }
   ],
   "source": [
    "noise = torch.randn(1,4)\n",
    "plt.imshow(net_faker(noise).data.reshape(28,28),cmap='grey')"
   ]
  },
  {
   "cell_type": "code",
   "execution_count": 16,
   "id": "7a9426b3-bdf0-4dd4-86eb-9f8133c9017d",
   "metadata": {},
   "outputs": [
    {
     "data": {
      "text/plain": [
       "tensor([[0.5001]], grad_fn=<SigmoidBackward0>)"
      ]
     },
     "execution_count": 16,
     "metadata": {},
     "output_type": "execute_result"
    }
   ],
   "source": [
    "yhat_fake = net_police(net_faker(noise))\n",
    "yhat_fake"
   ]
  },
  {
   "cell_type": "markdown",
   "id": "69a472c1-a320-4808-854d-a1c3b97ab71c",
   "metadata": {},
   "source": [
    "1과는 매우 거리가 멈\n",
    "\n",
    "아무 학습도 안 했기때문에 당연... 하지만 무능!!"
   ]
  },
  {
   "cell_type": "code",
   "execution_count": 17,
   "id": "e0e76a34-8ee6-4506-9194-9b91c0700295",
   "metadata": {},
   "outputs": [
    {
     "data": {
      "text/plain": [
       "<matplotlib.image.AxesImage at 0x7f4e7b525340>"
      ]
     },
     "execution_count": 17,
     "metadata": {},
     "output_type": "execute_result"
    },
    {
     "data": {
      "image/png": "[encoded data removed]",
      "text/plain": [
       "<Figure size 640x480 with 2 Axes>"
      ]
     },
     "metadata": {},
     "output_type": "display_data"
    }
   ],
   "source": [
    "fig , ax = plt.subplots(1,2)\n",
    "ax[0].imshow(net_faker(noise).data.reshape(28,28),cmap='grey')\n",
    "ax[1].imshow(X_real[0].reshape(28,28),cmap='grey')"
   ]
  },
  {
   "cell_type": "markdown",
   "id": "57ab8c1d-74dd-454c-8ee5-f2db0fadba57",
   "metadata": {},
   "source": [
    "이걸 구분을 잘 못하고 있음..."
   ]
  },
  {
   "cell_type": "markdown",
   "id": "6e0de5a6-2948-43a9-833c-25d3f8475b47",
   "metadata": {},
   "source": [
    "## E. 경찰이 공부좀 했다."
   ]
  },
  {
   "cell_type": "markdown",
   "id": "54abf2a0-514c-41fa-87fa-b154a2b6fbbc",
   "metadata": {},
   "source": [
    "진짜 이미지 -> 0 , 가짜 이미지 -> 1"
   ]
  },
  {
   "cell_type": "markdown",
   "id": "22a84dac-5195-43aa-a9bb-7306fd75c406",
   "metadata": {},
   "source": [
    "`-` step1"
   ]
  },
  {
   "cell_type": "code",
   "execution_count": 18,
   "id": "8d8f6210-08a7-432e-81f2-8e4d360fe804",
   "metadata": {},
   "outputs": [],
   "source": [
    "noise = torch.randn(6131,4)\n",
    "X_fake = net_faker(noise)\n",
    "y_real = torch.tensor([0]*6131).reshape(-1,1).float()\n",
    "y_fake = torch.tensor([1]*6131).reshape(-1,1).float()"
   ]
  },
  {
   "cell_type": "code",
   "execution_count": 19,
   "id": "6bdb4010-6519-4350-bfb5-958f1933f518",
   "metadata": {},
   "outputs": [],
   "source": [
    "yhat_real = net_police(X_real) # 경찰이 진짜 이미지를 보고 판별한 결과\n",
    "yhat_fake = net_police(X_fake) # 경찰이 가짜 이미지를 보고 판별한 경과"
   ]
  },
  {
   "cell_type": "markdown",
   "id": "991438fe-9305-487b-bd22-b40db8cbfde4",
   "metadata": {},
   "source": [
    "`-` step2"
   ]
  },
  {
   "cell_type": "code",
   "execution_count": 20,
   "id": "f6a242ab-7908-4498-9d8a-3076e1c47838",
   "metadata": {},
   "outputs": [
    {
     "data": {
      "text/plain": [
       "tensor(1.4071, grad_fn=<AddBackward0>)"
      ]
     },
     "execution_count": 20,
     "metadata": {},
     "output_type": "execute_result"
    }
   ],
   "source": [
    "bce = torch.nn.BCELoss()\n",
    "loss_police = bce(yhat_fake , y_fake) + bce(yhat_real , y_real)\n",
    "loss_police"
   ]
  },
  {
   "cell_type": "markdown",
   "id": "4627ef10-92df-4d1e-805f-f6be2f3c39d7",
   "metadata": {},
   "source": [
    "`-` step3,4는 앞에서 공부한 내용과 비슷하기에 생략하고 바로 epoch을 돌리자"
   ]
  },
  {
   "cell_type": "code",
   "execution_count": 21,
   "id": "909fd82e-9681-4563-82a5-dc0331a7fc9a",
   "metadata": {},
   "outputs": [],
   "source": [
    "net_police = torch.nn.Sequential(\n",
    "    torch.nn.Flatten(),\n",
    "    torch.nn.Linear(784,64),\n",
    "    torch.nn.ReLU(),\n",
    "    torch.nn.Linear(64,30),\n",
    "    torch.nn.ReLU(),\n",
    "    torch.nn.Linear(30,1),\n",
    "    torch.nn.Sigmoid()\n",
    ")\n",
    "bce = torch.nn.BCELoss()\n",
    "optimizr_police = torch.optim.Adam(net_police.parameters())\n",
    "\n",
    "for epoc in range(30):\n",
    "    noise = torch.randn(6131,4) # epoc을 돌릴 때마다 새로운 noise를 뽑아야함\n",
    "    X_fake = net_faker(noise)\n",
    "    yhat_real = net_police(X_real)\n",
    "    yhat_fake = net_police(X_fake)\n",
    "    loss_police = bce(yhat_real,y_real) + bce(yhat_fake,y_fake)\n",
    "    loss_police.backward()\n",
    "    optimizr_police.step()\n",
    "    optimizr_police.zero_grad()"
   ]
  },
  {
   "cell_type": "code",
   "execution_count": 22,
   "id": "18b74a52-c7e1-4ce3-8717-1f9480deddf1",
   "metadata": {},
   "outputs": [
    {
     "data": {
      "text/plain": [
       "tensor(0.0224, grad_fn=<MeanBackward0>)"
      ]
     },
     "execution_count": 22,
     "metadata": {},
     "output_type": "execute_result"
    }
   ],
   "source": [
    "net_police(X_real).mean()"
   ]
  },
  {
   "cell_type": "markdown",
   "id": "911d70b8-28e2-4407-a5bb-01410cf7c7b0",
   "metadata": {},
   "source": [
    "꽤 늘었다"
   ]
  },
  {
   "cell_type": "markdown",
   "id": "85cd3421-3954-4da6-9c7c-1c600cb7a8f8",
   "metadata": {},
   "source": [
    "## F. 발전하는 페이커"
   ]
  },
  {
   "cell_type": "markdown",
   "id": "c6b315c4-b014-492c-a620-7c5b597551fe",
   "metadata": {},
   "source": [
    "`-` step1"
   ]
  },
  {
   "cell_type": "code",
   "execution_count": 23,
   "id": "be2ad757-cf82-421b-8099-17df7ba2e7be",
   "metadata": {},
   "outputs": [],
   "source": [
    "Noise = torch.randn(6131,4)\n",
    "X_fake = net_faker(Noise) "
   ]
  },
  {
   "cell_type": "markdown",
   "id": "68c06582-23a9-4593-8387-aa50b2b953a5",
   "metadata": {},
   "source": [
    "`-` step2"
   ]
  },
  {
   "cell_type": "code",
   "execution_count": 24,
   "id": "8fc68868-c835-4ab9-a396-6e52dee373e4",
   "metadata": {},
   "outputs": [],
   "source": [
    "yhat_faker = net_police(X_fake)\n",
    "loss_faker = bce(yhat_faker,y_real)"
   ]
  },
  {
   "cell_type": "markdown",
   "id": "549ec7ee-42b3-4e5d-b1b9-8f190ab7a61e",
   "metadata": {},
   "source": [
    "가짜를 보고 진짜라고 생각해야한다"
   ]
  },
  {
   "cell_type": "markdown",
   "id": "d867f521-9924-49c6-862e-68f31ecf80f2",
   "metadata": {},
   "source": [
    "`-` step3~4는 별로 특별한게 없음. 그래서 바로 epoch을 진행시켜보자."
   ]
  },
  {
   "cell_type": "code",
   "execution_count": 25,
   "id": "b32780ac-b557-484b-9067-ca0acfcce275",
   "metadata": {},
   "outputs": [],
   "source": [
    "net_faker = torch.nn.Sequential(\n",
    "    torch.nn.Linear(in_features=4, out_features=30),\n",
    "    torch.nn.ReLU(),\n",
    "    torch.nn.Linear(in_features=30, out_features=64),\n",
    "    torch.nn.ReLU(),\n",
    "    torch.nn.Linear(in_features=64, out_features=784),\n",
    "    torch.nn.Sigmoid(),\n",
    "    reshape2828()\n",
    ")\n",
    "#bce = torch.nn.BCELoss()\n",
    "optimizr_faker = torch.optim.Adam(net_faker.parameters()) # 얘를 실행시키면 새로운 옵티마이저가 나와서 초기값으로 돌아감"
   ]
  },
  {
   "cell_type": "code",
   "execution_count": 26,
   "id": "eec7dbf2-39b2-4f5c-8984-c815bce9a544",
   "metadata": {},
   "outputs": [],
   "source": [
    "for epoc in range(10):\n",
    "    noise = torch.randn(6131,4)\n",
    "    X_fake = net_faker(noise)\n",
    "    yhat_fake = net_police(X_fake)\n",
    "    loss_faker = bce(yhat_fake,y_real)\n",
    "    loss_faker.backward()\n",
    "    optimizr_faker.step()\n",
    "    optimizr_faker.zero_grad()"
   ]
  },
  {
   "cell_type": "code",
   "execution_count": 27,
   "id": "aa61fec0-aeb5-4b6b-a454-03de8e9e4bb4",
   "metadata": {},
   "outputs": [
    {
     "data": {
      "image/png": "[encoded data removed]",
      "text/plain": [
       "<Figure size 1000x400 with 10 Axes>"
      ]
     },
     "metadata": {},
     "output_type": "display_data"
    }
   ],
   "source": [
    "fig,ax = plt.subplots(2,5,figsize=(10,4))\n",
    "k = 0 \n",
    "for i in range(2):\n",
    "    for j in range(5):\n",
    "        ax[i][j].imshow(X_fake[k].reshape(28,28).data,cmap=\"gray\")\n",
    "        ax[i][j].set_title(f\"police hat = {yhat_fake[k].item():.4f}\")\n",
    "        k = k+1 \n",
    "fig.tight_layout()"
   ]
  },
  {
   "cell_type": "code",
   "execution_count": 28,
   "id": "4880f53b-ce6b-4030-bc19-ccd382d0a8b2",
   "metadata": {},
   "outputs": [
    {
     "data": {
      "text/plain": [
       "tensor(0.)"
      ]
     },
     "execution_count": 28,
     "metadata": {},
     "output_type": "execute_result"
    }
   ],
   "source": [
    "((yhat_fake > 0.5) == 0).float().mean()"
   ]
  },
  {
   "cell_type": "markdown",
   "id": "58a7fd36-9d98-4388-ac23-e6d2367d5c40",
   "metadata": {},
   "source": [
    "경찰이 가짜이미지를 진짜라고 생각한 비율"
   ]
  },
  {
   "cell_type": "markdown",
   "id": "bd38e8c1-e683-4edb-8603-0d8df1e3f64a",
   "metadata": {},
   "source": [
    "## G. 경쟁"
   ]
  },
  {
   "cell_type": "code",
   "execution_count": 293,
   "id": "63d3770e-fd3d-4dfb-a74b-76e93d1e55a0",
   "metadata": {},
   "outputs": [],
   "source": [
    "torch.manual_seed(21345)\n",
    "net_police = torch.nn.Sequential(\n",
    "    torch.nn.Flatten(),\n",
    "    torch.nn.Linear(784,64),\n",
    "    torch.nn.ReLU(),\n",
    "    torch.nn.Linear(64,30),\n",
    "    torch.nn.ReLU(),\n",
    "    torch.nn.Linear(30,1),\n",
    "    torch.nn.Sigmoid()\n",
    ")\n",
    "net_faker = torch.nn.Sequential(\n",
    "    torch.nn.Linear(in_features=4, out_features=30),\n",
    "    torch.nn.ReLU(),\n",
    "    torch.nn.Linear(in_features=30, out_features=64),\n",
    "    torch.nn.ReLU(),\n",
    "    torch.nn.Linear(in_features=64, out_features=784),\n",
    "    torch.nn.Sigmoid(),\n",
    "    reshape2828()\n",
    ")\n",
    "bce = torch.nn.BCELoss()\n",
    "optimizr_police = torch.optim.Adam(net_police.parameters(),lr=0.001,betas=(0.5,0.999))\n",
    "optimizr_faker = torch.optim.Adam(net_faker.parameters(),lr=0.002,betas=(0.5,0.999))"
   ]
  },
  {
   "cell_type": "markdown",
   "id": "284c8b7e-9a99-4e8c-9c82-67aec95b46e1",
   "metadata": {},
   "source": [
    "`-` police 네트워크 학습"
   ]
  },
  {
   "cell_type": "code",
   "execution_count": 208,
   "id": "23211578-dde7-4af7-8167-8cd7e0b3a49f",
   "metadata": {},
   "outputs": [
    {
     "name": "stdout",
     "output_type": "stream",
     "text": [
      "\n",
      "yhat_real = 0.0002 // 이건 0에 가까워야함 \n",
      "yhat_fake = 0.9945 // 이건 1에 가까워야함 \n",
      "\n"
     ]
    }
   ],
   "source": [
    "for epoc in range(30):\n",
    "    noise = torch.randn(6131,4)\n",
    "    X_fake = net_faker(noise)\n",
    "    yhat_real = net_police(X_real)\n",
    "    yhat_fake = net_police(X_fake)\n",
    "    loss_police = bce(yhat_real,y_real) + bce(yhat_fake,y_fake)\n",
    "    loss_police.backward()\n",
    "    optimizr_police.step()\n",
    "    optimizr_police.zero_grad()\n",
    "print(f\"\"\"\n",
    "yhat_real = {yhat_real[0].item():.4f} // 이건 0에 가까워야함 \n",
    "yhat_fake = {yhat_fake[0].item():.4f} // 이건 1에 가까워야함 \n",
    "\"\"\")"
   ]
  },
  {
   "cell_type": "markdown",
   "id": "14c48538-235c-4286-b2c8-a252796f5a9d",
   "metadata": {},
   "source": [
    "`-` faker 네트워크 학습"
   ]
  },
  {
   "cell_type": "code",
   "execution_count": 210,
   "id": "12733f14-b43f-476a-b056-f4a911b51bff",
   "metadata": {},
   "outputs": [
    {
     "name": "stdout",
     "output_type": "stream",
     "text": [
      "\n",
      "scam ratio = 0.0000 \n",
      "loss_faker = 4.4663 \n",
      "\n"
     ]
    },
    {
     "data": {
      "image/png": "[encoded data removed]",
      "text/plain": [
       "<Figure size 1000x400 with 10 Axes>"
      ]
     },
     "metadata": {},
     "output_type": "display_data"
    }
   ],
   "source": [
    "for epoc in range(10):\n",
    "    # step1\n",
    "    Noise = torch.randn(6131,4) \n",
    "    X_fake = net_faker(Noise) \n",
    "    # step2\n",
    "    yhat_fake = net_police(X_fake) \n",
    "    loss_faker = bce(yhat_fake,y_real)\n",
    "    # step3 \n",
    "    loss_faker.backward()\n",
    "    # step4 \n",
    "    optimizr_faker.step()\n",
    "    optimizr_faker.zero_grad()\n",
    "#---#\n",
    "fig,ax = plt.subplots(2,5,figsize=(10,4))\n",
    "k = 0 \n",
    "for i in range(2):\n",
    "    for j in range(5):\n",
    "        ax[i][j].imshow(X_fake[k].reshape(28,28).data,cmap=\"gray\")\n",
    "        ax[i][j].set_title(f\"police hat = {yhat_fake[k].item():.4f}\")\n",
    "        k = k+1 \n",
    "fig.tight_layout()\n",
    "print(f\"\"\"\n",
    "scam ratio = {((yhat_fake > 0.5) == 0).float().mean():.4f} \n",
    "loss_faker = {loss_faker:.4f} \n",
    "\"\"\")"
   ]
  },
  {
   "cell_type": "markdown",
   "id": "81ffc0f1-4d16-4dde-adf6-a0c0249a8ccd",
   "metadata": {},
   "source": [
    "# 4. 결론"
   ]
  },
  {
   "cell_type": "markdown",
   "id": "b71d441e-1271-466a-9686-c3eb81cd1235",
   "metadata": {},
   "source": [
    "`-` ***서로 경쟁하듯이 발전해야하는데 한 쪽이 너무 강해져서 경쟁을 할 수 없는 상황이 되면 학습은 실패한다.***"
   ]
  },
  {
   "cell_type": "markdown",
   "id": "9cb564e5-9ddc-4ab1-9276-c41517f11ccc",
   "metadata": {},
   "source": [
    "`-` ***두 네트워크의 균형이 매우 중요한 균형이 깨지면 학습이 실패함.***"
   ]
  }
 ],
 "metadata": {
  "kernelspec": {
   "display_name": "Python 3 (ipykernel)",
   "language": "python",
   "name": "python3"
  },
  "language_info": {
   "codemirror_mode": {
    "name": "ipython",
    "version": 3
   },
   "file_extension": ".py",
   "mimetype": "text/x-python",
   "name": "python",
   "nbconvert_exporter": "python",
   "pygments_lexer": "ipython3",
   "version": "3.12.2"
  }
 },
 "nbformat": 4,
 "nbformat_minor": 5
}
