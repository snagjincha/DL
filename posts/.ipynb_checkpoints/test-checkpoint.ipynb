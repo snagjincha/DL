{
 "cells": [
  {
   "cell_type": "raw",
   "id": "20ac9d6e-ad33-4d20-8510-d66b878776d5",
   "metadata": {},
   "source": [
    "---\n",
    "title: \"04wk-1: 퀴즈3\"\n",
    "author: \"차상진\"\n",
    "date: \"01/04/2024\"\n",
    "draft: false\n",
    "---"
   ]
  },
  {
   "cell_type": "code",
   "execution_count": 2,
   "id": "940f80b8-d97e-44cb-9fc8-036d1cfa006f",
   "metadata": {},
   "outputs": [
    {
     "data": {
      "text/plain": [
       "2"
      ]
     },
     "execution_count": 2,
     "metadata": {},
     "output_type": "execute_result"
    }
   ],
   "source": [
    "1+1"
   ]
  },
  {
   "cell_type": "code",
   "execution_count": null,
   "id": "14235ca3-783f-4c49-bc60-c4317e7f59fd",
   "metadata": {},
   "outputs": [],
   "source": []
  },
  {
   "cell_type": "code",
   "execution_count": null,
   "id": "7106aa87-47d7-4452-84f8-7d054a0bd9fa",
   "metadata": {},
   "outputs": [],
   "source": []
  }
 ],
 "metadata": {
  "kernelspec": {
   "display_name": "Python 3 (ipykernel)",
   "language": "python",
   "name": "python3"
  },
  "language_info": {
   "codemirror_mode": {
    "name": "ipython",
    "version": 3
   },
   "file_extension": ".py",
   "mimetype": "text/x-python",
   "name": "python",
   "nbconvert_exporter": "python",
   "pygments_lexer": "ipython3",
   "version": "3.12.2"
  }
 },
 "nbformat": 4,
 "nbformat_minor": 5
}
