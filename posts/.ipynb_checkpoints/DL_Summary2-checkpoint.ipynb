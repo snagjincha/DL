{
 "cells": [
  {
   "cell_type": "raw",
   "id": "accfce61-df40-44c4-ba20-49e9173fbc31",
   "metadata": {},
   "source": [
    "---\n",
    "title: \"DL2024 4wk-5wk asdfasdf\"\n",
    "author: \"차상진\"\n",
    "date: \"2024-04-09\"\n",
    "---"
   ]
  },
  {
   "cell_type": "markdown",
   "id": "fd6ffbc6-812d-4d2f-b09d-655f745863e5",
   "metadata": {},
   "source": [
    "# 1. Imports"
   ]
  },
  {
   "cell_type": "code",
   "execution_count": 90,
   "id": "2f32a23c-bc87-471e-8588-701c72060b02",
   "metadata": {},
   "outputs": [],
   "source": [
    "import torch\n",
    "import matplotlib.pyplot as plt\n",
    "from fastai.data.all import *\n",
    "import torchvision"
   ]
  },
  {
   "cell_type": "markdown",
   "id": "23b2810c-09aa-41b8-8ed1-6d03f76bfd39",
   "metadata": {},
   "source": [
    "# 2. Layer의 수"
   ]
  },
  {
   "cell_type": "markdown",
   "id": "ace7ac0a-d27c-4744-8c8e-a2b03931b01e",
   "metadata": {},
   "source": [
    "학습 가능한 파라메터가 몇 층으로 있는지 즉, Linear(???,???)가 몇 개 있는지 센다"
   ]
  },
  {
   "cell_type": "markdown",
   "id": "a6fbfd32-2316-48d7-9364-2debe6fb35b8",
   "metadata": {},
   "source": [
    "`-` hidden layer의 수"
   ]
  },
  {
   "cell_type": "markdown",
   "id": "05d5df48-1d9d-4c04-a5cb-3eb56491824c",
   "metadata": {},
   "source": [
    "hidden layer의 수는 layer의 수 -1이다"
   ]
  },
  {
   "cell_type": "markdown",
   "id": "2393d338-d3db-4985-9555-75d68833e6f0",
   "metadata": {},
   "source": [
    "`-` 예제"
   ]
  },
  {
   "cell_type": "raw",
   "id": "493e1c38-7cac-4d56-9dc3-a5c2db619a41",
   "metadata": {},
   "source": [
    "## 예시1 -- 2층 (히든레이어는 1층)\n",
    "torch.nn.Sequential(\n",
    "    torch.nn.Linear(??,??), ## <-- 학습해야할 가중치가 있는 층\n",
    "    torch.nn.ReLU(),\n",
    "    torch.nn.Linear(??,??), ## <-- 학습해야할 가중치가 있는 층\n",
    ")"
   ]
  },
  {
   "cell_type": "raw",
   "id": "36f08851-7b00-4c03-bb67-5d3238789fd4",
   "metadata": {},
   "source": [
    "## 예시2 -- 2층 (히든레이어는 1층)\n",
    "torch.nn.Sequential(\n",
    "    torch.nn.Linear(??,??), ## <-- 학습해야할 가중치가 있는 층\n",
    "    torch.nn.ReLU(),\n",
    "    torch.nn.Linear(??,??), ## <-- 학습해야할 가중치가 있는 층\n",
    "    torch.nn.Sigmoid(),\n",
    ")"
   ]
  },
  {
   "cell_type": "raw",
   "id": "ed16a5c2-3bde-473b-b843-6416ad4bba20",
   "metadata": {},
   "source": [
    "## 예시3 -- 1층 (히든레이어는 없음!!)\n",
    "torch.nn.Sequential(\n",
    "    torch.nn.Linear(??,??), ## <-- 학습해야할 가중치가 있는 층\n",
    ") "
   ]
  },
  {
   "cell_type": "raw",
   "id": "d0414e92-0960-44bf-95a8-d060022d6722",
   "metadata": {},
   "source": [
    "## 예시4 -- 1층 (히든레이어는 없음!!)\n",
    "torch.nn.Sequential(\n",
    "    torch.nn.Linear(??,??), ## <-- 학습해야할 가중치가 있는 층\n",
    "    torch.nn.Sigmoid()\n",
    ") "
   ]
  },
  {
   "cell_type": "raw",
   "id": "ea4e910d-b265-425c-812f-b8b5828377b0",
   "metadata": {},
   "source": [
    "## 예시5 -- 3층 (히든레이어는 2층)\n",
    "torch.nn.Sequential(\n",
    "    torch.nn.Linear(??,??), ## <-- 학습해야할 가중치가 있는 층\n",
    "    torch.nn.Sigmoid()\n",
    "    torch.nn.Linear(??,??), ## <-- 학습해야할 가중치가 있는 층\n",
    "    torch.nn.Sigmoid()\n",
    "    torch.nn.Linear(??,??), ## <-- 학습해야할 가중치가 있는 층    \n",
    ") "
   ]
  },
  {
   "cell_type": "raw",
   "id": "77418e0a-735c-482e-9f28-2d33171fd1be",
   "metadata": {},
   "source": [
    "## 예시6 -- 3층 (히든레이어는 2층)\n",
    "torch.nn.Sequential(\n",
    "    torch.nn.Linear(??,??), ## <-- 학습해야할 가중치가 있는 층\n",
    "    torch.nn.ReLU()\n",
    "    torch.nn.Dropout(??)\n",
    "    torch.nn.Linear(??,??), ## <-- 학습해야할 가중치가 있는 층\n",
    "    torch.nn.ReLU()\n",
    "    torch.nn.Dropout(??)\n",
    "    torch.nn.Linear(??,??), ## <-- 학습해야할 가중치가 있는 층  \n",
    "    torch.nn.Sigmoid()\n",
    ") "
   ]
  },
  {
   "cell_type": "markdown",
   "id": "216f5d49-e9e6-4b52-ab43-d50603fd246d",
   "metadata": {},
   "source": [
    "# 3. 다이어그램 그림을 보고 코드로 구현하기 (중요)"
   ]
  },
  {
   "cell_type": "markdown",
   "id": "550c1724-ed45-4138-966a-ca74f1af7a05",
   "metadata": {},
   "source": [
    "![다이어그램표현](https://guebin.github.io/DL2022/posts/II.%20DNN/2022-10-11-6wk-2_files/figure-html/cell-15-output-1.svg)"
   ]
  },
  {
   "cell_type": "markdown",
   "id": "ec1801fc-13a6-4ea4-8523-a097180a35b7",
   "metadata": {},
   "source": [
    "`-` 위의 그림을 보고 net을 짜라"
   ]
  },
  {
   "cell_type": "raw",
   "id": "a592a407-11c3-400e-8d70-0669cb5e38e9",
   "metadata": {},
   "source": [
    "net = torch.nn.Sequential(\n",
    "    torch.nn.Linear(1*28*28,32),\n",
    "    torch.nn.ReLU(),\n",
    "    torch.nn.Linear(32,1),\n",
    "    torch.nn.Sigmoid()\n",
    ")"
   ]
  },
  {
   "cell_type": "markdown",
   "id": "80d96046-f1ad-4edf-bf93-2397b5bb6137",
   "metadata": {},
   "source": [
    "![딥러닝 과제](https://d2908q01vomqb2.cloudfront.net/f1f836cb4ea6efb2a0b1b99f41ad8b103eff4b59/2017/10/06/intro-gluon-1.gif)"
   ]
  },
  {
   "cell_type": "raw",
   "id": "02dac361-d1d0-4f5b-ac52-f2d375ff97b4",
   "metadata": {},
   "source": [
    "net = torch.nn.Sequential(\n",
    "    torch.nn.Linear(1*28*28,128),\n",
    "    torch.nn.ReLU(),\n",
    "    torch.nn.Linear(128,64),\n",
    "    torch.nn.ReLU(),\n",
    "    torch.nn.Linear(64,10),\n",
    "    # torch.nn.Softmax()\n",
    ")\n",
    "\n",
    "loss_fn = torch.nn.CrossEntropyLoss()"
   ]
  },
  {
   "cell_type": "markdown",
   "id": "1c7ca7f4-4cf5-48a4-9ec0-f4700688c610",
   "metadata": {},
   "source": [
    "# 4. CPU vs GPU"
   ]
  },
  {
   "cell_type": "markdown",
   "id": "47ae73ef-82cc-43a4-9a5b-165f5910970d",
   "metadata": {},
   "source": [
    "`-` CPU (512 nodes)"
   ]
  },
  {
   "cell_type": "code",
   "execution_count": 39,
   "id": "d095a255-0d61-4c96-84aa-730578c72a28",
   "metadata": {},
   "outputs": [],
   "source": [
    "import time"
   ]
  },
  {
   "cell_type": "code",
   "execution_count": 51,
   "id": "eeb8427b-0005-4be1-a896-621fed78d823",
   "metadata": {},
   "outputs": [
    {
     "data": {
      "text/plain": [
       "1.4660861492156982"
      ]
     },
     "execution_count": 51,
     "metadata": {},
     "output_type": "execute_result"
    }
   ],
   "source": [
    "torch.manual_seed(5)\n",
    "x = torch.linspace(0,1,100).reshape(-1,1)\n",
    "y = torch.randn(100).reshape(-1,1)*0.01\n",
    "\n",
    "net = torch.nn.Sequential(\n",
    "    torch.nn.Linear(1,512),\n",
    "    torch.nn.ReLU(),\n",
    "    torch.nn.Linear(512,1),\n",
    ")\n",
    "\n",
    "loss_fn = torch.nn.MSELoss()\n",
    "optimizr = torch.optim.Adam(net.parameters())\n",
    "\n",
    "t1 = time.time()\n",
    "for epoc in range(1000):\n",
    "    yhat = net(x)\n",
    "    loss = loss_fn(yhat,y)\n",
    "    loss.backward()\n",
    "    optimizr.step()\n",
    "    optimizr.zero_grad()\n",
    "t2 = time.time()\n",
    "t2 - t1"
   ]
  },
  {
   "cell_type": "markdown",
   "id": "b8ebf347-6df3-4d9f-992b-437968d1ee11",
   "metadata": {},
   "source": [
    "`-` GPU (512 nodes)"
   ]
  },
  {
   "cell_type": "code",
   "execution_count": 53,
   "id": "08809dbc-b9e8-43f3-a113-b93a9e0cf266",
   "metadata": {},
   "outputs": [
    {
     "data": {
      "text/plain": [
       "1.705209732055664"
      ]
     },
     "execution_count": 53,
     "metadata": {},
     "output_type": "execute_result"
    }
   ],
   "source": [
    "torch.manual_seed(5)\n",
    "x = torch.linspace(0,1,100).reshape(-1,1)\n",
    "y = torch.randn(100).reshape(-1,1)*0.01\n",
    "\n",
    "net = torch.nn.Sequential(\n",
    "    torch.nn.Linear(1,512),\n",
    "    torch.nn.ReLU(),\n",
    "    torch.nn.Linear(512,1),\n",
    ").to(\"cuda:0\")\n",
    "\n",
    "loss_fn = torch.nn.MSELoss()\n",
    "optimizr = torch.optim.Adam(net.parameters())\n",
    "\n",
    "t1 = time.time()\n",
    "for epoc in range(1000):\n",
    "    yhat = net(x.to(\"cuda:0\"))\n",
    "    loss = loss_fn(yhat.to(\"cuda:0\"),y.to(\"cuda:0\"))\n",
    "    loss.backward()\n",
    "    optimizr.step()\n",
    "    optimizr.zero_grad()\n",
    "t2 = time.time()\n",
    "t2 - t1"
   ]
  },
  {
   "attachments": {},
   "cell_type": "markdown",
   "id": "c89a6dd8-27ff-4121-a1e3-9c9641bdceca",
   "metadata": {},
   "source": [
    "`?` CPU가 더 빠르다?"
   ]
  },
  {
   "cell_type": "code",
   "execution_count": null,
   "id": "6cf6a1bb-903b-4f16-aa70-3434fa85bd22",
   "metadata": {},
   "outputs": [],
   "source": [
    "`-` CPU "
   ]
  },
  {
   "cell_type": "code",
   "execution_count": 54,
   "id": "4d8082b3-5476-42cd-bcd0-d784916150be",
   "metadata": {},
   "outputs": [
    {
     "data": {
      "text/plain": [
       "89.38723254203796"
      ]
     },
     "execution_count": 54,
     "metadata": {},
     "output_type": "execute_result"
    }
   ],
   "source": [
    "torch.manual_seed(5)\n",
    "x = torch.linspace(0,1,100).reshape(-1,1)\n",
    "y = torch.randn(100).reshape(-1,1)*0.01\n",
    "\n",
    "net = torch.nn.Sequential(\n",
    "    torch.nn.Linear(1,204800),\n",
    "    torch.nn.ReLU(),\n",
    "    torch.nn.Linear(204800,1),\n",
    ")\n",
    "\n",
    "loss_fn = torch.nn.MSELoss()\n",
    "optimizr = torch.optim.Adam(net.parameters())\n",
    "\n",
    "t1 = time.time()\n",
    "for epoc in range(1000):\n",
    "    yhat = net(x)\n",
    "    loss = loss_fn(yhat,y)\n",
    "    loss.backward()\n",
    "    optimizr.step()\n",
    "    optimizr.zero_grad()\n",
    "t2 = time.time()\n",
    "t2 - t1"
   ]
  },
  {
   "cell_type": "markdown",
   "id": "140f1443-dd83-4a0b-b9a0-991429b47a3d",
   "metadata": {},
   "source": [
    "`-` GPU (204800)"
   ]
  },
  {
   "cell_type": "code",
   "execution_count": 55,
   "id": "3ee546e0-adfc-4689-972c-60c281e3de6b",
   "metadata": {},
   "outputs": [
    {
     "data": {
      "text/plain": [
       "1.1584672927856445"
      ]
     },
     "execution_count": 55,
     "metadata": {},
     "output_type": "execute_result"
    }
   ],
   "source": [
    "torch.manual_seed(5)\n",
    "x = torch.linspace(0,1,100).reshape(-1,1)\n",
    "y = torch.randn(100).reshape(-1,1)*0.01\n",
    "\n",
    "net = torch.nn.Sequential(\n",
    "    torch.nn.Linear(1,204800),\n",
    "    torch.nn.ReLU(),\n",
    "    torch.nn.Linear(204800,1),\n",
    ").to(\"cuda:0\")\n",
    "\n",
    "loss_fn = torch.nn.MSELoss()\n",
    "optimizr = torch.optim.Adam(net.parameters())\n",
    "\n",
    "t1 = time.time()\n",
    "for epoc in range(1000):\n",
    "    yhat = net(x.to(\"cuda:0\"))\n",
    "    loss = loss_fn(yhat.to(\"cuda:0\"),y.to(\"cuda:0\"))\n",
    "    loss.backward()\n",
    "    optimizr.step()\n",
    "    optimizr.zero_grad()\n",
    "t2 = time.time()\n",
    "t2 - t1"
   ]
  },
  {
   "cell_type": "markdown",
   "id": "8f382a06-b8f6-46ac-a1c4-083115fbdcb8",
   "metadata": {},
   "source": [
    "# 4.'확률적' 경사하강법"
   ]
  },
  {
   "cell_type": "markdown",
   "id": "d6c37219-fc38-4337-952e-b87212647cf8",
   "metadata": {},
   "source": [
    "`-` 그럼 GPU로 다 쓰면 되는 거 아닌가?\n",
    "\n",
    "그러기엔 GPU가 너무 비싸다... 80GB에 3000만원씩 하기때문...\n",
    "\n",
    "그럼 GPU메모리를 어떻게든 아껴서 잘 사용해야하네? 80GB는 금방 차버리니까\n",
    "\n",
    "어떻게 해야할까?"
   ]
  },
  {
   "cell_type": "code",
   "execution_count": 56,
   "id": "e1e44917-c83e-422e-885d-b9ae6840aadb",
   "metadata": {},
   "outputs": [],
   "source": [
    "x = torch.linspace(-10,10,100000).reshape(-1,1)\n",
    "eps = torch.randn(100000).reshape(-1,1)\n",
    "y = x*2 + eps "
   ]
  },
  {
   "cell_type": "code",
   "execution_count": 57,
   "id": "8053a79c-21c5-45f5-8908-8b96daebb7a2",
   "metadata": {},
   "outputs": [
    {
     "data": {
      "text/plain": [
       "[<matplotlib.lines.Line2D at 0x7fb12b306fc0>]"
      ]
     },
     "execution_count": 57,
     "metadata": {},
     "output_type": "execute_result"
    },
    {
     "data": {
      "image/png": "[encoded data removed]",
      "text/plain": [
       "<Figure size 640x480 with 1 Axes>"
      ]
     },
     "metadata": {},
     "output_type": "display_data"
    }
   ],
   "source": [
    "plt.plot(x,y,'o',alpha=0.05)\n",
    "plt.plot(x,2*x,'--')"
   ]
  },
  {
   "cell_type": "markdown",
   "id": "4b10840b-4292-41d5-81d9-65c072c71305",
   "metadata": {},
   "source": [
    "10만개의 데이터를 모두 GPU로 보내서 연산시키면 너무 낭비라는 생각이 듦...\n",
    "\n",
    "그렇게 어려운 계산도 아닌데"
   ]
  },
  {
   "cell_type": "markdown",
   "id": "1cdacafc-986f-4bc0-be6e-b066c289ee90",
   "metadata": {},
   "source": [
    "## A. X,y 데이터를 모두 굳이 GPU에 넘겨야 하는가?"
   ]
  },
  {
   "cell_type": "markdown",
   "id": "03aa709d-9c94-49df-847c-fe1bda4be4e1",
   "metadata": {},
   "source": [
    "데이터셋을 짝홀로 나누어서 번갈아가면서 GPU에 올렸다 내렸다하면 안되나?\n",
    "\n",
    "`-` 아래의 알고리즘을 생각해보자.\n",
    "\n",
    "1. 데이터를 반으로 나누고\n",
    "2. 짝수 obs의 x,y,net의 모든 parameters을 GPU에 올린다\n",
    "3. yhat,loss,grad,update 수행\n",
    "4. 홀수 obs의 x,y를 GPU메모리에서 내린다. 그리고 짝수 obs의 x,y를 GPU메모리에 올린다\n",
    "5. yhat,loss,grad,update 수행\n",
    "6. 반복"
   ]
  },
  {
   "cell_type": "markdown",
   "id": "33fd9c9f-7c86-499a-a2c3-10e932eab516",
   "metadata": {},
   "source": [
    "## B. 미니배치 경사하강법"
   ]
  },
  {
   "cell_type": "markdown",
   "id": "58bd70e7-a5ef-4556-80b6-4ccc55feeec2",
   "metadata": {},
   "source": [
    "그럼 홀수 짝수로 나누는 건 2로 나누는 건데 굳이 2로만 나누어야하나? 더 쪼갤 수 있지 않나?"
   ]
  },
  {
   "cell_type": "markdown",
   "id": "b4a17077-c429-4f6a-a0b7-6710a2b0ce7b",
   "metadata": {},
   "source": [
    "`-` gradient descent : 10개의 sample data가 있다고 할 때 모든 sample을 이용하여 slope계산\n",
    "\n",
    "`-` stochastic gradient descent with batch size = 1 : 10개의 smaple data를 하나씩으로 모두 쪼개서 slope계산\n",
    "\n",
    "stochastic gradient descent with batch size = 1의 경우는 epoc을 10번 하면 총 100번 epoc을 돌리는 것과 같다\n",
    "\n",
    "`-` stochastic gradient descent : m개의 sample을 이용하여 slope 계산\n",
    "\n",
    "그럼 stochastic gradient descent의 경우는 epoc을 10번 하면 총 40번 epoc을 돌리는 것과 같다."
   ]
  },
  {
   "cell_type": "markdown",
   "id": "8de314d1-0104-4572-83da-6ba67f69db80",
   "metadata": {},
   "source": [
    "## C. Dataset(ds) , DataLoader(dl)"
   ]
  },
  {
   "cell_type": "markdown",
   "id": "a98fe404-baf2-4919-8575-542ff44b2809",
   "metadata": {},
   "source": [
    "stochastic gradient descent를 수행하기 위해서 파이토치에서는 ds와 dl라는 오브젝트를 준비했다."
   ]
  },
  {
   "cell_type": "code",
   "execution_count": 58,
   "id": "73e671b5-d3aa-46b8-a0cc-8a6f733273a1",
   "metadata": {},
   "outputs": [
    {
     "data": {
      "text/plain": [
       "tensor([[0., 1.],\n",
       "        [1., 1.],\n",
       "        [2., 1.],\n",
       "        [3., 1.],\n",
       "        [4., 1.],\n",
       "        [5., 0.],\n",
       "        [6., 0.],\n",
       "        [7., 0.],\n",
       "        [8., 0.],\n",
       "        [9., 0.]])"
      ]
     },
     "execution_count": 58,
     "metadata": {},
     "output_type": "execute_result"
    }
   ],
   "source": [
    "x=torch.tensor(range(10)).float().reshape(-1,1)\n",
    "y=torch.tensor([1.0]*5+[0.0]*5).reshape(-1,1)\n",
    "torch.concat([x,y],axis=1)"
   ]
  },
  {
   "cell_type": "code",
   "execution_count": 63,
   "id": "62ac1ec6-cbcc-4a97-af39-7deb2084ba02",
   "metadata": {},
   "outputs": [],
   "source": [
    "ds = torch.utils.data.TensorDataset(x,y)"
   ]
  },
  {
   "cell_type": "markdown",
   "id": "dcc11cc9-5138-46d1-99bb-7131f54bb130",
   "metadata": {},
   "source": [
    "dir(ds)를 살펴보면 __getitem__이 있다 이러면 섭스크립터블하다는 것이다."
   ]
  },
  {
   "cell_type": "code",
   "execution_count": 73,
   "id": "67910ed2-ada5-49cb-a65c-341cf8ae5b45",
   "metadata": {},
   "outputs": [
    {
     "data": {
      "text/plain": [
       "(tensor([[0.],\n",
       "         [1.],\n",
       "         [2.],\n",
       "         [3.],\n",
       "         [4.],\n",
       "         [5.],\n",
       "         [6.],\n",
       "         [7.],\n",
       "         [8.],\n",
       "         [9.]]),\n",
       " tensor([[1.],\n",
       "         [1.],\n",
       "         [1.],\n",
       "         [1.],\n",
       "         [1.],\n",
       "         [0.],\n",
       "         [0.],\n",
       "         [0.],\n",
       "         [0.],\n",
       "         [0.]]))"
      ]
     },
     "execution_count": 73,
     "metadata": {},
     "output_type": "execute_result"
    }
   ],
   "source": [
    "ds.tensors # 튜플 언패킹으로 뽑을 수 있을 거 같음"
   ]
  },
  {
   "cell_type": "code",
   "execution_count": 74,
   "id": "6739632c-dd3c-4936-812e-15831fbc973f",
   "metadata": {},
   "outputs": [
    {
     "data": {
      "text/plain": [
       "((tensor([0.]), tensor([1.])),\n",
       " tensor([[0.],\n",
       "         [1.],\n",
       "         [2.],\n",
       "         [3.],\n",
       "         [4.],\n",
       "         [5.],\n",
       "         [6.],\n",
       "         [7.],\n",
       "         [8.],\n",
       "         [9.]]))"
      ]
     },
     "execution_count": 74,
     "metadata": {},
     "output_type": "execute_result"
    }
   ],
   "source": [
    "ds[0] , (x,y)[0]"
   ]
  },
  {
   "cell_type": "markdown",
   "id": "4aabf48a-79ad-4c73-800a-b743821f983c",
   "metadata": {},
   "source": [
    "그런데 일반적인 튜플의 인덱싱과는 다르게 동작함"
   ]
  },
  {
   "cell_type": "code",
   "execution_count": 78,
   "id": "81118f2c-36eb-41a4-a55e-e2637e8a1f5b",
   "metadata": {},
   "outputs": [
    {
     "data": {
      "text/plain": [
       "<torch.utils.data.dataloader.DataLoader at 0x7fb12bf0eb10>"
      ]
     },
     "execution_count": 78,
     "metadata": {},
     "output_type": "execute_result"
    }
   ],
   "source": [
    "dl=torch.utils.data.DataLoader(ds,batch_size=3)\n",
    "dl"
   ]
  },
  {
   "cell_type": "markdown",
   "id": "ed112535-b0a5-4e63-a9b6-5d1fc8e7e0da",
   "metadata": {},
   "source": [
    "dl : 섭스크립터블하지 않지만 이터러블 함 즉, for문을 사용할 수 있음"
   ]
  },
  {
   "cell_type": "code",
   "execution_count": 83,
   "id": "4abd9e69-2626-4838-9b4a-d867648ebc34",
   "metadata": {},
   "outputs": [
    {
     "name": "stdout",
     "output_type": "stream",
     "text": [
      "tensor([[0.],\n",
      "        [1.],\n",
      "        [2.]]) tensor([[1.],\n",
      "        [1.],\n",
      "        [1.]])\n",
      "tensor([[3.],\n",
      "        [4.],\n",
      "        [5.]]) tensor([[1.],\n",
      "        [1.],\n",
      "        [0.]])\n",
      "tensor([[6.],\n",
      "        [7.],\n",
      "        [8.]]) tensor([[0.],\n",
      "        [0.],\n",
      "        [0.]])\n",
      "tensor([[9.]]) tensor([[0.]])\n"
     ]
    }
   ],
   "source": [
    "for xi,yi in dl:\n",
    "    print(xi,yi)"
   ]
  },
  {
   "cell_type": "markdown",
   "id": "1c09c3b9-2c53-4978-ad4b-70922f7c889c",
   "metadata": {},
   "source": [
    "10을 3으로 나누면 마지막에 하나 남는데 그건 어떻게 해? -> 그냥 하나 남으면 그것만 계산한다"
   ]
  },
  {
   "cell_type": "markdown",
   "id": "e9f726b1-e8b0-48e4-ab21-2f3e8572db37",
   "metadata": {},
   "source": [
    "## D. ds,dl을 이용한 MNIST구현"
   ]
  },
  {
   "cell_type": "markdown",
   "id": "47b7482f-7124-4ece-8810-3ca835c15e67",
   "metadata": {},
   "source": [
    "`-` 목표 : 확률적경사하강법과 그냥 경사하강법의 성능을 '동일 반복횟수'로 비교해보자"
   ]
  },
  {
   "cell_type": "markdown",
   "id": "b77b3d11-ae42-4e2e-b65b-24383fa30867",
   "metadata": {},
   "source": [
    "`-` 그냥 경사하강법 - mini-batch쓰지 않는 학습"
   ]
  },
  {
   "cell_type": "code",
   "execution_count": 113,
   "id": "30923bb1-58d5-4a56-ab3e-1595855e32e5",
   "metadata": {},
   "outputs": [
    {
     "data": {
      "text/plain": [
       "tensor(0.9998)"
      ]
     },
     "execution_count": 113,
     "metadata": {},
     "output_type": "execute_result"
    }
   ],
   "source": [
    "path = untar_data(URLs.MNIST)\n",
    "X0 = torch.stack(([torchvision.io.read_image(str(fname)) for fname in (path/'training/0').ls()]))\n",
    "X1 = torch.stack(([torchvision.io.read_image(str(fname)) for fname in (path/'training/1').ls()]))\n",
    "X = torch.concat([X0,X1],axis=0).reshape(-1,1*28*28)/255\n",
    "y = torch.tensor([0.0]*len(X0) + [1.0]*len(X1)).reshape(-1,1)\n",
    "\n",
    "torch.manual_seed(21345)\n",
    "net = torch.nn.Sequential(\n",
    "    torch.nn.Linear(1*28*28,32),\n",
    "    torch.nn.ReLU(),\n",
    "    torch.nn.Linear(32,1),\n",
    "    torch.nn.Sigmoid()\n",
    ")\n",
    "\n",
    "loss_fn = torch.nn.BCELoss()\n",
    "optimizr = torch.optim.Adam(net.parameters())\n",
    "\n",
    "for epoc in range(700):\n",
    "    yhat = net(X)\n",
    "    loss = loss_fn(yhat,y)\n",
    "    loss.backward()\n",
    "    optimizr.step()\n",
    "    optimizr.zero_grad()\n",
    "\n",
    "((yhat > 0.5)*1.0 == y).float().mean()"
   ]
  },
  {
   "cell_type": "code",
   "execution_count": 112,
   "id": "2e2b6082-5143-4caa-82c6-b4404a20897e",
   "metadata": {},
   "outputs": [
    {
     "data": {
      "text/plain": [
       "[<matplotlib.lines.Line2D at 0x7fb029155fa0>]"
      ]
     },
     "execution_count": 112,
     "metadata": {},
     "output_type": "execute_result"
    },
    {
     "data": {
      "image/png": "[encoded data removed]",
      "text/plain": [
       "<Figure size 640x480 with 1 Axes>"
      ]
     },
     "metadata": {},
     "output_type": "display_data"
    }
   ],
   "source": [
    "plt.plot(y)\n",
    "plt.plot(yhat.data,'.')"
   ]
  },
  {
   "cell_type": "markdown",
   "id": "888d7465-96f2-4de1-9327-e7c5dfdacc6a",
   "metadata": {},
   "source": [
    "`-` '확률적' 경사하강법 - mini-batch사용하는 학습"
   ]
  },
  {
   "cell_type": "code",
   "execution_count": 121,
   "id": "7363581a-435f-4227-9cd2-e239c9806552",
   "metadata": {},
   "outputs": [
    {
     "data": {
      "text/plain": [
       "tensor(0.9998)"
      ]
     },
     "execution_count": 121,
     "metadata": {},
     "output_type": "execute_result"
    }
   ],
   "source": [
    "ds = torch.utils.data.TensorDataset(X,y)\n",
    "dl = torch.utils.data.DataLoader(ds,batch_size=2048)\n",
    "\n",
    "path = untar_data(URLs.MNIST)\n",
    "X0 = torch.stack(([torchvision.io.read_image(str(fname)) for fname in (path/'training/0').ls()]))\n",
    "X1 = torch.stack(([torchvision.io.read_image(str(fname)) for fname in (path/'training/1').ls()]))\n",
    "X = torch.concat([X0,X1],axis=0).reshape(-1,1*28*28)/255\n",
    "y = torch.tensor([0.0]*len(X0) + [1.0]*len(X1)).reshape(-1,1)\n",
    "\n",
    "torch.manual_seed(21345)\n",
    "net = torch.nn.Sequential(\n",
    "    torch.nn.Linear(1*28*28,32),\n",
    "    torch.nn.ReLU(),\n",
    "    torch.nn.Linear(32,1),\n",
    "    torch.nn.Sigmoid()\n",
    ")\n",
    "\n",
    "loss_fn = torch.nn.BCELoss()\n",
    "optimizr = torch.optim.Adam(net.parameters())\n",
    "\n",
    "for epoc in range(100):\n",
    "    for xi,y1 in dl:\n",
    "        yhat = net(X)\n",
    "        loss = loss_fn(yhat,y)\n",
    "        loss.backward()\n",
    "        optimizr.step()\n",
    "        optimizr.zero_grad()\n",
    "\n",
    "((yhat > 0.5)*1.0 == y).float().mean()"
   ]
  },
  {
   "cell_type": "code",
   "execution_count": 123,
   "id": "6727c45f-1f5e-453e-b0ce-fc3fc83bb89d",
   "metadata": {},
   "outputs": [
    {
     "data": {
      "text/plain": [
       "[<matplotlib.lines.Line2D at 0x7fb02919d880>]"
      ]
     },
     "execution_count": 123,
     "metadata": {},
     "output_type": "execute_result"
    },
    {
     "data": {
      "image/png": "[encoded data removed]",
      "text/plain": [
       "<Figure size 640x480 with 1 Axes>"
      ]
     },
     "metadata": {},
     "output_type": "display_data"
    }
   ],
   "source": [
    "plt.plot(y)\n",
    "plt.plot(yhat.data,'.')"
   ]
  },
  {
   "cell_type": "markdown",
   "id": "5eb63e91-a49e-4bdf-9ccb-0b9cca77e3ec",
   "metadata": {},
   "source": [
    "`-` GPU를 활용하는 '확률적' 경사하강법 - 실제로는 이게 최종 알고리즘"
   ]
  },
  {
   "cell_type": "code",
   "execution_count": 129,
   "id": "52fcfb58-e20a-4acb-a48b-17ab63f2bd4f",
   "metadata": {},
   "outputs": [
    {
     "data": {
      "text/plain": [
       "tensor(0.9992)"
      ]
     },
     "execution_count": 129,
     "metadata": {},
     "output_type": "execute_result"
    }
   ],
   "source": [
    "ds = torch.utils.data.TensorDataset(X,y)\n",
    "dl = torch.utils.data.DataLoader(ds,batch_size=2048)\n",
    "\n",
    "path = untar_data(URLs.MNIST)\n",
    "X0 = torch.stack(([torchvision.io.read_image(str(fname)) for fname in (path/'training/0').ls()]))\n",
    "X1 = torch.stack(([torchvision.io.read_image(str(fname)) for fname in (path/'training/1').ls()]))\n",
    "X = torch.concat([X0,X1],axis=0).reshape(-1,1*28*28)/255\n",
    "y = torch.tensor([0.0]*len(X0) + [1.0]*len(X1)).reshape(-1,1)\n",
    "\n",
    "torch.manual_seed(21345)\n",
    "net = torch.nn.Sequential(\n",
    "    torch.nn.Linear(1*28*28,32),\n",
    "    torch.nn.ReLU(),\n",
    "    torch.nn.Linear(32,1),\n",
    "    torch.nn.Sigmoid()\n",
    ").to(\"cuda:0\")\n",
    "\n",
    "loss_fn = torch.nn.BCELoss()\n",
    "optimizr = torch.optim.Adam(net.parameters())\n",
    "\n",
    "for epoc in range(100):\n",
    "    for xi,yi in dl:\n",
    "        loss = loss_fn(net(xi.to(\"cuda:0\")),yi.to(\"cuda:0\"))\n",
    "        loss.backward()\n",
    "        optimizr.step()\n",
    "        optimizr.zero_grad()\n",
    "\n",
    "net.to(\"cpu\")\n",
    "\n",
    "((net(X) > 0.5)*1.0 == y).float().mean()"
   ]
  },
  {
   "cell_type": "code",
   "execution_count": 131,
   "id": "364c356e-79ef-478d-a18f-472b03158806",
   "metadata": {},
   "outputs": [
    {
     "data": {
      "text/plain": [
       "[<matplotlib.lines.Line2D at 0x7fb028c068a0>]"
      ]
     },
     "execution_count": 131,
     "metadata": {},
     "output_type": "execute_result"
    },
    {
     "data": {
      "image/png": "[encoded data removed]",
      "text/plain": [
       "<Figure size 640x480 with 1 Axes>"
      ]
     },
     "metadata": {},
     "output_type": "display_data"
    }
   ],
   "source": [
    "plt.plot(y)\n",
    "plt.plot(net(X).data.data,'.')"
   ]
  },
  {
   "cell_type": "markdown",
   "id": "96c169eb-32f7-417a-ac4e-ccddef9bcdb7",
   "metadata": {},
   "source": [
    "# 5. 다중클래스 분류"
   ]
  },
  {
   "cell_type": "markdown",
   "id": "a344d6b4-c2dd-44ec-b1a5-d8dbe8d99bd1",
   "metadata": {},
   "source": [
    "## A. 결론(그냥 외워)"
   ]
  },
  {
   "cell_type": "markdown",
   "id": "16f17efc-926a-4d5e-9bfa-65c5d7af0d51",
   "metadata": {},
   "source": [
    "`-` 2개의 class를 구분하는 게 아니라 k개의 class를 구분해야 한다면?"
   ]
  },
  {
   "cell_type": "markdown",
   "id": "5d8d8b47-0631-4c3c-bcc5-d37f5e077ae5",
   "metadata": {},
   "source": [
    "y의 형태 : (n,) vector + int형 // (n,k) one-hot encoded matrix + float형\n",
    "\n",
    "손실함수 : torch.nn.BCEWithLogitsLoss, -> torch.nn.CrossEntropyLoss\n",
    "\n",
    "마지막층의 선형변환 : torch.nn.Linear(?,1) -> torch.nn.Linear(?,k)\n",
    "\n",
    "마지막층의 활성화 : NONE -> NONE (손실함수에 이미 포함되어있음)"
   ]
  },
  {
   "cell_type": "markdown",
   "id": "4a7574cc-29ac-4c0b-bc54-454400497a39",
   "metadata": {},
   "source": [
    "## B. 실습 : 3개의 클래스를 구분"
   ]
  },
  {
   "cell_type": "markdown",
   "id": "dcd4e08d-abab-4111-a648-59314686f623",
   "metadata": {},
   "source": [
    "`-` 1. 통계는 잘하는데 파이토치를 못하는 사람의 코드"
   ]
  },
  {
   "cell_type": "code",
   "execution_count": 132,
   "id": "f332a0d4-3257-4b9d-b906-6bedb0cfb5a1",
   "metadata": {},
   "outputs": [
    {
     "data": {
      "text/plain": [
       "tensor(0.9827)"
      ]
     },
     "execution_count": 132,
     "metadata": {},
     "output_type": "execute_result"
    }
   ],
   "source": [
    "## Step1: 데이터준비 \n",
    "path = untar_data(URLs.MNIST)\n",
    "X0 = torch.stack([torchvision.io.read_image(str(fname)) for fname in (path/'training/0').ls()])\n",
    "X1 = torch.stack([torchvision.io.read_image(str(fname)) for fname in (path/'training/1').ls()])\n",
    "X2 = torch.stack([torchvision.io.read_image(str(fname)) for fname in (path/'training/2').ls()])\n",
    "X = torch.concat([X0,X1,X2]).reshape(-1,1*28*28)/255\n",
    "y = torch.nn.functional.one_hot(torch.tensor([0]*len(X0) + [1]*len(X1)+ [2]*len(X2))).float()\n",
    "## Step2: 학습가능한 오브젝트 생성\n",
    "torch.manual_seed(43052)\n",
    "net = torch.nn.Sequential(\n",
    "    torch.nn.Linear(784,32),\n",
    "    torch.nn.ReLU(),\n",
    "    torch.nn.Linear(32,3),\n",
    "#    torch.nn.Softmax()\n",
    ")\n",
    "loss_fn = torch.nn.CrossEntropyLoss()\n",
    "optimizr = torch.optim.Adam(net.parameters())\n",
    "## Step3: 적합 \n",
    "for epoc in range(100):\n",
    "    ## step1 \n",
    "    netout = net(X)\n",
    "    ## step2 \n",
    "    loss = loss_fn(netout,y)\n",
    "    ## step3 \n",
    "    loss.backward()\n",
    "    ## step4 \n",
    "    optimizr.step()\n",
    "    optimizr.zero_grad()\n",
    "    \n",
    "## Step4: 적합 (혹은 적합결과확인)\n",
    "(netout.argmax(axis=1) == y.argmax(axis=1)).float().mean()"
   ]
  },
  {
   "cell_type": "markdown",
   "id": "ac54fc77-5041-4394-8fef-7b3b30190677",
   "metadata": {},
   "source": [
    "`-` 2. 파이토치를 잘하는 사람의 코드"
   ]
  },
  {
   "cell_type": "code",
   "execution_count": 133,
   "id": "4747d774-c5b7-4933-88e7-b005d7810ac1",
   "metadata": {},
   "outputs": [
    {
     "data": {
      "text/plain": [
       "tensor(0.9827)"
      ]
     },
     "execution_count": 133,
     "metadata": {},
     "output_type": "execute_result"
    }
   ],
   "source": [
    "## Step1: 데이터준비 \n",
    "path = untar_data(URLs.MNIST)\n",
    "X0 = torch.stack([torchvision.io.read_image(str(fname)) for fname in (path/'training/0').ls()])\n",
    "X1 = torch.stack([torchvision.io.read_image(str(fname)) for fname in (path/'training/1').ls()])\n",
    "X2 = torch.stack([torchvision.io.read_image(str(fname)) for fname in (path/'training/2').ls()])\n",
    "X = torch.concat([X0,X1,X2]).reshape(-1,1*28*28)/255\n",
    "#y = torch.nn.functional.one_hot(torch.tensor([0]*len(X0) + [1]*len(X1)+ [2]*len(X2))).float()\n",
    "y = torch.tensor([0]*len(X0) + [1]*len(X1)+ [2]*len(X2))\n",
    "## Step2: 학습가능한 오브젝트 생성\n",
    "torch.manual_seed(43052)\n",
    "net = torch.nn.Sequential(\n",
    "    torch.nn.Linear(784,32),\n",
    "    torch.nn.ReLU(),\n",
    "    torch.nn.Linear(32,3),\n",
    "#    torch.nn.Softmax()\n",
    ")\n",
    "loss_fn = torch.nn.CrossEntropyLoss()\n",
    "optimizr = torch.optim.Adam(net.parameters())\n",
    "## Step3: 적합 \n",
    "for epoc in range(100):\n",
    "    ## step1 \n",
    "    netout = net(X)\n",
    "    ## step2 \n",
    "    loss = loss_fn(netout,y)\n",
    "    ## step3 \n",
    "    loss.backward()\n",
    "    ## step4 \n",
    "    optimizr.step()\n",
    "    optimizr.zero_grad()\n",
    "## Step4: 적합 (혹은 적합결과확인)    \n",
    "(netout.argmax(axis=1) == y).float().mean()"
   ]
  },
  {
   "cell_type": "markdown",
   "id": "975016b0-e974-4c63-b666-9083f05cf32f",
   "metadata": {},
   "source": [
    "파이토치에서 CrossEntropyLoss를 사용하면 one-hot 인코딩을 해준다. float형도 자동으로 맞춰줌"
   ]
  },
  {
   "cell_type": "markdown",
   "id": "f48c4926-7f80-478d-b190-e7dfdc36837a",
   "metadata": {},
   "source": [
    "## C. Softmax"
   ]
  },
  {
   "cell_type": "code",
   "execution_count": 134,
   "id": "727a2b77-4274-4be5-a365-04d1011dbe92",
   "metadata": {},
   "outputs": [
    {
     "data": {
      "text/plain": [
       "tensor([[ 5.3554, -6.5855, -1.3154],\n",
       "        [ 3.2968, -4.6176, -1.0703],\n",
       "        [ 3.6498, -5.2716, -0.0403],\n",
       "        ...,\n",
       "        [-2.0524, -2.4955,  5.2198],\n",
       "        [-1.7430, -4.0844,  5.5187],\n",
       "        [-0.9800, -3.7222,  4.6707]], grad_fn=<AddmmBackward0>)"
      ]
     },
     "execution_count": 134,
     "metadata": {},
     "output_type": "execute_result"
    }
   ],
   "source": [
    "net(X)"
   ]
  },
  {
   "cell_type": "markdown",
   "id": "5c5a089c-f527-4947-9873-bc65d742fabd",
   "metadata": {},
   "source": [
    "Softmax는 숫자 하나하나에 접근해서 Sigmoid를 취해주는 것"
   ]
  },
  {
   "cell_type": "markdown",
   "id": "46c025cc-ff3c-4cf0-a638-cf24c3a777bd",
   "metadata": {},
   "source": [
    "## D.정리"
   ]
  },
  {
   "cell_type": "markdown",
   "id": "6976923e-25c3-4067-a0a2-66bc02b3e618",
   "metadata": {},
   "source": [
    "`-` 결론\n",
    "\n",
    "1. 소프트맥스는 시그모이드의 확장이다.\n",
    "2. 클래스의 수가 2개일 경우에는 (Sigmoid, BCEloss) 조합을 사용해야 하고 클래스의 수가 2개보다 클 경우에는 (Softmax, CrossEntropyLoss) 를 사용해야 한다."
   ]
  },
  {
   "cell_type": "markdown",
   "id": "4e12fefc-9649-41fc-82fd-d2342d1257ea",
   "metadata": {},
   "source": [
    "`-` 그런데 사실.. 클래스의 수가 2개일 경우일때 (Softmax, CrossEntropyLoss)를 사용해도 그렇게 큰일나는것은 아니다. (그냥 좀 비효율적인 느낌이 드는 것 뿐임. 흑백이미지를 칼라잉크로 출력하는 느낌)"
   ]
  },
  {
   "cell_type": "markdown",
   "id": "fa72dbb1-3991-44dd-a191-80fbb94b286b",
   "metadata": {},
   "source": [
    "# 6. CNN 예비학습"
   ]
  },
  {
   "cell_type": "markdown",
   "id": "98083c17-df68-4826-b3bd-07d727e4598e",
   "metadata": {},
   "source": [
    "$l_1$ : 선형변환 , feature를 뽑아내는 역할 (뻥튀기)\n",
    "\n",
    "$relu$ : 뻥튀기된 feature에 비선형을 추가하여 표현력을 극대화\n",
    "\n",
    "$l_2$ : 선형변환, 뻥튀기된 feature를 요약하는 역할 (=데이터를 요약하는 역할)\n",
    "\n",
    "$conv$ : feature를 뽑아내는 역할 (2d ver $l_1$ 느낌)\n",
    "\n",
    "$relu$\n",
    "\n",
    "$pooling$ : 데이터를 요약하는 역할"
   ]
  },
  {
   "cell_type": "markdown",
   "id": "2b5f93b7-bc93-4258-ab90-71311594bcd6",
   "metadata": {},
   "source": [
    "# A. torch.nn.Conv2d"
   ]
  },
  {
   "cell_type": "code",
   "execution_count": 139,
   "id": "2bd753c6-5d48-480b-a8ba-716b60655c3a",
   "metadata": {},
   "outputs": [
    {
     "data": {
      "text/plain": [
       "(tensor([[[[0.4293, 0.0457],\n",
       "           [0.4325, 0.1950]]]]),\n",
       " tensor([0.0321]))"
      ]
     },
     "execution_count": 139,
     "metadata": {},
     "output_type": "execute_result"
    }
   ],
   "source": [
    "torch.manual_seed(21345)\n",
    "conv = torch.nn.Conv2d(1,1,(2,2)) # 입력1, 출력1, (2,2) window size\n",
    "conv.weight.data, conv.bias.data"
   ]
  },
  {
   "cell_type": "code",
   "execution_count": 141,
   "id": "0fb7d1ac-25e6-4876-a4f6-6360ddeb6785",
   "metadata": {},
   "outputs": [
    {
     "data": {
      "text/plain": [
       "tensor([[[[0., 1.],\n",
       "          [2., 3.]]]])"
      ]
     },
     "execution_count": 141,
     "metadata": {},
     "output_type": "execute_result"
    }
   ],
   "source": [
    "_X = torch.arange(0,4).reshape(1,1,2,2).float() # 2,2 흑백이미지. \n",
    "_X"
   ]
  },
  {
   "cell_type": "code",
   "execution_count": 145,
   "id": "fa14da98-b14d-40da-8e8f-ab9d420bbf55",
   "metadata": {},
   "outputs": [
    {
     "data": {
      "text/plain": [
       "(1.5277999999999998, tensor([[[[1.5278]]]], grad_fn=<ConvolutionBackward0>))"
      ]
     },
     "execution_count": 145,
     "metadata": {},
     "output_type": "execute_result"
    }
   ],
   "source": [
    "0.4293 * 0 + 0.0457 * 1 + 0.4325 * 2 + 0.1950 * 3 + 0.0321 , conv(_X)"
   ]
  },
  {
   "cell_type": "markdown",
   "id": "79431e1d-9926-461c-ae6b-d51688936192",
   "metadata": {},
   "source": [
    "`-` feature 뻥튀기"
   ]
  },
  {
   "cell_type": "code",
   "execution_count": 148,
   "id": "68671bfe-ac59-4d7a-86ea-717c1b63791f",
   "metadata": {},
   "outputs": [],
   "source": [
    "_X = torch.arange(32).reshape(2,1,4,4).float()\n",
    "conv = torch.nn.Conv2d(1,16,(3,3)) "
   ]
  },
  {
   "cell_type": "code",
   "execution_count": 147,
   "id": "1648b3d4-fd28-4dae-a0a1-93dd8cbe8f56",
   "metadata": {},
   "outputs": [
    {
     "data": {
      "text/plain": [
       "(torch.Size([2, 1, 4, 4]), torch.Size([2, 16, 2, 2]))"
      ]
     },
     "execution_count": 147,
     "metadata": {},
     "output_type": "execute_result"
    }
   ],
   "source": [
    "_X.shape,conv(_X).shape"
   ]
  },
  {
   "cell_type": "markdown",
   "id": "9af5c3f9-ff57-4619-a255-92c90cabfdea",
   "metadata": {},
   "source": [
    "괄호 안에 2번째 수를 높이면 뻥튀기가 된다"
   ]
  },
  {
   "cell_type": "markdown",
   "id": "66b0d14b-e4cd-410c-9397-17715b1eaf5f",
   "metadata": {},
   "source": [
    "## B. torch.nn.ReLU()"
   ]
  },
  {
   "cell_type": "code",
   "execution_count": 149,
   "id": "c8b693ee-ae73-4e2f-acbe-5b9918a558c0",
   "metadata": {},
   "outputs": [
    {
     "data": {
      "text/plain": [
       "(tensor([[[[ 0.6092, -0.4852,  0.4315,  0.3735, -1.0661],\n",
       "           [-0.0087, -0.8282,  0.5311,  1.3330,  1.6749],\n",
       "           [ 0.0381, -0.7604, -0.0393, -0.0930, -0.2515],\n",
       "           [-1.4267,  0.7906,  2.4239, -0.7960, -0.0814],\n",
       "           [ 0.2651,  0.7082, -0.0816, -1.0088, -0.9553]]]]),\n",
       " tensor([[[[0.6092, 0.0000, 0.4315, 0.3735, 0.0000],\n",
       "           [0.0000, 0.0000, 0.5311, 1.3330, 1.6749],\n",
       "           [0.0381, 0.0000, 0.0000, 0.0000, 0.0000],\n",
       "           [0.0000, 0.7906, 2.4239, 0.0000, 0.0000],\n",
       "           [0.2651, 0.7082, 0.0000, 0.0000, 0.0000]]]]))"
      ]
     },
     "execution_count": 149,
     "metadata": {},
     "output_type": "execute_result"
    }
   ],
   "source": [
    "a1 = torch.nn.ReLU()\n",
    "_X = torch.randn(25).reshape(1,1,5,5)\n",
    "_X,a1(_X)"
   ]
  },
  {
   "cell_type": "markdown",
   "id": "eebd9429-9153-4720-bcd6-368460fc12f7",
   "metadata": {},
   "source": [
    "음수인 수를 다 0으로 만든다"
   ]
  },
  {
   "cell_type": "markdown",
   "id": "6c613f04-d745-48db-bb20-570e080e98b7",
   "metadata": {},
   "source": [
    "## C. torch.nn.MaxPood2d"
   ]
  },
  {
   "cell_type": "code",
   "execution_count": 150,
   "id": "9e6c24ed-5490-4e49-8456-68b72ded9978",
   "metadata": {},
   "outputs": [
    {
     "data": {
      "text/plain": [
       "(tensor([[[[-0.1029, -0.7286,  0.9365,  0.4678,  0.6776],\n",
       "           [-0.7395, -0.7937,  0.8509, -0.1291,  2.2427],\n",
       "           [ 0.7738, -0.4895,  0.8041,  1.4233,  0.5733],\n",
       "           [ 0.7792, -0.4096, -1.5089,  0.3478,  1.1201],\n",
       "           [ 1.2056,  0.1269, -1.3804, -0.4759,  2.2051]]]]),\n",
       " tensor([[[[-0.1029,  0.9365],\n",
       "           [ 0.7792,  1.4233]]]]))"
      ]
     },
     "execution_count": 150,
     "metadata": {},
     "output_type": "execute_result"
    }
   ],
   "source": [
    "m1 = torch.nn.MaxPool2d((2,2))\n",
    "_X = torch.randn(25).reshape(1,1,5,5)\n",
    "_X,m1(_X)"
   ]
  },
  {
   "cell_type": "markdown",
   "id": "676b42ad-2809-4718-a643-18c19ed11387",
   "metadata": {},
   "source": [
    "feature들을 요약하는 느낌"
   ]
  },
  {
   "cell_type": "markdown",
   "id": "71d9a68f-0054-4d18-91cc-c08b45db1272",
   "metadata": {},
   "source": [
    "# 7. MNIST(CPU)"
   ]
  },
  {
   "cell_type": "markdown",
   "id": "f35883c4-4909-4f24-a80e-45c5dc53c476",
   "metadata": {},
   "source": [
    "`-` training set"
   ]
  },
  {
   "cell_type": "code",
   "execution_count": 153,
   "id": "774ff982-1204-4f89-a2db-ef035188e676",
   "metadata": {},
   "outputs": [],
   "source": [
    "X0 = torch.stack([torchvision.io.read_image(str(fname)) for fname in (path/'training/0').ls()])\n",
    "X1 = torch.stack([torchvision.io.read_image(str(fname)) for fname in (path/'training/1').ls()])\n",
    "X = torch.concat([X0,X1])/255\n",
    "y = torch.tensor([0.0]*len(X0) + [1.0]*len(X1)).reshape(-1,1)"
   ]
  },
  {
   "cell_type": "markdown",
   "id": "7bbfe028-dc56-45f3-ac10-3554668a61d8",
   "metadata": {},
   "source": [
    "`-` test set"
   ]
  },
  {
   "cell_type": "code",
   "execution_count": 154,
   "id": "2a29b766-5d6e-4860-98da-7df56c613bdd",
   "metadata": {},
   "outputs": [],
   "source": [
    "X0 = torch.stack([torchvision.io.read_image(str(fname)) for fname in (path/'testing/0').ls()])\n",
    "X1 = torch.stack([torchvision.io.read_image(str(fname)) for fname in (path/'testing/1').ls()])\n",
    "XX = torch.concat([X0,X1])/255\n",
    "yy = torch.tensor([0.0]*len(X0) + [1.0]*len(X1)).reshape(-1,1)"
   ]
  },
  {
   "cell_type": "code",
   "execution_count": 155,
   "id": "7865798a-5014-4b28-87ed-3eb3d4a6deaf",
   "metadata": {},
   "outputs": [
    {
     "data": {
      "text/plain": [
       "(torch.Size([12665, 1, 28, 28]),\n",
       " torch.Size([2115, 1, 28, 28]),\n",
       " torch.Size([12665, 1]),\n",
       " torch.Size([2115, 1]))"
      ]
     },
     "execution_count": 155,
     "metadata": {},
     "output_type": "execute_result"
    }
   ],
   "source": [
    "X.shape,XX.shape,y.shape,yy.shape"
   ]
  },
  {
   "cell_type": "code",
   "execution_count": 164,
   "id": "3757881a-ab82-4b60-a80a-461471aec79c",
   "metadata": {},
   "outputs": [
    {
     "data": {
      "text/plain": [
       "torch.Size([12665, 16, 12, 12])"
      ]
     },
     "execution_count": 164,
     "metadata": {},
     "output_type": "execute_result"
    }
   ],
   "source": [
    "c1 = torch.nn.Conv2d(1,16,(5,5))\n",
    "a1 = torch.nn.ReLU()\n",
    "m1 = torch.nn.MaxPool2d((2,2))\n",
    "flttn = torch.nn.Flatten()\n",
    "m1(a1(c1(X))).shape"
   ]
  },
  {
   "cell_type": "code",
   "execution_count": 165,
   "id": "67140306-97d8-420a-b564-05de58f14bc3",
   "metadata": {},
   "outputs": [
    {
     "data": {
      "text/plain": [
       "torch.Size([12665, 2304])"
      ]
     },
     "execution_count": 165,
     "metadata": {},
     "output_type": "execute_result"
    }
   ],
   "source": [
    "flttn(m1(a1(c1(X)))).shape"
   ]
  },
  {
   "cell_type": "code",
   "execution_count": 167,
   "id": "6e3b8374-7493-43ac-bdc4-35e69537f055",
   "metadata": {},
   "outputs": [
    {
     "data": {
      "text/plain": [
       "torch.Size([12665, 1])"
      ]
     },
     "execution_count": 167,
     "metadata": {},
     "output_type": "execute_result"
    }
   ],
   "source": [
    "l1 = torch.nn.Linear(2304,1)\n",
    "a2 = torch.nn.Sigmoid()\n",
    "a2(l1(flttn(m1(a1(c1(X)))))).shape"
   ]
  },
  {
   "cell_type": "markdown",
   "id": "67effa18-89f0-4670-a614-87f2152d1124",
   "metadata": {},
   "source": [
    "`-` 학습"
   ]
  },
  {
   "cell_type": "code",
   "execution_count": 168,
   "id": "e8e053e7-dc68-42fb-a955-845c43885a6a",
   "metadata": {},
   "outputs": [],
   "source": [
    "net = torch.nn.Sequential(\n",
    "    c1,\n",
    "    a1,\n",
    "    m1,\n",
    "    flttn,\n",
    "    l1,\n",
    "    a2\n",
    ")\n",
    "loss_fn = torch.nn.BCELoss()\n",
    "optimizr = torch.optim.Adam(net.parameters())\n",
    "\n",
    "for epoc in range(50):\n",
    "    yhat = net(X)\n",
    "    loss = loss_fn(yhat,y)\n",
    "    loss.backward()\n",
    "    optimizr.step()\n",
    "    optimizr.zero_grad()"
   ]
  },
  {
   "cell_type": "code",
   "execution_count": 169,
   "id": "5c0b2b27-8991-41d5-8e36-decfcbed7e4b",
   "metadata": {},
   "outputs": [
    {
     "data": {
      "text/plain": [
       "Text(0.5, 1.0, 'Training Set')"
      ]
     },
     "execution_count": 169,
     "metadata": {},
     "output_type": "execute_result"
    },
    {
     "data": {
      "image/png": "[encoded data removed]",
      "text/plain": [
       "<Figure size 640x480 with 1 Axes>"
      ]
     },
     "metadata": {},
     "output_type": "display_data"
    }
   ],
   "source": [
    "plt.plot(y)\n",
    "plt.plot(yhat.data,'.')\n",
    "plt.title('Training Set' , size = 15)"
   ]
  },
  {
   "cell_type": "code",
   "execution_count": 172,
   "id": "e2ddb0b5-e764-461f-94bc-5bcc46efbfc2",
   "metadata": {},
   "outputs": [
    {
     "data": {
      "text/plain": [
       "Text(0.5, 1.0, 'Test Set')"
      ]
     },
     "execution_count": 172,
     "metadata": {},
     "output_type": "execute_result"
    },
    {
     "data": {
      "image/png": "[encoded data removed]",
      "text/plain": [
       "<Figure size 640x480 with 1 Axes>"
      ]
     },
     "metadata": {},
     "output_type": "display_data"
    }
   ],
   "source": [
    "plt.plot(yy)\n",
    "plt.plot(net(XX).data,'.')\n",
    "plt.title('Test Set' , size = 15)"
   ]
  },
  {
   "cell_type": "markdown",
   "id": "dc2e3159-e707-4e03-83a0-f6495b667cc7",
   "metadata": {},
   "source": [
    "# 8. MNIST(GPU)"
   ]
  },
  {
   "cell_type": "code",
   "execution_count": 183,
   "id": "df9584ae-14cd-4a08-b819-0415826a28e0",
   "metadata": {},
   "outputs": [
    {
     "data": {
      "text/plain": [
       "Sequential(\n",
       "  (0): Conv2d(1, 16, kernel_size=(5, 5), stride=(1, 1))\n",
       "  (1): ReLU()\n",
       "  (2): MaxPool2d(kernel_size=(2, 2), stride=(2, 2), padding=0, dilation=1, ceil_mode=False)\n",
       "  (3): Flatten(start_dim=1, end_dim=-1)\n",
       "  (4): Linear(in_features=2304, out_features=1, bias=True)\n",
       "  (5): Sigmoid()\n",
       ")"
      ]
     },
     "execution_count": 183,
     "metadata": {},
     "output_type": "execute_result"
    }
   ],
   "source": [
    "ds = torch.utils.data.TensorDataset(X,y)\n",
    "dl = torch.utils.data.DataLoader(ds,batch_size = 128)\n",
    "\n",
    "net = torch.nn.Sequential(\n",
    "    torch.nn.Conv2d(1,16,(5,5)),\n",
    "    torch.nn.ReLU(),\n",
    "    torch.nn.MaxPool2d((2,2)),\n",
    "    torch.nn.Flatten(),\n",
    "    torch.nn.Linear(2304,1),\n",
    "    torch.nn.Sigmoid()\n",
    ").to(\"cuda:0\")\n",
    "\n",
    "loss_fn = torch.nn.BCELoss()\n",
    "optimizr = torch.optim.Adam(net.parameters())\n",
    "\n",
    "for epoc in range(5):\n",
    "    for xi,yi in dl:\n",
    "        loss = loss_fn(net(xi.to(\"cuda:0\")),yi.to(\"cuda:0\"))\n",
    "        loss.backward()\n",
    "        optimizr.step()\n",
    "        optimizr.zero_grad()\n",
    "net.to('cpu')"
   ]
  },
  {
   "cell_type": "code",
   "execution_count": 184,
   "id": "f3f466f5-335c-40e2-bd3a-ba796779da99",
   "metadata": {},
   "outputs": [
    {
     "data": {
      "text/plain": [
       "Text(0.5, 1.0, 'Training Set')"
      ]
     },
     "execution_count": 184,
     "metadata": {},
     "output_type": "execute_result"
    },
    {
     "data": {
      "image/png": "[encoded data removed]",
      "text/plain": [
       "<Figure size 640x480 with 1 Axes>"
      ]
     },
     "metadata": {},
     "output_type": "display_data"
    }
   ],
   "source": [
    "plt.plot(y)\n",
    "plt.plot(net(X).data,'.')\n",
    "plt.title('Training Set',size=15)"
   ]
  },
  {
   "cell_type": "code",
   "execution_count": 185,
   "id": "9a8d9e0b-0265-41ab-ab62-9a8639f13898",
   "metadata": {},
   "outputs": [
    {
     "data": {
      "text/plain": [
       "Text(0.5, 1.0, 'Training Set')"
      ]
     },
     "execution_count": 185,
     "metadata": {},
     "output_type": "execute_result"
    },
    {
     "data": {
      "image/png": "[encoded data removed]",
      "text/plain": [
       "<Figure size 640x480 with 1 Axes>"
      ]
     },
     "metadata": {},
     "output_type": "display_data"
    }
   ],
   "source": [
    "plt.plot(yy)\n",
    "plt.plot(net(XX).data,'.')\n",
    "plt.title('Training Set',size=15)"
   ]
  },
  {
   "cell_type": "code",
   "execution_count": 186,
   "id": "515878e4-dd43-47f7-8f99-b36339b6e1a3",
   "metadata": {},
   "outputs": [
    {
     "name": "stdout",
     "output_type": "stream",
     "text": [
      "[main ff687c7] .\n",
      " 6 files changed, 3507 insertions(+), 77 deletions(-)\n",
      " delete mode 100644 docs/posts/.ipynb_checkpoints/Untitled-checkpoint.ipynb\n",
      " delete mode 100644 docs/posts/Untitled.ipynb\n",
      "To https://github.com/snagjincha/sangjin.git\n",
      " \u001b[31m! [rejected]       \u001b[m main -> main (non-fast-forward)\n",
      "\u001b[31merror: failed to push some refs to 'https://github.com/snagjincha/sangjin.git'\n",
      "\u001b[m\u001b[33mhint: Updates were rejected because the tip of your current branch is behind\u001b[m\n",
      "\u001b[33mhint: its remote counterpart. Integrate the remote changes (e.g.\u001b[m\n",
      "\u001b[33mhint: 'git pull ...') before pushing again.\u001b[m\n",
      "\u001b[33mhint: See the 'Note about fast-forwards' in 'git push --help' for details.\u001b[m\n"
     ]
    }
   ],
   "source": [
    "!quarto render \n",
    "!git add .\n",
    "!git commit -m .\n",
    "!git push"
   ]
  }
 ],
 "metadata": {
  "kernelspec": {
   "display_name": "Python 3 (ipykernel)",
   "language": "python",
   "name": "python3"
  },
  "language_info": {
   "codemirror_mode": {
    "name": "ipython",
    "version": 3
   },
   "file_extension": ".py",
   "mimetype": "text/x-python",
   "name": "python",
   "nbconvert_exporter": "python",
   "pygments_lexer": "ipython3",
   "version": "3.12.2"
  }
 },
 "nbformat": 4,
 "nbformat_minor": 5
}
