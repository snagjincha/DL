{
 "cells": [
  {
   "cell_type": "raw",
   "id": "affd9c4c-b333-4863-a5a9-927fb1c953e0",
   "metadata": {},
   "source": [
    "---\n",
    "title: \"NN-based Recommender system\"\n",
    "author: \"차상진\"\n",
    "date: \"2024-05-24\"\n",
    "---"
   ]
  },
  {
   "cell_type": "markdown",
   "id": "56bd9d6e-1cf2-4c42-b98f-10561406a276",
   "metadata": {},
   "source": [
    "# **1. Imports**"
   ]
  },
  {
   "cell_type": "code",
   "execution_count": 4,
   "id": "8316b265-c980-41b7-a541-7854563c8679",
   "metadata": {},
   "outputs": [],
   "source": [
    "import torch\n",
    "import pandas as pd\n",
    "import matplotlib.pyplot as plt"
   ]
  },
  {
   "cell_type": "markdown",
   "id": "4434a2ad-1da2-4518-bafb-15b22ef5b9ac",
   "metadata": {},
   "source": [
    "# **2. torch.nn.Embedding**"
   ]
  },
  {
   "cell_type": "markdown",
   "id": "2accd132-3dba-447d-80fa-34800f759e19",
   "metadata": {},
   "source": [
    "## A. 임베딩 레이어"
   ]
  },
  {
   "cell_type": "code",
   "execution_count": null,
   "id": "c848c32b-7e01-4ff5-8ccc-584571322af3",
   "metadata": {},
   "outputs": [],
   "source": [
    "`-` motive : torch.nn.functional.one_hot + torch.nn.Linear를 매번 쓰는 건 너무 귀찮은데??"
   ]
  },
  {
   "cell_type": "code",
   "execution_count": 8,
   "id": "4bdc0af8-0a43-4455-80c7-1eea1d94032a",
   "metadata": {},
   "outputs": [
    {
     "data": {
      "text/plain": [
       "tensor([[-0.2002],\n",
       "        [-0.4890],\n",
       "        [ 0.2081],\n",
       "        [-0.2002],\n",
       "        [-0.4890]], grad_fn=<MmBackward0>)"
      ]
     },
     "execution_count": 8,
     "metadata": {},
     "output_type": "execute_result"
    }
   ],
   "source": [
    "torch.manual_seed(43052)\n",
    "#x = ['옥순','영숙','하니','옥순','영숙']\n",
    "x = torch.tensor([0,1,2,0,1])\n",
    "E = torch.nn.functional.one_hot(x).float()\n",
    "linr = torch.nn.Linear(3,1,bias=False) \n",
    "lf = linr(E)\n",
    "lf"
   ]
  },
  {
   "cell_type": "code",
   "execution_count": 13,
   "id": "6271ed3b-372c-43cf-9f44-a58322d6bd41",
   "metadata": {},
   "outputs": [
    {
     "data": {
      "text/plain": [
       "Parameter containing:\n",
       "tensor([[-0.2002, -0.4890,  0.2081]], requires_grad=True)"
      ]
     },
     "execution_count": 13,
     "metadata": {},
     "output_type": "execute_result"
    }
   ],
   "source": [
    "linr.weight"
   ]
  },
  {
   "cell_type": "code",
   "execution_count": 23,
   "id": "afd58239-8510-4f82-9493-91a32df56991",
   "metadata": {},
   "outputs": [
    {
     "data": {
      "text/plain": [
       "tensor([[-0.2002, -0.2002],\n",
       "        [-0.4890, -0.4890],\n",
       "        [ 0.2081,  0.2081],\n",
       "        [-0.2002, -0.2002],\n",
       "        [-0.4890, -0.4890]], grad_fn=<CatBackward0>)"
      ]
     },
     "execution_count": 23,
     "metadata": {},
     "output_type": "execute_result"
    }
   ],
   "source": [
    "torch.concat([linr(E) , E @ linr.weight.T],axis=1)"
   ]
  },
  {
   "cell_type": "markdown",
   "id": "edadb9ff-6b7e-48e7-b690-bf98979bbe35",
   "metadata": {},
   "source": [
    "`-` torch.nn.functional.one_hot + torch.nn.Linear를 함께 처리해주는 레이어 torch.nn.Embedding 존재"
   ]
  },
  {
   "cell_type": "code",
   "execution_count": 24,
   "id": "40ece034-d305-441c-ab5f-7b39e7c8ca2e",
   "metadata": {},
   "outputs": [
    {
     "data": {
      "text/plain": [
       "tensor([[-0.2002],\n",
       "        [-0.4890],\n",
       "        [ 0.2081],\n",
       "        [-0.2002],\n",
       "        [-0.4890]], grad_fn=<EmbeddingBackward0>)"
      ]
     },
     "execution_count": 24,
     "metadata": {},
     "output_type": "execute_result"
    }
   ],
   "source": [
    "torch.manual_seed(43052)\n",
    "ebdd = torch.nn.Embedding(3,1) \n",
    "ebdd.weight.data = linr.weight.data.T\n",
    "ebdd(x)"
   ]
  },
  {
   "cell_type": "markdown",
   "id": "bafa729d-b4bc-4f10-8a5f-853039dc575b",
   "metadata": {},
   "source": [
    "`?` 굳이 one_hot인코딩을 해야하나? 안하고 바로 linear하면 안되나?\n",
    "\n",
    "`-` linear.weight가 각각의 데이터에 개별마다 서로 다른 weight가 적용되어야하는데 one_hot인코딩을 하지 않으면 개별적으로 적용되지 않음."
   ]
  },
  {
   "cell_type": "markdown",
   "id": "59aa779c-6b7f-4668-af4d-47271e07d82f",
   "metadata": {},
   "source": [
    "## B. MF-based 추천시스템 재설계"
   ]
  },
  {
   "cell_type": "code",
   "execution_count": 31,
   "id": "4986345b-3430-4233-8fe9-b3aab0640d22",
   "metadata": {},
   "outputs": [
    {
     "data": {
      "text/html": [
       "<div>\n",
       "<style scoped>\n",
       "    .dataframe tbody tr th:only-of-type {\n",
       "        vertical-align: middle;\n",
       "    }\n",
       "\n",
       "    .dataframe tbody tr th {\n",
       "        vertical-align: top;\n",
       "    }\n",
       "\n",
       "    .dataframe thead th {\n",
       "        text-align: right;\n",
       "    }\n",
       "</style>\n",
       "<table border=\"1\" class=\"dataframe\">\n",
       "  <thead>\n",
       "    <tr style=\"text-align: right;\">\n",
       "      <th></th>\n",
       "      <th>영식(IN)</th>\n",
       "      <th>영철(IN)</th>\n",
       "      <th>영호(IS)</th>\n",
       "      <th>광수(IS)</th>\n",
       "      <th>상철(EN)</th>\n",
       "      <th>영수(EN)</th>\n",
       "      <th>규빈(ES)</th>\n",
       "      <th>다호(ES)</th>\n",
       "    </tr>\n",
       "  </thead>\n",
       "  <tbody>\n",
       "    <tr>\n",
       "      <th>옥순(IN)</th>\n",
       "      <td>NaN</td>\n",
       "      <td>4.02</td>\n",
       "      <td>3.45</td>\n",
       "      <td>3.42</td>\n",
       "      <td>0.84</td>\n",
       "      <td>1.12</td>\n",
       "      <td>0.43</td>\n",
       "      <td>0.49</td>\n",
       "    </tr>\n",
       "    <tr>\n",
       "      <th>영자(IN)</th>\n",
       "      <td>3.93</td>\n",
       "      <td>3.99</td>\n",
       "      <td>3.63</td>\n",
       "      <td>3.43</td>\n",
       "      <td>0.98</td>\n",
       "      <td>0.96</td>\n",
       "      <td>0.52</td>\n",
       "      <td>NaN</td>\n",
       "    </tr>\n",
       "    <tr>\n",
       "      <th>정숙(IS)</th>\n",
       "      <td>3.52</td>\n",
       "      <td>3.42</td>\n",
       "      <td>4.05</td>\n",
       "      <td>4.06</td>\n",
       "      <td>0.39</td>\n",
       "      <td>NaN</td>\n",
       "      <td>0.93</td>\n",
       "      <td>0.99</td>\n",
       "    </tr>\n",
       "    <tr>\n",
       "      <th>영숙(IS)</th>\n",
       "      <td>3.43</td>\n",
       "      <td>3.57</td>\n",
       "      <td>NaN</td>\n",
       "      <td>3.95</td>\n",
       "      <td>0.56</td>\n",
       "      <td>0.52</td>\n",
       "      <td>0.89</td>\n",
       "      <td>0.89</td>\n",
       "    </tr>\n",
       "    <tr>\n",
       "      <th>순자(EN)</th>\n",
       "      <td>1.12</td>\n",
       "      <td>NaN</td>\n",
       "      <td>0.59</td>\n",
       "      <td>0.43</td>\n",
       "      <td>4.01</td>\n",
       "      <td>4.16</td>\n",
       "      <td>3.52</td>\n",
       "      <td>3.38</td>\n",
       "    </tr>\n",
       "    <tr>\n",
       "      <th>현숙(EN)</th>\n",
       "      <td>0.94</td>\n",
       "      <td>1.05</td>\n",
       "      <td>0.32</td>\n",
       "      <td>0.45</td>\n",
       "      <td>4.02</td>\n",
       "      <td>3.78</td>\n",
       "      <td>NaN</td>\n",
       "      <td>3.54</td>\n",
       "    </tr>\n",
       "    <tr>\n",
       "      <th>서연(ES)</th>\n",
       "      <td>0.51</td>\n",
       "      <td>0.56</td>\n",
       "      <td>0.88</td>\n",
       "      <td>0.89</td>\n",
       "      <td>3.50</td>\n",
       "      <td>3.64</td>\n",
       "      <td>4.04</td>\n",
       "      <td>4.10</td>\n",
       "    </tr>\n",
       "    <tr>\n",
       "      <th>보람(ES)</th>\n",
       "      <td>0.48</td>\n",
       "      <td>0.51</td>\n",
       "      <td>1.03</td>\n",
       "      <td>NaN</td>\n",
       "      <td>3.52</td>\n",
       "      <td>4.00</td>\n",
       "      <td>3.82</td>\n",
       "      <td>NaN</td>\n",
       "    </tr>\n",
       "    <tr>\n",
       "      <th>하니(I)</th>\n",
       "      <td>4.85</td>\n",
       "      <td>4.82</td>\n",
       "      <td>NaN</td>\n",
       "      <td>4.98</td>\n",
       "      <td>4.53</td>\n",
       "      <td>4.39</td>\n",
       "      <td>4.45</td>\n",
       "      <td>4.52</td>\n",
       "    </tr>\n",
       "  </tbody>\n",
       "</table>\n",
       "</div>"
      ],
      "text/plain": [
       "        영식(IN)  영철(IN)  영호(IS)  광수(IS)  상철(EN)  영수(EN)  규빈(ES)  다호(ES)\n",
       "옥순(IN)     NaN    4.02    3.45    3.42    0.84    1.12    0.43    0.49\n",
       "영자(IN)    3.93    3.99    3.63    3.43    0.98    0.96    0.52     NaN\n",
       "정숙(IS)    3.52    3.42    4.05    4.06    0.39     NaN    0.93    0.99\n",
       "영숙(IS)    3.43    3.57     NaN    3.95    0.56    0.52    0.89    0.89\n",
       "순자(EN)    1.12     NaN    0.59    0.43    4.01    4.16    3.52    3.38\n",
       "현숙(EN)    0.94    1.05    0.32    0.45    4.02    3.78     NaN    3.54\n",
       "서연(ES)    0.51    0.56    0.88    0.89    3.50    3.64    4.04    4.10\n",
       "보람(ES)    0.48    0.51    1.03     NaN    3.52    4.00    3.82     NaN\n",
       "하니(I)     4.85    4.82     NaN    4.98    4.53    4.39    4.45    4.52"
      ]
     },
     "execution_count": 31,
     "metadata": {},
     "output_type": "execute_result"
    }
   ],
   "source": [
    "df_view = pd.read_csv('https://raw.githubusercontent.com/guebin/DL2024/main/posts/solo.csv',index_col=0)\n",
    "df_view"
   ]
  },
  {
   "cell_type": "code",
   "execution_count": 32,
   "id": "2da22cd9-97ff-470f-b80f-9ae2770c96c7",
   "metadata": {},
   "outputs": [],
   "source": [
    "df_train = df_view.stack().reset_index().set_axis(['W','M','y'],axis=1)\n",
    "w = {'옥순(IN)':0, '영자(IN)':1, '정숙(IS)':2, '영숙(IS)':3, '순자(EN)':4, '현숙(EN)':5, '서연(ES)':6, '보람(ES)':7, '하니(I)':8}\n",
    "m = {'영식(IN)':0, '영철(IN)':1, '영호(IS)':2, '광수(IS)':3, '상철(EN)':4, '영수(EN)':5, '규빈(ES)':6, '다호(ES)':7}\n",
    "X1 = torch.tensor(df_train['W'].map(w)) # length-n int vector \n",
    "X2 = torch.tensor(df_train['M'].map(m)) # length-n int vector \n",
    "y = torch.tensor(df_train['y']).float().reshape(-1,1) # (n,1) float vector"
   ]
  },
  {
   "cell_type": "markdown",
   "id": "4f15c77e-e44c-4054-9651-6baa67ba365b",
   "metadata": {},
   "source": [
    "임베딩레이어를 활용하여 MF-based 추천시스템을 설계하라."
   ]
  },
  {
   "cell_type": "code",
   "execution_count": 51,
   "id": "a5dcbd5b-fd45-4719-86a4-53f7ab281e26",
   "metadata": {},
   "outputs": [],
   "source": [
    "torch.manual_seed(43052)\n",
    "ebdd1 = torch.nn.Embedding(9,2)\n",
    "b1 = torch.nn.Embedding(9,1)\n",
    "ebdd2 = torch.nn.Embedding(8,2)\n",
    "b2 = torch.nn.Embedding(8,1)\n",
    "sig = torch.nn.Sigmoid()\n",
    "loss_fn = torch.nn.MSELoss()\n",
    "params = list(ebdd1.parameters()) + list(b1.parameters()) + list(ebdd2.parameters()) + list(b2.parameters())\n",
    "optimizr = torch.optim.Adam(params , lr=0.1)\n",
    "#--#\n",
    "for epoc in range(100):\n",
    "    # 1\n",
    "    W_features = ebdd1(X1)\n",
    "    W_bias = b1(X1)\n",
    "    M_features = ebdd2(X2)\n",
    "    M_bias = b2(X2)\n",
    "    score = (W_features * M_features).sum(axis=1).reshape(-1,1) + W_bias + M_bias\n",
    "    yhat = sig(score) * 5\n",
    "    # 2\n",
    "    loss = loss_fn(yhat,y)\n",
    "    # 3\n",
    "    loss.backward()\n",
    "    # 4\n",
    "    optimizr.step()\n",
    "    optimizr.zero_grad()"
   ]
  },
  {
   "cell_type": "code",
   "execution_count": 52,
   "id": "3dbffcd9-1f99-4c3d-b3d5-0493642b6ecb",
   "metadata": {},
   "outputs": [
    {
     "data": {
      "text/plain": [
       "tensor([[4.1083, 4.0200],\n",
       "        [0.9388, 1.1200],\n",
       "        [4.0483, 3.9900],\n",
       "        [0.9707, 0.9600],\n",
       "        [4.2264, 4.0500],\n",
       "        [0.9518, 0.9900],\n",
       "        [0.5124, 0.5600],\n",
       "        [1.1198, 1.1200],\n",
       "        [4.0588, 4.1600],\n",
       "        [1.0596, 1.0500],\n",
       "        [3.9666, 3.7800],\n",
       "        [0.9472, 0.8800],\n",
       "        [3.9194, 4.0400],\n",
       "        [1.0346, 1.0300],\n",
       "        [4.8851, 4.8500],\n",
       "        [4.5387, 4.3900]], grad_fn=<SliceBackward0>)"
      ]
     },
     "execution_count": 52,
     "metadata": {},
     "output_type": "execute_result"
    }
   ],
   "source": [
    "torch.concat([yhat,y],axis=1)[::4]"
   ]
  },
  {
   "cell_type": "markdown",
   "id": "871ea29f-cffc-4b03-9db3-0100d9a24b0c",
   "metadata": {},
   "source": [
    "`-` Nan값들을 추출하고 싶다면? 아래와 같이 진행"
   ]
  },
  {
   "cell_type": "code",
   "execution_count": 55,
   "id": "b80c5d30-b0c1-492a-a501-158b6e4e9c32",
   "metadata": {},
   "outputs": [
    {
     "data": {
      "text/plain": [
       "tensor([[1.8270],\n",
       "        [2.6058],\n",
       "        [4.5784]], grad_fn=<MulBackward0>)"
      ]
     },
     "execution_count": 55,
     "metadata": {},
     "output_type": "execute_result"
    }
   ],
   "source": [
    "w = {'옥순(IN)':0, '영자(IN)':1, '정숙(IS)':2, '영숙(IS)':3, '순자(EN)':4, '현숙(EN)':5, '서연(ES)':6, '보람(ES)':7, '하니(I)':8}\n",
    "m = {'영식(IN)':0, '영철(IN)':1, '영호(IS)':2, '광수(IS)':3, '상철(EN)':4, '영수(EN)':5, '규빈(ES)':6, '다호(ES)':7}\n",
    "df_test = pd.DataFrame({'W':['옥순(IN)','보람(ES)','하니(I)'],'M':['영식(IN)','다호(ES)','영호(IS)']})\n",
    "XX1 = torch.tensor(df_test['W'].map(w))\n",
    "XX2 = torch.tensor(df_test['M'].map(m))\n",
    "\n",
    "ebdd1 = torch.nn.Embedding(9,2)\n",
    "b1 = torch.nn.Embedding(9,1)\n",
    "ebdd2 = torch.nn.Embedding(8,2)\n",
    "b2 = torch.nn.Embedding(8,1)\n",
    "\n",
    "W_features = ebdd1(XX1)\n",
    "W_bias = b1(XX1)\n",
    "M_features = ebdd2(XX2)\n",
    "M_bias = b2(XX2)\n",
    "score = (W_features * M_features).sum(axis=1).reshape(-1,1) + W_bias + M_bias\n",
    "yhat = sig(score) * 5\n",
    "yhat"
   ]
  },
  {
   "cell_type": "markdown",
   "id": "d7dfb7ac-0f6a-4039-8772-7cc7063af7ce",
   "metadata": {},
   "source": [
    "# **3. 사용자 정의 네트워크**"
   ]
  },
  {
   "cell_type": "markdown",
   "id": "7c68d547-9d79-4c76-9fdd-a50f70bf5285",
   "metadata": {},
   "source": [
    "## A. 사용자 정의 네트워크 사용법"
   ]
  },
  {
   "cell_type": "markdown",
   "id": "f92b37b3-2c7e-4fb3-8d09-bf2e42100613",
   "metadata": {},
   "source": [
    "`-` 예비학습1 : net(x)와 net.forward(x)는 사실 같다."
   ]
  },
  {
   "cell_type": "code",
   "execution_count": 56,
   "id": "6dfd9110-7467-47d1-aa01-ad6b2f5783ec",
   "metadata": {},
   "outputs": [],
   "source": [
    "net = torch.nn.Sequential(\n",
    "    torch.nn.Linear(1,1),\n",
    "    torch.nn.Sigmoid()\n",
    ")"
   ]
  },
  {
   "cell_type": "code",
   "execution_count": 57,
   "id": "f2abb7c0-1685-4849-9284-b5a1d8b46f28",
   "metadata": {},
   "outputs": [
    {
     "data": {
      "text/plain": [
       "tensor([[-1.2804],\n",
       "        [-0.0382],\n",
       "        [-0.8600],\n",
       "        [-1.3291],\n",
       "        [ 0.0696]])"
      ]
     },
     "execution_count": 57,
     "metadata": {},
     "output_type": "execute_result"
    }
   ],
   "source": [
    "X = torch.randn(5,1)\n",
    "X"
   ]
  },
  {
   "cell_type": "code",
   "execution_count": 64,
   "id": "7d927939-71fa-4057-9432-5e428ed76ef5",
   "metadata": {},
   "outputs": [
    {
     "data": {
      "text/plain": [
       "tensor([[0.1890],\n",
       "        [0.3183],\n",
       "        [0.2277],\n",
       "        [0.1849],\n",
       "        [0.3315]], grad_fn=<SigmoidBackward0>)"
      ]
     },
     "execution_count": 64,
     "metadata": {},
     "output_type": "execute_result"
    }
   ],
   "source": [
    "net(X)"
   ]
  },
  {
   "cell_type": "code",
   "execution_count": 65,
   "id": "ff9cecd3-1d72-448a-a25e-846c89b8bda5",
   "metadata": {},
   "outputs": [
    {
     "data": {
      "text/plain": [
       "tensor([[0.1890],\n",
       "        [0.3183],\n",
       "        [0.2277],\n",
       "        [0.1849],\n",
       "        [0.3315]], grad_fn=<SigmoidBackward0>)"
      ]
     },
     "execution_count": 65,
     "metadata": {},
     "output_type": "execute_result"
    }
   ],
   "source": [
    "net.forward(X)"
   ]
  },
  {
   "cell_type": "code",
   "execution_count": 66,
   "id": "ab61a55a-7b89-4513-b894-c88070a5351c",
   "metadata": {},
   "outputs": [],
   "source": [
    "net.forward = lambda x : '메롱'"
   ]
  },
  {
   "cell_type": "code",
   "execution_count": 67,
   "id": "710539cf-3875-479e-8785-e887fbabb871",
   "metadata": {},
   "outputs": [
    {
     "data": {
      "text/plain": [
       "'메롱'"
      ]
     },
     "execution_count": 67,
     "metadata": {},
     "output_type": "execute_result"
    }
   ],
   "source": [
    "net.forward(X)"
   ]
  },
  {
   "cell_type": "code",
   "execution_count": 68,
   "id": "2f2ed8d5-85c7-4eec-a44a-f6f38a04f0ff",
   "metadata": {},
   "outputs": [
    {
     "data": {
      "text/plain": [
       "'메롱'"
      ]
     },
     "execution_count": 68,
     "metadata": {},
     "output_type": "execute_result"
    }
   ],
   "source": [
    "net(X)"
   ]
  },
  {
   "cell_type": "markdown",
   "id": "9713df1c-c96d-46e2-bd91-056ecdc22d26",
   "metadata": {},
   "source": [
    "`-` 예비학습2 : torch.nn.Module을 상속받아서 네트워크를 만들면 (= class XXX(torch.nn.Module): 과 같은 방식으로 클래스를 선언하면) 약속된 아키텍처를 가진 네트워크를 찍어내는 함수를 만들 수 있다."
   ]
  },
  {
   "cell_type": "markdown",
   "id": "ddac2b7a-4857-47ba-9465-49216c8dc044",
   "metadata": {},
   "source": [
    "예시1)"
   ]
  },
  {
   "cell_type": "code",
   "execution_count": 69,
   "id": "fa427a24-419b-4f7f-8a64-f6c1698d554b",
   "metadata": {},
   "outputs": [],
   "source": [
    "class Mynet1(torch.nn.Module):\n",
    "    def __init__(self):\n",
    "        super().__init__()\n",
    "        self.l1 = torch.nn.Linear(1,1)\n",
    "        self.a1 = torch.nn.Sigmoid()\n",
    "        self.l2 = torch.nn.Linear(1,1)\n",
    "    def forward(self,x):\n",
    "        yhat = self.l2(self.al(self.l1(x)))\n",
    "        return yhat"
   ]
  },
  {
   "cell_type": "markdown",
   "id": "100510e5-aee0-44fc-8b69-ca916d1a3b42",
   "metadata": {},
   "source": [
    "net을 내가 만든 네트워크로 받아주기"
   ]
  },
  {
   "cell_type": "code",
   "execution_count": 70,
   "id": "1ddf7074-6bdd-45a4-9537-726a669ace53",
   "metadata": {},
   "outputs": [],
   "source": [
    "net = Mynet1()"
   ]
  },
  {
   "cell_type": "markdown",
   "id": "864d0581-663c-4f15-b2ad-d9f68f8c604f",
   "metadata": {},
   "source": [
    "예시2)"
   ]
  },
  {
   "cell_type": "code",
   "execution_count": 71,
   "id": "85a6b3ac-911d-43d1-9bba-fb2d9bc24450",
   "metadata": {},
   "outputs": [],
   "source": [
    "class Mynet2(torch.nn.Module):\n",
    "    def __init__(self):\n",
    "        super().__init__()\n",
    "        self.l1 = torch.nn.Linear(in_features=1,out_features=1,bias=True)\n",
    "        self.a1 = torch.nn.ReLU()\n",
    "        self.l2 = torch.nn.Linear(in_features=1,out_features=1,bias=False)\n",
    "    def forward(self,x):\n",
    "        yhat = self.l2(self.a1(self.l1(x)))\n",
    "        return yhat"
   ]
  },
  {
   "cell_type": "code",
   "execution_count": 72,
   "id": "23863b64-d39a-477a-b816-a3a6c2b857c9",
   "metadata": {},
   "outputs": [],
   "source": [
    "net = Mynet2()"
   ]
  },
  {
   "cell_type": "markdown",
   "id": "5f3232d9-402f-4cf5-8db0-aa51e717f81f",
   "metadata": {},
   "source": [
    "실습)"
   ]
  },
  {
   "cell_type": "code",
   "execution_count": 73,
   "id": "2e14b5be-012e-4e87-8ed6-4dd128af7edf",
   "metadata": {},
   "outputs": [],
   "source": [
    "torch.manual_seed(43052)\n",
    "x,_ = torch.randn(100).sort()\n",
    "x = x.reshape(-1,1)\n",
    "ϵ = torch.randn(100).reshape(-1,1)*0.5\n",
    "y = 2.5+ 4*x + ϵ"
   ]
  },
  {
   "cell_type": "code",
   "execution_count": 74,
   "id": "de6c39f9-ee44-4b31-af1a-ef105ffdc526",
   "metadata": {},
   "outputs": [
    {
     "data": {
      "text/plain": [
       "[<matplotlib.lines.Line2D at 0x7f0b84bd4a70>]"
      ]
     },
     "execution_count": 74,
     "metadata": {},
     "output_type": "execute_result"
    },
    {
     "data": {
      "image/png": "[encoded data removed]",
      "text/plain": [
       "<Figure size 640x480 with 1 Axes>"
      ]
     },
     "metadata": {},
     "output_type": "display_data"
    }
   ],
   "source": [
    "plt.plot(x,y,'o')"
   ]
  },
  {
   "cell_type": "code",
   "execution_count": 75,
   "id": "b96497ba-f29b-4ea3-baac-78bf2e6f8af6",
   "metadata": {},
   "outputs": [],
   "source": [
    "class Net(torch.nn.Module):\n",
    "    def __init__(self):\n",
    "        super().__init__()\n",
    "        self.l1 = torch.nn.Linear(1,1)\n",
    "    def forward(self,x):\n",
    "        yhat = self.l1(x)\n",
    "        return yhat"
   ]
  },
  {
   "cell_type": "code",
   "execution_count": 76,
   "id": "c537a206-8dcd-475d-90f0-67971b008710",
   "metadata": {},
   "outputs": [
    {
     "data": {
      "text/plain": [
       "[<matplotlib.lines.Line2D at 0x7f0b84c93b90>]"
      ]
     },
     "execution_count": 76,
     "metadata": {},
     "output_type": "execute_result"
    },
    {
     "data": {
      "image/png": "[encoded data removed]",
      "text/plain": [
       "<Figure size 640x480 with 1 Axes>"
      ]
     },
     "metadata": {},
     "output_type": "display_data"
    }
   ],
   "source": [
    "plt.plot(x,y,'o')\n",
    "plt.plot(x,net(x).data,'--') # 최초의 직선"
   ]
  },
  {
   "cell_type": "code",
   "execution_count": 84,
   "id": "fbe99c32-b2e7-4026-8264-16f49ba72ea8",
   "metadata": {},
   "outputs": [],
   "source": [
    "net = Net()\n",
    "loss_fn = torch.nn.MSELoss()\n",
    "optimizr = torch.optim.Adam(net.parameters(),lr=0.1)\n",
    "\n",
    "for epoc in range(100):\n",
    "    yhat = net(x)\n",
    "    loss = loss_fn(yhat,y)\n",
    "    loss.backward()\n",
    "    optimizr.step()\n",
    "    optimizr.zero_grad()"
   ]
  },
  {
   "cell_type": "code",
   "execution_count": 85,
   "id": "0e7d1d37-b457-41d7-9e55-c75dd5810b21",
   "metadata": {},
   "outputs": [
    {
     "data": {
      "text/plain": [
       "[<matplotlib.lines.Line2D at 0x7f0b84a507a0>]"
      ]
     },
     "execution_count": 85,
     "metadata": {},
     "output_type": "execute_result"
    },
    {
     "data": {
      "image/png": "[encoded data removed]",
      "text/plain": [
       "<Figure size 640x480 with 1 Axes>"
      ]
     },
     "metadata": {},
     "output_type": "display_data"
    }
   ],
   "source": [
    "plt.plot(x,y,'o')\n",
    "plt.plot(x,net(x).data,'--') # 최초의 직선"
   ]
  },
  {
   "cell_type": "markdown",
   "id": "70a82ddc-eefb-4936-9664-32c927dfdce8",
   "metadata": {},
   "source": [
    "## B. MF-based 추천시스템 재설계"
   ]
  },
  {
   "cell_type": "code",
   "execution_count": 95,
   "id": "8ef8cc2e-7b37-417d-bf40-65df295c838b",
   "metadata": {},
   "outputs": [
    {
     "data": {
      "text/html": [
       "<div>\n",
       "<style scoped>\n",
       "    .dataframe tbody tr th:only-of-type {\n",
       "        vertical-align: middle;\n",
       "    }\n",
       "\n",
       "    .dataframe tbody tr th {\n",
       "        vertical-align: top;\n",
       "    }\n",
       "\n",
       "    .dataframe thead th {\n",
       "        text-align: right;\n",
       "    }\n",
       "</style>\n",
       "<table border=\"1\" class=\"dataframe\">\n",
       "  <thead>\n",
       "    <tr style=\"text-align: right;\">\n",
       "      <th></th>\n",
       "      <th>영식(IN)</th>\n",
       "      <th>영철(IN)</th>\n",
       "      <th>영호(IS)</th>\n",
       "      <th>광수(IS)</th>\n",
       "      <th>상철(EN)</th>\n",
       "      <th>영수(EN)</th>\n",
       "      <th>규빈(ES)</th>\n",
       "      <th>다호(ES)</th>\n",
       "    </tr>\n",
       "  </thead>\n",
       "  <tbody>\n",
       "    <tr>\n",
       "      <th>옥순(IN)</th>\n",
       "      <td>NaN</td>\n",
       "      <td>4.02</td>\n",
       "      <td>3.45</td>\n",
       "      <td>3.42</td>\n",
       "      <td>0.84</td>\n",
       "      <td>1.12</td>\n",
       "      <td>0.43</td>\n",
       "      <td>0.49</td>\n",
       "    </tr>\n",
       "    <tr>\n",
       "      <th>영자(IN)</th>\n",
       "      <td>3.93</td>\n",
       "      <td>3.99</td>\n",
       "      <td>3.63</td>\n",
       "      <td>3.43</td>\n",
       "      <td>0.98</td>\n",
       "      <td>0.96</td>\n",
       "      <td>0.52</td>\n",
       "      <td>NaN</td>\n",
       "    </tr>\n",
       "    <tr>\n",
       "      <th>정숙(IS)</th>\n",
       "      <td>3.52</td>\n",
       "      <td>3.42</td>\n",
       "      <td>4.05</td>\n",
       "      <td>4.06</td>\n",
       "      <td>0.39</td>\n",
       "      <td>NaN</td>\n",
       "      <td>0.93</td>\n",
       "      <td>0.99</td>\n",
       "    </tr>\n",
       "    <tr>\n",
       "      <th>영숙(IS)</th>\n",
       "      <td>3.43</td>\n",
       "      <td>3.57</td>\n",
       "      <td>NaN</td>\n",
       "      <td>3.95</td>\n",
       "      <td>0.56</td>\n",
       "      <td>0.52</td>\n",
       "      <td>0.89</td>\n",
       "      <td>0.89</td>\n",
       "    </tr>\n",
       "    <tr>\n",
       "      <th>순자(EN)</th>\n",
       "      <td>1.12</td>\n",
       "      <td>NaN</td>\n",
       "      <td>0.59</td>\n",
       "      <td>0.43</td>\n",
       "      <td>4.01</td>\n",
       "      <td>4.16</td>\n",
       "      <td>3.52</td>\n",
       "      <td>3.38</td>\n",
       "    </tr>\n",
       "    <tr>\n",
       "      <th>현숙(EN)</th>\n",
       "      <td>0.94</td>\n",
       "      <td>1.05</td>\n",
       "      <td>0.32</td>\n",
       "      <td>0.45</td>\n",
       "      <td>4.02</td>\n",
       "      <td>3.78</td>\n",
       "      <td>NaN</td>\n",
       "      <td>3.54</td>\n",
       "    </tr>\n",
       "    <tr>\n",
       "      <th>서연(ES)</th>\n",
       "      <td>0.51</td>\n",
       "      <td>0.56</td>\n",
       "      <td>0.88</td>\n",
       "      <td>0.89</td>\n",
       "      <td>3.50</td>\n",
       "      <td>3.64</td>\n",
       "      <td>4.04</td>\n",
       "      <td>4.10</td>\n",
       "    </tr>\n",
       "    <tr>\n",
       "      <th>보람(ES)</th>\n",
       "      <td>0.48</td>\n",
       "      <td>0.51</td>\n",
       "      <td>1.03</td>\n",
       "      <td>NaN</td>\n",
       "      <td>3.52</td>\n",
       "      <td>4.00</td>\n",
       "      <td>3.82</td>\n",
       "      <td>NaN</td>\n",
       "    </tr>\n",
       "    <tr>\n",
       "      <th>하니(I)</th>\n",
       "      <td>4.85</td>\n",
       "      <td>4.82</td>\n",
       "      <td>NaN</td>\n",
       "      <td>4.98</td>\n",
       "      <td>4.53</td>\n",
       "      <td>4.39</td>\n",
       "      <td>4.45</td>\n",
       "      <td>4.52</td>\n",
       "    </tr>\n",
       "  </tbody>\n",
       "</table>\n",
       "</div>"
      ],
      "text/plain": [
       "        영식(IN)  영철(IN)  영호(IS)  광수(IS)  상철(EN)  영수(EN)  규빈(ES)  다호(ES)\n",
       "옥순(IN)     NaN    4.02    3.45    3.42    0.84    1.12    0.43    0.49\n",
       "영자(IN)    3.93    3.99    3.63    3.43    0.98    0.96    0.52     NaN\n",
       "정숙(IS)    3.52    3.42    4.05    4.06    0.39     NaN    0.93    0.99\n",
       "영숙(IS)    3.43    3.57     NaN    3.95    0.56    0.52    0.89    0.89\n",
       "순자(EN)    1.12     NaN    0.59    0.43    4.01    4.16    3.52    3.38\n",
       "현숙(EN)    0.94    1.05    0.32    0.45    4.02    3.78     NaN    3.54\n",
       "서연(ES)    0.51    0.56    0.88    0.89    3.50    3.64    4.04    4.10\n",
       "보람(ES)    0.48    0.51    1.03     NaN    3.52    4.00    3.82     NaN\n",
       "하니(I)     4.85    4.82     NaN    4.98    4.53    4.39    4.45    4.52"
      ]
     },
     "execution_count": 95,
     "metadata": {},
     "output_type": "execute_result"
    }
   ],
   "source": [
    "df_view = pd.read_csv('https://raw.githubusercontent.com/guebin/DL2024/main/posts/solo.csv',index_col=0)\n",
    "df_view"
   ]
  },
  {
   "cell_type": "code",
   "execution_count": 96,
   "id": "a38fcf33-9156-4649-ab42-497f41dac873",
   "metadata": {},
   "outputs": [],
   "source": [
    "df_train = df_view.stack().reset_index().set_axis(['W','M','y'],axis=1)\n",
    "w = {'옥순(IN)':0, '영자(IN)':1, '정숙(IS)':2, '영숙(IS)':3, '순자(EN)':4, '현숙(EN)':5, '서연(ES)':6, '보람(ES)':7, '하니(I)':8}\n",
    "m = {'영식(IN)':0, '영철(IN)':1, '영호(IS)':2, '광수(IS)':3, '상철(EN)':4, '영수(EN)':5, '규빈(ES)':6, '다호(ES)':7}\n",
    "X1 = torch.tensor(df_train['W'].map(w)) # length-n int vector \n",
    "X2 = torch.tensor(df_train['M'].map(m)) # length-n int vector \n",
    "y = torch.tensor(df_train['y']).float().reshape(-1,1) # (n,1) float vector"
   ]
  },
  {
   "cell_type": "markdown",
   "id": "fbb7c689-c95b-46df-bf1c-6ab6485095f0",
   "metadata": {},
   "source": [
    "사용자 정의 네트워크를 이용하여 MF-based 추천시스템을 설계하라"
   ]
  },
  {
   "cell_type": "markdown",
   "id": "ffff6810-3d8b-4680-86bc-ee3200196449",
   "metadata": {},
   "source": [
    "`-` 풀이1"
   ]
  },
  {
   "cell_type": "code",
   "execution_count": 110,
   "id": "491f9341-b9a6-442b-9884-5c34095fd0d5",
   "metadata": {},
   "outputs": [],
   "source": [
    "class Net(torch.nn.Module):\n",
    "    def __init__(self):\n",
    "        super().__init__()\n",
    "        self.ebdd1 = torch.nn.Embedding(9,2)\n",
    "        self.ebdd2 = torch.nn.Embedding(8,2)\n",
    "        self.b1 = torch.nn.Embedding(9,1)\n",
    "        self.b2 = torch.nn.Embedding(8,1)\n",
    "        self.sig = torch.nn.Sigmoid()\n",
    "    def forward(self,X1,X2):\n",
    "        W_features = self.ebdd1(X1)\n",
    "        M_features = self.ebdd2(X2)\n",
    "        W_bias = self.b1(X1)\n",
    "        M_bias = self.b2(X2)\n",
    "        score = (W_features * M_features).sum(axis=1).reshape(-1,1) + W_bias + M_bias\n",
    "        yhat = sig(score) * 5\n",
    "        return yhat"
   ]
  },
  {
   "cell_type": "code",
   "execution_count": 111,
   "id": "ac77c71f-3908-4698-a625-dcac291d9d22",
   "metadata": {},
   "outputs": [],
   "source": [
    "net = Net()\n",
    "loss_fn = torch.nn.MSELoss()\n",
    "optimizr = torch.optim.Adam(net.parameters(),lr=0.1)\n",
    "\n",
    "for epoc in range(100):\n",
    "    yhat = net(X1,X2)\n",
    "    \n",
    "    loss = loss_fn(yhat,y)\n",
    "    \n",
    "    loss.backward()\n",
    "    \n",
    "    optimizr.step()\n",
    "    optimizr.zero_grad()"
   ]
  },
  {
   "cell_type": "code",
   "execution_count": 119,
   "id": "dd98e1d1-e32d-47ff-8ce9-7fb77a66244e",
   "metadata": {},
   "outputs": [
    {
     "data": {
      "text/plain": [
       "tensor([[4.0761, 4.0200],\n",
       "        [0.5779, 0.4300],\n",
       "        [3.5008, 3.4300],\n",
       "        [3.4501, 3.4200],\n",
       "        [0.9958, 0.9900],\n",
       "        [0.7196, 0.5200],\n",
       "        [0.4822, 0.4300],\n",
       "        [0.8808, 0.9400],\n",
       "        [3.9193, 3.7800],\n",
       "        [0.8878, 0.8900],\n",
       "        [0.5020, 0.4800],\n",
       "        [4.0130, 3.8200],\n",
       "        [4.7589, 4.3900]])"
      ]
     },
     "execution_count": 119,
     "metadata": {},
     "output_type": "execute_result"
    }
   ],
   "source": [
    "torch.concat([yhat.data , y],axis=1)[::5]"
   ]
  },
  {
   "cell_type": "markdown",
   "id": "ae982dca-b560-4821-bad6-0bf96c715bec",
   "metadata": {},
   "source": [
    "`-` 풀이2"
   ]
  },
  {
   "cell_type": "code",
   "execution_count": 120,
   "id": "252314a3-82cb-422b-893b-240663f896a9",
   "metadata": {},
   "outputs": [
    {
     "data": {
      "text/plain": [
       "tensor([[0, 1],\n",
       "        [0, 2],\n",
       "        [0, 3],\n",
       "        [0, 4],\n",
       "        [0, 5]])"
      ]
     },
     "execution_count": 120,
     "metadata": {},
     "output_type": "execute_result"
    }
   ],
   "source": [
    "X = torch.stack([X1,X2],axis=1)\n",
    "X[:5]"
   ]
  },
  {
   "cell_type": "code",
   "execution_count": 121,
   "id": "db045c49-45f8-4887-81a0-620c70a0645e",
   "metadata": {},
   "outputs": [
    {
     "data": {
      "text/plain": [
       "(tensor([0, 0, 0, 0, 0, 0, 0, 1, 1, 1, 1, 1, 1, 1, 2, 2, 2, 2, 2, 2, 2, 3, 3, 3,\n",
       "         3, 3, 3, 3, 4, 4, 4, 4, 4, 4, 4, 5, 5, 5, 5, 5, 5, 5, 6, 6, 6, 6, 6, 6,\n",
       "         6, 6, 7, 7, 7, 7, 7, 7, 8, 8, 8, 8, 8, 8, 8]),\n",
       " tensor([1, 2, 3, 4, 5, 6, 7, 0, 1, 2, 3, 4, 5, 6, 0, 1, 2, 3, 4, 6, 7, 0, 1, 3,\n",
       "         4, 5, 6, 7, 0, 2, 3, 4, 5, 6, 7, 0, 1, 2, 3, 4, 5, 7, 0, 1, 2, 3, 4, 5,\n",
       "         6, 7, 0, 1, 2, 4, 5, 6, 0, 1, 3, 4, 5, 6, 7]))"
      ]
     },
     "execution_count": 121,
     "metadata": {},
     "output_type": "execute_result"
    }
   ],
   "source": [
    "X[:,0], X[:,1]"
   ]
  },
  {
   "cell_type": "code",
   "execution_count": 122,
   "id": "662673a3-6caa-434e-94af-d82aa91a60cd",
   "metadata": {},
   "outputs": [],
   "source": [
    "class Net(torch.nn.Module):\n",
    "    def __init__(self):\n",
    "        super().__init__()\n",
    "        self.ebdd1 = torch.nn.Embedding(9,2)\n",
    "        self.ebdd2 = torch.nn.Embedding(8,2)\n",
    "        self.b1 = torch.nn.Embedding(9,1)\n",
    "        self.b2 = torch.nn.Embedding(8,1)\n",
    "        self.sig = torch.nn.Sigmoid()\n",
    "    def forward(self,X):\n",
    "        X1,X2 = X[:,0],X[:,1]\n",
    "        W_features = self.ebdd1(X1)\n",
    "        M_features = self.ebdd2(X2)\n",
    "        W_bias = self.b1(X1)\n",
    "        M_bias = self.b2(X2)\n",
    "        score = (W_features * M_features).sum(axis=1).reshape(-1,1) + W_bias + M_bias\n",
    "        yhat = sig(score) * 5\n",
    "        return yhat"
   ]
  },
  {
   "cell_type": "code",
   "execution_count": 123,
   "id": "3c20651a-fc9e-4ff7-ab24-40cd716dfab1",
   "metadata": {},
   "outputs": [],
   "source": [
    "net = Net()\n",
    "loss_fn = torch.nn.MSELoss()\n",
    "optimizr = torch.optim.Adam(net.parameters(),lr=0.1) # 이게 편해요!!\n",
    "#--# \n",
    "for epoc in range(100):\n",
    "    # 1\n",
    "    yhat = net(X) \n",
    "    # 2\n",
    "    loss = loss_fn(yhat,y)\n",
    "    # 3 \n",
    "    loss.backward()\n",
    "    # 4 \n",
    "    optimizr.step()\n",
    "    optimizr.zero_grad()"
   ]
  },
  {
   "cell_type": "code",
   "execution_count": 124,
   "id": "6bcf6bf2-02c1-44bc-9b2e-12ba1bee83c3",
   "metadata": {},
   "outputs": [
    {
     "data": {
      "text/plain": [
       "tensor([[4.0690, 4.0200],\n",
       "        [0.6189, 0.4300],\n",
       "        [3.5540, 3.4300],\n",
       "        [3.4387, 3.4200],\n",
       "        [0.9671, 0.9900],\n",
       "        [0.6642, 0.5200],\n",
       "        [0.5653, 0.4300],\n",
       "        [0.0233, 0.9400],\n",
       "        [3.8030, 3.7800],\n",
       "        [0.7846, 0.8900],\n",
       "        [0.5607, 0.4800],\n",
       "        [3.8352, 3.8200],\n",
       "        [4.9609, 4.3900]])"
      ]
     },
     "execution_count": 124,
     "metadata": {},
     "output_type": "execute_result"
    }
   ],
   "source": [
    "torch.concat([yhat.data,y],axis=1)[::5]"
   ]
  },
  {
   "cell_type": "markdown",
   "id": "7ff19546-ab92-43bd-9e2b-8e9cc5e8c030",
   "metadata": {},
   "source": [
    "# **4.NN-based 추천시스템**"
   ]
  },
  {
   "cell_type": "markdown",
   "id": "7b653aa3-7ec2-4c88-b728-9a52665854a4",
   "metadata": {},
   "source": [
    "## A. NN-based 방식"
   ]
  },
  {
   "cell_type": "code",
   "execution_count": 125,
   "id": "9f9bcc9e-aa81-4aaa-91c4-f7d1ffaf9e65",
   "metadata": {},
   "outputs": [
    {
     "data": {
      "text/html": [
       "<div>\n",
       "<style scoped>\n",
       "    .dataframe tbody tr th:only-of-type {\n",
       "        vertical-align: middle;\n",
       "    }\n",
       "\n",
       "    .dataframe tbody tr th {\n",
       "        vertical-align: top;\n",
       "    }\n",
       "\n",
       "    .dataframe thead th {\n",
       "        text-align: right;\n",
       "    }\n",
       "</style>\n",
       "<table border=\"1\" class=\"dataframe\">\n",
       "  <thead>\n",
       "    <tr style=\"text-align: right;\">\n",
       "      <th></th>\n",
       "      <th>영식(IN)</th>\n",
       "      <th>영철(IN)</th>\n",
       "      <th>영호(IS)</th>\n",
       "      <th>광수(IS)</th>\n",
       "      <th>상철(EN)</th>\n",
       "      <th>영수(EN)</th>\n",
       "      <th>규빈(ES)</th>\n",
       "      <th>다호(ES)</th>\n",
       "    </tr>\n",
       "  </thead>\n",
       "  <tbody>\n",
       "    <tr>\n",
       "      <th>옥순(IN)</th>\n",
       "      <td>NaN</td>\n",
       "      <td>4.02</td>\n",
       "      <td>3.45</td>\n",
       "      <td>3.42</td>\n",
       "      <td>0.84</td>\n",
       "      <td>1.12</td>\n",
       "      <td>0.43</td>\n",
       "      <td>0.49</td>\n",
       "    </tr>\n",
       "    <tr>\n",
       "      <th>영자(IN)</th>\n",
       "      <td>3.93</td>\n",
       "      <td>3.99</td>\n",
       "      <td>3.63</td>\n",
       "      <td>3.43</td>\n",
       "      <td>0.98</td>\n",
       "      <td>0.96</td>\n",
       "      <td>0.52</td>\n",
       "      <td>NaN</td>\n",
       "    </tr>\n",
       "    <tr>\n",
       "      <th>정숙(IS)</th>\n",
       "      <td>3.52</td>\n",
       "      <td>3.42</td>\n",
       "      <td>4.05</td>\n",
       "      <td>4.06</td>\n",
       "      <td>0.39</td>\n",
       "      <td>NaN</td>\n",
       "      <td>0.93</td>\n",
       "      <td>0.99</td>\n",
       "    </tr>\n",
       "    <tr>\n",
       "      <th>영숙(IS)</th>\n",
       "      <td>3.43</td>\n",
       "      <td>3.57</td>\n",
       "      <td>NaN</td>\n",
       "      <td>3.95</td>\n",
       "      <td>0.56</td>\n",
       "      <td>0.52</td>\n",
       "      <td>0.89</td>\n",
       "      <td>0.89</td>\n",
       "    </tr>\n",
       "    <tr>\n",
       "      <th>순자(EN)</th>\n",
       "      <td>1.12</td>\n",
       "      <td>NaN</td>\n",
       "      <td>0.59</td>\n",
       "      <td>0.43</td>\n",
       "      <td>4.01</td>\n",
       "      <td>4.16</td>\n",
       "      <td>3.52</td>\n",
       "      <td>3.38</td>\n",
       "    </tr>\n",
       "    <tr>\n",
       "      <th>현숙(EN)</th>\n",
       "      <td>0.94</td>\n",
       "      <td>1.05</td>\n",
       "      <td>0.32</td>\n",
       "      <td>0.45</td>\n",
       "      <td>4.02</td>\n",
       "      <td>3.78</td>\n",
       "      <td>NaN</td>\n",
       "      <td>3.54</td>\n",
       "    </tr>\n",
       "    <tr>\n",
       "      <th>서연(ES)</th>\n",
       "      <td>0.51</td>\n",
       "      <td>0.56</td>\n",
       "      <td>0.88</td>\n",
       "      <td>0.89</td>\n",
       "      <td>3.50</td>\n",
       "      <td>3.64</td>\n",
       "      <td>4.04</td>\n",
       "      <td>4.10</td>\n",
       "    </tr>\n",
       "    <tr>\n",
       "      <th>보람(ES)</th>\n",
       "      <td>0.48</td>\n",
       "      <td>0.51</td>\n",
       "      <td>1.03</td>\n",
       "      <td>NaN</td>\n",
       "      <td>3.52</td>\n",
       "      <td>4.00</td>\n",
       "      <td>3.82</td>\n",
       "      <td>NaN</td>\n",
       "    </tr>\n",
       "    <tr>\n",
       "      <th>하니(I)</th>\n",
       "      <td>4.85</td>\n",
       "      <td>4.82</td>\n",
       "      <td>NaN</td>\n",
       "      <td>4.98</td>\n",
       "      <td>4.53</td>\n",
       "      <td>4.39</td>\n",
       "      <td>4.45</td>\n",
       "      <td>4.52</td>\n",
       "    </tr>\n",
       "  </tbody>\n",
       "</table>\n",
       "</div>"
      ],
      "text/plain": [
       "        영식(IN)  영철(IN)  영호(IS)  광수(IS)  상철(EN)  영수(EN)  규빈(ES)  다호(ES)\n",
       "옥순(IN)     NaN    4.02    3.45    3.42    0.84    1.12    0.43    0.49\n",
       "영자(IN)    3.93    3.99    3.63    3.43    0.98    0.96    0.52     NaN\n",
       "정숙(IS)    3.52    3.42    4.05    4.06    0.39     NaN    0.93    0.99\n",
       "영숙(IS)    3.43    3.57     NaN    3.95    0.56    0.52    0.89    0.89\n",
       "순자(EN)    1.12     NaN    0.59    0.43    4.01    4.16    3.52    3.38\n",
       "현숙(EN)    0.94    1.05    0.32    0.45    4.02    3.78     NaN    3.54\n",
       "서연(ES)    0.51    0.56    0.88    0.89    3.50    3.64    4.04    4.10\n",
       "보람(ES)    0.48    0.51    1.03     NaN    3.52    4.00    3.82     NaN\n",
       "하니(I)     4.85    4.82     NaN    4.98    4.53    4.39    4.45    4.52"
      ]
     },
     "execution_count": 125,
     "metadata": {},
     "output_type": "execute_result"
    }
   ],
   "source": [
    "df_view = pd.read_csv('https://raw.githubusercontent.com/guebin/DL2024/main/posts/solo.csv',index_col=0)\n",
    "df_view"
   ]
  },
  {
   "cell_type": "code",
   "execution_count": 126,
   "id": "4b9ea7b1-d67e-481d-84e0-0e87bb2f3108",
   "metadata": {},
   "outputs": [],
   "source": [
    "df_train = df_view.stack().reset_index().set_axis(['W','M','y'],axis=1)\n",
    "w = {'옥순(IN)':0, '영자(IN)':1, '정숙(IS)':2, '영숙(IS)':3, '순자(EN)':4, '현숙(EN)':5, '서연(ES)':6, '보람(ES)':7, '하니(I)':8}\n",
    "m = {'영식(IN)':0, '영철(IN)':1, '영호(IS)':2, '광수(IS)':3, '상철(EN)':4, '영수(EN)':5, '규빈(ES)':6, '다호(ES)':7}\n",
    "X1 = torch.tensor(df_train['W'].map(w)) # length-n int vector \n",
    "X2 = torch.tensor(df_train['M'].map(m)) # length-n int vector \n",
    "y = torch.tensor(df_train['y']).float().reshape(-1,1) # (n,1) float vector"
   ]
  },
  {
   "cell_type": "markdown",
   "id": "82e2bc9d-c87a-4a07-bd57-dae7f3cd8da8",
   "metadata": {},
   "source": [
    "NN-based 추천시스템을 설계하라"
   ]
  },
  {
   "cell_type": "markdown",
   "id": "3939f7f6-9c38-408d-92be-509684ce045e",
   "metadata": {},
   "source": [
    "(풀이1) - 실패"
   ]
  },
  {
   "cell_type": "markdown",
   "id": "1ef53078-6c2c-444c-bb52-c1d181e7c8c8",
   "metadata": {},
   "source": [
    "`-` W_feature,M_feature,W_bias,M_bias을 모두 concat해서 (nx6)행렬로 만든 후에 linear를 태워볼까?"
   ]
  },
  {
   "cell_type": "code",
   "execution_count": 127,
   "id": "79f5f3b8-4ee2-4e90-a6e5-d1efdf18b101",
   "metadata": {},
   "outputs": [],
   "source": [
    "class Net(torch.nn.Module):\n",
    "    def __init__(self):\n",
    "        super().__init__()\n",
    "        #--#\n",
    "        self.ebdd1 = torch.nn.Embedding(9,2)\n",
    "        self.ebdd2 = torch.nn.Embedding(8,2)\n",
    "        self.b1 = torch.nn.Embedding(9,1)\n",
    "        self.b2 = torch.nn.Embedding(8,1)\n",
    "        self.mlp = torch.nn.Sequential(\n",
    "            torch.nn.Linear(6,1),\n",
    "            torch.nn.Sigmoid()\n",
    "        )   \n",
    "    def forward(self,X1,X2):\n",
    "        W_feature = self.ebdd1(X1)\n",
    "        M_feature = self.ebdd2(X2)\n",
    "        W_bias = self.b1(X1)\n",
    "        M_bias = self.b2(X2)\n",
    "        Z = torch.concat([W_feature,M_feature,W_bias,M_bias],axis=1)\n",
    "        yhat = self.mlp(Z) * 5 \n",
    "        return yhat"
   ]
  },
  {
   "cell_type": "code",
   "execution_count": 128,
   "id": "c97eb006-9bfa-4ce1-a561-cd8baa1483b3",
   "metadata": {},
   "outputs": [],
   "source": [
    "net = Net()\n",
    "loss_fn = torch.nn.MSELoss()\n",
    "optimizr = torch.optim.Adam(net.parameters(),lr=0.1) # 이게 편해요!!\n",
    "#--# \n",
    "for epoc in range(1000):\n",
    "    # 1\n",
    "    yhat = net(X1,X2) \n",
    "    # 2\n",
    "    loss = loss_fn(yhat,y)\n",
    "    # 3 \n",
    "    loss.backward()\n",
    "    # 4 \n",
    "    optimizr.step()\n",
    "    optimizr.zero_grad()"
   ]
  },
  {
   "cell_type": "code",
   "execution_count": 129,
   "id": "9a46c80e-2376-48c9-8b5c-ee32f11bbf7b",
   "metadata": {},
   "outputs": [
    {
     "data": {
      "text/plain": [
       "tensor([[2.1565, 4.0200],\n",
       "        [1.6908, 0.4300],\n",
       "        [2.6466, 3.4300],\n",
       "        [2.7758, 3.4200],\n",
       "        [2.5814, 0.9900],\n",
       "        [2.3105, 0.5200],\n",
       "        [2.6402, 0.4300],\n",
       "        [1.7231, 0.9400],\n",
       "        [2.3893, 3.7800],\n",
       "        [2.4106, 0.8900],\n",
       "        [1.9774, 0.4800],\n",
       "        [2.0164, 3.8200],\n",
       "        [4.7447, 4.3900]])"
      ]
     },
     "execution_count": 129,
     "metadata": {},
     "output_type": "execute_result"
    }
   ],
   "source": [
    "torch.concat([yhat.data,y],axis=1)[::5]"
   ]
  },
  {
   "cell_type": "markdown",
   "id": "811b5f55-a6c6-4a4e-bea5-4312a7629be8",
   "metadata": {},
   "source": [
    "- 안 맞네..?"
   ]
  },
  {
   "cell_type": "markdown",
   "id": "db5895b3-facc-4cf4-86bd-a977315430cd",
   "metadata": {},
   "source": [
    "(풀이2) - 모르겠다... 깊은 신경망 써보자"
   ]
  },
  {
   "cell_type": "code",
   "execution_count": 130,
   "id": "e77449b2-d4bd-42df-8659-e3ec5dc152cb",
   "metadata": {},
   "outputs": [],
   "source": [
    "class Net(torch.nn.Module):\n",
    "    def __init__(self):\n",
    "        super().__init__()\n",
    "        #--#\n",
    "        self.ebdd1 = torch.nn.Embedding(9,2)\n",
    "        self.ebdd2 = torch.nn.Embedding(8,2)\n",
    "        self.b1 = torch.nn.Embedding(9,1)\n",
    "        self.b2 = torch.nn.Embedding(8,1)\n",
    "        self.mlp = torch.nn.Sequential(\n",
    "            torch.nn.Linear(6,15),\n",
    "            torch.nn.ReLU(),\n",
    "            torch.nn.Linear(15,15),\n",
    "            torch.nn.ReLU(),\n",
    "            torch.nn.Linear(15,1),\n",
    "            torch.nn.Sigmoid()\n",
    "        )   \n",
    "    def forward(self,X1,X2):\n",
    "        W_feature = self.ebdd1(X1)\n",
    "        M_feature = self.ebdd2(X2)\n",
    "        W_bias = self.b1(X1)\n",
    "        M_bias = self.b2(X2)\n",
    "        Z = torch.concat([W_feature,M_feature,W_bias,M_bias],axis=1)\n",
    "        yhat = self.mlp(Z) * 5 \n",
    "        return yhat"
   ]
  },
  {
   "cell_type": "code",
   "execution_count": 131,
   "id": "6d78db77-b774-4044-a0d4-24eac611b481",
   "metadata": {},
   "outputs": [],
   "source": [
    "torch.manual_seed(43052)\n",
    "net = Net()\n",
    "loss_fn = torch.nn.MSELoss()\n",
    "optimizr = torch.optim.Adam(net.parameters(),lr=0.1) # 이게 편해요!!\n",
    "#--# \n",
    "for epoc in range(1000):\n",
    "    # 1\n",
    "    yhat = net(X1,X2) \n",
    "    # 2\n",
    "    loss = loss_fn(yhat,y)\n",
    "    # 3 \n",
    "    loss.backward()\n",
    "    # 4 \n",
    "    optimizr.step()\n",
    "    optimizr.zero_grad()"
   ]
  },
  {
   "cell_type": "code",
   "execution_count": 132,
   "id": "bebe2349-3a9a-4f0d-bbcb-b31947269799",
   "metadata": {},
   "outputs": [
    {
     "data": {
      "text/plain": [
       "tensor([[4.0304, 4.0200],\n",
       "        [0.4593, 0.4300],\n",
       "        [3.4378, 3.4300],\n",
       "        [3.4342, 3.4200],\n",
       "        [1.0066, 0.9900],\n",
       "        [0.5503, 0.5200],\n",
       "        [0.4410, 0.4300],\n",
       "        [0.9358, 0.9400],\n",
       "        [3.8641, 3.7800],\n",
       "        [0.9078, 0.8900],\n",
       "        [0.4841, 0.4800],\n",
       "        [3.8569, 3.8200],\n",
       "        [4.4065, 4.3900]])"
      ]
     },
     "execution_count": 132,
     "metadata": {},
     "output_type": "execute_result"
    }
   ],
   "source": [
    "torch.concat([yhat.data,y],axis=1)[::5]"
   ]
  },
  {
   "cell_type": "markdown",
   "id": "e4dc2704-f57c-4a1a-9c97-a72a9a3591a2",
   "metadata": {},
   "source": [
    "`-` 잘 맞추는데 오버피팅 아니야?"
   ]
  },
  {
   "cell_type": "code",
   "execution_count": 133,
   "id": "205eea2c-a27d-4d5e-b0dc-0d789887f49c",
   "metadata": {},
   "outputs": [
    {
     "data": {
      "text/html": [
       "<div>\n",
       "<style scoped>\n",
       "    .dataframe tbody tr th:only-of-type {\n",
       "        vertical-align: middle;\n",
       "    }\n",
       "\n",
       "    .dataframe tbody tr th {\n",
       "        vertical-align: top;\n",
       "    }\n",
       "\n",
       "    .dataframe thead th {\n",
       "        text-align: right;\n",
       "    }\n",
       "</style>\n",
       "<table border=\"1\" class=\"dataframe\">\n",
       "  <thead>\n",
       "    <tr style=\"text-align: right;\">\n",
       "      <th></th>\n",
       "      <th>영식(IN)</th>\n",
       "      <th>영철(IN)</th>\n",
       "      <th>영호(IS)</th>\n",
       "      <th>광수(IS)</th>\n",
       "      <th>상철(EN)</th>\n",
       "      <th>영수(EN)</th>\n",
       "      <th>규빈(ES)</th>\n",
       "      <th>다호(ES)</th>\n",
       "    </tr>\n",
       "  </thead>\n",
       "  <tbody>\n",
       "    <tr>\n",
       "      <th>옥순(IN)</th>\n",
       "      <td>NaN</td>\n",
       "      <td>4.02</td>\n",
       "      <td>3.45</td>\n",
       "      <td>3.42</td>\n",
       "      <td>0.84</td>\n",
       "      <td>1.12</td>\n",
       "      <td>0.43</td>\n",
       "      <td>0.49</td>\n",
       "    </tr>\n",
       "    <tr>\n",
       "      <th>영자(IN)</th>\n",
       "      <td>3.93</td>\n",
       "      <td>3.99</td>\n",
       "      <td>3.63</td>\n",
       "      <td>3.43</td>\n",
       "      <td>0.98</td>\n",
       "      <td>0.96</td>\n",
       "      <td>0.52</td>\n",
       "      <td>NaN</td>\n",
       "    </tr>\n",
       "    <tr>\n",
       "      <th>정숙(IS)</th>\n",
       "      <td>3.52</td>\n",
       "      <td>3.42</td>\n",
       "      <td>4.05</td>\n",
       "      <td>4.06</td>\n",
       "      <td>0.39</td>\n",
       "      <td>NaN</td>\n",
       "      <td>0.93</td>\n",
       "      <td>0.99</td>\n",
       "    </tr>\n",
       "    <tr>\n",
       "      <th>영숙(IS)</th>\n",
       "      <td>3.43</td>\n",
       "      <td>3.57</td>\n",
       "      <td>NaN</td>\n",
       "      <td>3.95</td>\n",
       "      <td>0.56</td>\n",
       "      <td>0.52</td>\n",
       "      <td>0.89</td>\n",
       "      <td>0.89</td>\n",
       "    </tr>\n",
       "    <tr>\n",
       "      <th>순자(EN)</th>\n",
       "      <td>1.12</td>\n",
       "      <td>NaN</td>\n",
       "      <td>0.59</td>\n",
       "      <td>0.43</td>\n",
       "      <td>4.01</td>\n",
       "      <td>4.16</td>\n",
       "      <td>3.52</td>\n",
       "      <td>3.38</td>\n",
       "    </tr>\n",
       "    <tr>\n",
       "      <th>현숙(EN)</th>\n",
       "      <td>0.94</td>\n",
       "      <td>1.05</td>\n",
       "      <td>0.32</td>\n",
       "      <td>0.45</td>\n",
       "      <td>4.02</td>\n",
       "      <td>3.78</td>\n",
       "      <td>NaN</td>\n",
       "      <td>3.54</td>\n",
       "    </tr>\n",
       "    <tr>\n",
       "      <th>서연(ES)</th>\n",
       "      <td>0.51</td>\n",
       "      <td>0.56</td>\n",
       "      <td>0.88</td>\n",
       "      <td>0.89</td>\n",
       "      <td>3.50</td>\n",
       "      <td>3.64</td>\n",
       "      <td>4.04</td>\n",
       "      <td>4.10</td>\n",
       "    </tr>\n",
       "    <tr>\n",
       "      <th>보람(ES)</th>\n",
       "      <td>0.48</td>\n",
       "      <td>0.51</td>\n",
       "      <td>1.03</td>\n",
       "      <td>NaN</td>\n",
       "      <td>3.52</td>\n",
       "      <td>4.00</td>\n",
       "      <td>3.82</td>\n",
       "      <td>NaN</td>\n",
       "    </tr>\n",
       "    <tr>\n",
       "      <th>하니(I)</th>\n",
       "      <td>4.85</td>\n",
       "      <td>4.82</td>\n",
       "      <td>NaN</td>\n",
       "      <td>4.98</td>\n",
       "      <td>4.53</td>\n",
       "      <td>4.39</td>\n",
       "      <td>4.45</td>\n",
       "      <td>4.52</td>\n",
       "    </tr>\n",
       "  </tbody>\n",
       "</table>\n",
       "</div>"
      ],
      "text/plain": [
       "        영식(IN)  영철(IN)  영호(IS)  광수(IS)  상철(EN)  영수(EN)  규빈(ES)  다호(ES)\n",
       "옥순(IN)     NaN    4.02    3.45    3.42    0.84    1.12    0.43    0.49\n",
       "영자(IN)    3.93    3.99    3.63    3.43    0.98    0.96    0.52     NaN\n",
       "정숙(IS)    3.52    3.42    4.05    4.06    0.39     NaN    0.93    0.99\n",
       "영숙(IS)    3.43    3.57     NaN    3.95    0.56    0.52    0.89    0.89\n",
       "순자(EN)    1.12     NaN    0.59    0.43    4.01    4.16    3.52    3.38\n",
       "현숙(EN)    0.94    1.05    0.32    0.45    4.02    3.78     NaN    3.54\n",
       "서연(ES)    0.51    0.56    0.88    0.89    3.50    3.64    4.04    4.10\n",
       "보람(ES)    0.48    0.51    1.03     NaN    3.52    4.00    3.82     NaN\n",
       "하니(I)     4.85    4.82     NaN    4.98    4.53    4.39    4.45    4.52"
      ]
     },
     "execution_count": 133,
     "metadata": {},
     "output_type": "execute_result"
    }
   ],
   "source": [
    "df_view"
   ]
  },
  {
   "cell_type": "code",
   "execution_count": 134,
   "id": "b4ecc2d6-3f62-4baa-888a-8f3897c486a0",
   "metadata": {},
   "outputs": [],
   "source": [
    "XX1 = torch.tensor([0,1,8])\n",
    "XX2 = torch.tensor([1,7,2])"
   ]
  },
  {
   "cell_type": "code",
   "execution_count": 135,
   "id": "ceba4b87-bb8f-480b-8610-172516d7d59b",
   "metadata": {},
   "outputs": [
    {
     "data": {
      "text/plain": [
       "tensor([[4.0098],\n",
       "        [0.5043],\n",
       "        [4.9727]], grad_fn=<MulBackward0>)"
      ]
     },
     "execution_count": 135,
     "metadata": {},
     "output_type": "execute_result"
    }
   ],
   "source": [
    "net(XX1,XX2)"
   ]
  }
 ],
 "metadata": {
  "kernelspec": {
   "display_name": "Python 3 (ipykernel)",
   "language": "python",
   "name": "python3"
  },
  "language_info": {
   "codemirror_mode": {
    "name": "ipython",
    "version": 3
   },
   "file_extension": ".py",
   "mimetype": "text/x-python",
   "name": "python",
   "nbconvert_exporter": "python",
   "pygments_lexer": "ipython3",
   "version": "3.12.2"
  }
 },
 "nbformat": 4,
 "nbformat_minor": 5
}
