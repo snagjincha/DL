{
 "cells": [
  {
   "cell_type": "raw",
   "id": "51809d5e-4cf2-4cdd-bcd2-a79317e9e197",
   "metadata": {},
   "source": [
    "---\n",
    "title: \"Deep Learning 9\"\n",
    "author: \"차상진\"\n",
    "date: \"2024-05-30\"\n",
    "---"
   ]
  },
  {
   "cell_type": "markdown",
   "id": "2b999576-be88-4f2e-9bdb-2c29ea0719bb",
   "metadata": {},
   "source": [
    "# **1.Imports**"
   ]
  },
  {
   "cell_type": "code",
   "execution_count": 29,
   "id": "c63d3c9f-b3db-43ac-a0ac-f01dca78bdd3",
   "metadata": {},
   "outputs": [],
   "source": [
    "import torch\n",
    "import pandas as pd\n",
    "import matplotlib.pyplot as plt"
   ]
  },
  {
   "cell_type": "code",
   "execution_count": 30,
   "id": "ead8174b-c726-4499-9362-51c4e719ba90",
   "metadata": {},
   "outputs": [],
   "source": [
    "soft = torch.nn.Softmax(dim=1)"
   ]
  },
  {
   "cell_type": "markdown",
   "id": "aae44b1d-690f-4937-aefe-15325b9eae56",
   "metadata": {},
   "source": [
    "# **2.AbAcAd - 실패**"
   ]
  },
  {
   "cell_type": "markdown",
   "id": "1973bfd3-f47d-4d50-934b-0ea5bb95d29d",
   "metadata": {},
   "source": [
    "## **A. Data**"
   ]
  },
  {
   "cell_type": "code",
   "execution_count": 3,
   "id": "6288a915-3f37-408b-baa9-f9f8e00206d6",
   "metadata": {},
   "outputs": [
    {
     "data": {
      "text/plain": [
       "['A', 'b', 'A', 'c', 'A', 'd', 'A', 'b', 'A', 'c']"
      ]
     },
     "execution_count": 3,
     "metadata": {},
     "output_type": "execute_result"
    }
   ],
   "source": [
    "txt = list('AbAcAd'*50)\n",
    "txt[:10]"
   ]
  },
  {
   "cell_type": "code",
   "execution_count": 4,
   "id": "2ccb791c-4ab6-4c6a-a317-a9f9e4a568c9",
   "metadata": {},
   "outputs": [
    {
     "data": {
      "text/html": [
       "<div>\n",
       "<style scoped>\n",
       "    .dataframe tbody tr th:only-of-type {\n",
       "        vertical-align: middle;\n",
       "    }\n",
       "\n",
       "    .dataframe tbody tr th {\n",
       "        vertical-align: top;\n",
       "    }\n",
       "\n",
       "    .dataframe thead th {\n",
       "        text-align: right;\n",
       "    }\n",
       "</style>\n",
       "<table border=\"1\" class=\"dataframe\">\n",
       "  <thead>\n",
       "    <tr style=\"text-align: right;\">\n",
       "      <th></th>\n",
       "      <th>x</th>\n",
       "      <th>y</th>\n",
       "    </tr>\n",
       "  </thead>\n",
       "  <tbody>\n",
       "    <tr>\n",
       "      <th>0</th>\n",
       "      <td>A</td>\n",
       "      <td>b</td>\n",
       "    </tr>\n",
       "    <tr>\n",
       "      <th>1</th>\n",
       "      <td>b</td>\n",
       "      <td>A</td>\n",
       "    </tr>\n",
       "    <tr>\n",
       "      <th>2</th>\n",
       "      <td>A</td>\n",
       "      <td>c</td>\n",
       "    </tr>\n",
       "    <tr>\n",
       "      <th>3</th>\n",
       "      <td>c</td>\n",
       "      <td>A</td>\n",
       "    </tr>\n",
       "    <tr>\n",
       "      <th>4</th>\n",
       "      <td>A</td>\n",
       "      <td>d</td>\n",
       "    </tr>\n",
       "  </tbody>\n",
       "</table>\n",
       "</div>"
      ],
      "text/plain": [
       "   x  y\n",
       "0  A  b\n",
       "1  b  A\n",
       "2  A  c\n",
       "3  c  A\n",
       "4  A  d"
      ]
     },
     "execution_count": 4,
     "metadata": {},
     "output_type": "execute_result"
    }
   ],
   "source": [
    "df_train = pd.DataFrame({'x':txt[:-1], 'y':txt[1:]})\n",
    "df_train[:5]"
   ]
  },
  {
   "cell_type": "code",
   "execution_count": 5,
   "id": "100fe999-4e91-4c03-8f02-bf231e7d78a1",
   "metadata": {},
   "outputs": [],
   "source": [
    "x = torch.tensor(df_train.x.map({'A':0,'b':1,'c':2,'d':3}))\n",
    "y = torch.tensor(df_train.y.map({'A':0,'b':1,'c':2,'d':3}))"
   ]
  },
  {
   "cell_type": "markdown",
   "id": "870c44e9-cc14-4709-9c3e-121ffb499e8d",
   "metadata": {},
   "source": [
    "## **B. 풀이 - 실패**"
   ]
  },
  {
   "cell_type": "code",
   "execution_count": 6,
   "id": "7a1cb3b4-2613-431e-aecd-4f6d7679e437",
   "metadata": {},
   "outputs": [],
   "source": [
    "net = torch.nn.Sequential(\n",
    "    torch.nn.Embedding(4,2),\n",
    "    torch.nn.Tanh(),\n",
    "    torch.nn.Linear(2,4)\n",
    ")\n",
    "ebdd , tanh , linr = net\n",
    "ebdd.weight.data = ebdd.weight.data*0 +0.1\n",
    "linr.weight.data = linr.weight.data*0 +0.1\n",
    "linr.bias.data = linr.bias.data*0 +0.1\n",
    "#\n",
    "loss_fn = torch.nn.CrossEntropyLoss()\n",
    "optimizr = torch.optim.Adam(net.parameters(),lr=0.1)\n",
    "\n",
    "for epoc in range(200):\n",
    "    # 1\n",
    "    netout = net(x)\n",
    "    # 2\n",
    "    loss = loss_fn(netout,y)\n",
    "    # 3\n",
    "    loss.backward()\n",
    "    # 4\n",
    "    optimizr.step()\n",
    "    optimizr.zero_grad()"
   ]
  },
  {
   "cell_type": "code",
   "execution_count": 7,
   "id": "2622a945-e819-4116-a122-e748b3bb09dd",
   "metadata": {},
   "outputs": [
    {
     "data": {
      "image/png": "[encoded data removed]",
      "text/plain": [
       "<Figure size 400x666.667 with 1 Axes>"
      ]
     },
     "metadata": {},
     "output_type": "display_data"
    }
   ],
   "source": [
    "h = tanh(ebdd(x))\n",
    "yhat = soft(net(x))\n",
    "mat = torch.concat([h,yhat],axis=1).data[:10]\n",
    "plt.matshow(mat,cmap=\"bwr\",vmin=-1,vmax=1)\n",
    "plt.axvline(1.5,color=\"lime\")\n",
    "plt.xticks(ticks=range(6),labels=[r\"$h_1$\",r\"$h_2$\",r\"$P_A$\",r\"$P_b$\",r\"$P_c$\",r\"$P_d$\"]);"
   ]
  },
  {
   "cell_type": "markdown",
   "id": "7a898f4c-c558-458e-a819-f7b51db58839",
   "metadata": {},
   "source": [
    "`-` 흠..망했네 뭐가 문제지?"
   ]
  },
  {
   "cell_type": "code",
   "execution_count": 8,
   "id": "1abe548b-a1ff-4138-96df-e7c470e6a6da",
   "metadata": {},
   "outputs": [
    {
     "data": {
      "text/plain": [
       "tensor([[-3.8668,  3.6836,  3.6836,  3.6836],\n",
       "        [ 5.4879, -4.9081, -4.9081, -4.9081],\n",
       "        [-3.8668,  3.6836,  3.6836,  3.6836],\n",
       "        ...,\n",
       "        [-3.8668,  3.6836,  3.6836,  3.6836],\n",
       "        [ 5.4879, -4.9081, -4.9081, -4.9081],\n",
       "        [-3.8668,  3.6836,  3.6836,  3.6836]], grad_fn=<AddmmBackward0>)"
      ]
     },
     "execution_count": 8,
     "metadata": {},
     "output_type": "execute_result"
    }
   ],
   "source": [
    "net(x)"
   ]
  },
  {
   "cell_type": "markdown",
   "id": "4afc9a46-a3ad-4ad6-b76a-4c2bb4a9e86a",
   "metadata": {},
   "source": [
    "`-` b,c,d를 구분하지 못한다"
   ]
  },
  {
   "cell_type": "markdown",
   "id": "e7274f43-c85f-4cfe-a189-8ee1226b4566",
   "metadata": {},
   "source": [
    "## **C. 실패한 풀이의 다른 구현1**"
   ]
  },
  {
   "cell_type": "code",
   "execution_count": 9,
   "id": "7f0564d2-249c-4b82-a258-aa07e48e2873",
   "metadata": {},
   "outputs": [],
   "source": [
    "x = torch.tensor(df_train.x.map({'A':0,'b':1,'c':2,'d':3}))\n",
    "y = torch.tensor(df_train.y.map({'A':0,'b':1,'c':2,'d':3}))\n",
    "X = torch.nn.functional.one_hot(x).float()\n",
    "y = torch.nn.functional.one_hot(y).float()"
   ]
  },
  {
   "cell_type": "markdown",
   "id": "fd818054-3c82-4ca3-899c-a877ab7cc652",
   "metadata": {},
   "source": [
    "사용자 정의 Hnet를 사용"
   ]
  },
  {
   "cell_type": "code",
   "execution_count": 10,
   "id": "6a504caa-abd9-40f3-a376-a62f69a19f62",
   "metadata": {},
   "outputs": [],
   "source": [
    "class Hnet(torch.nn.Module):\n",
    "    def __init__(self):\n",
    "        super().__init__()\n",
    "        self.i2h = torch.nn.Linear(4,2,bias=False)\n",
    "        self.tanh = torch.nn.Tanh()\n",
    "    def forward(self,X):\n",
    "        h = self.tanh(self.i2h(X))\n",
    "        return h\n",
    "hnet = Hnet()\n",
    "linr = torch.nn.Linear(2,4)\n",
    "hnet.i2h.weight.data = hnet.i2h.weight.data*0 + 0.1\n",
    "linr.weight.data = linr.weight.data*0 + 0.1\n",
    "linr.bias.data = linr.bias.data*0 + 0.1\n",
    "# \n",
    "loss_fn = torch.nn.CrossEntropyLoss()\n",
    "optimizr = torch.optim.Adam(list(hnet.parameters())+list(linr.parameters()),lr=0.1)\n",
    "#---#\n",
    "for epoc in range(200):\n",
    "    # 1 \n",
    "    h = hnet(X)\n",
    "    netout = linr(h)\n",
    "    # 2 \n",
    "    loss = loss_fn(netout,y)\n",
    "    # 3 \n",
    "    loss.backward()\n",
    "    # 4 \n",
    "    optimizr.step()\n",
    "    optimizr.zero_grad()"
   ]
  },
  {
   "cell_type": "markdown",
   "id": "e901a66e-f500-403f-bc14-6b104f0d14a5",
   "metadata": {},
   "source": [
    "$h$를 만들고 그 후에 linr를 태운 것."
   ]
  },
  {
   "cell_type": "code",
   "execution_count": 11,
   "id": "22f53a1e-5fa0-4551-bf69-52af90dddd0c",
   "metadata": {},
   "outputs": [
    {
     "data": {
      "text/plain": [
       "tensor([[-3.8668,  3.6836,  3.6836,  3.6836],\n",
       "        [ 5.4879, -4.9081, -4.9081, -4.9081],\n",
       "        [-3.8668,  3.6836,  3.6836,  3.6836],\n",
       "        ...,\n",
       "        [-3.8668,  3.6836,  3.6836,  3.6836],\n",
       "        [ 5.4879, -4.9081, -4.9081, -4.9081],\n",
       "        [-3.8668,  3.6836,  3.6836,  3.6836]], grad_fn=<AddmmBackward0>)"
      ]
     },
     "execution_count": 11,
     "metadata": {},
     "output_type": "execute_result"
    }
   ],
   "source": [
    "linr(hnet(X))"
   ]
  },
  {
   "cell_type": "markdown",
   "id": "76eb7d9d-7fe0-433c-9e79-ab57c0e33be6",
   "metadata": {},
   "source": [
    "`-` 당연히 linr의 순서만 뒤로 미뤘으니 값은 똑같음"
   ]
  },
  {
   "cell_type": "markdown",
   "id": "5a257f73-87f6-4ed0-937b-3c49bfe465a4",
   "metadata": {},
   "source": [
    "`-` 예비학습"
   ]
  },
  {
   "cell_type": "code",
   "execution_count": 12,
   "id": "1a69ac12-df4a-4e82-b76d-0277710ad66c",
   "metadata": {},
   "outputs": [],
   "source": [
    "X = torch.tensor(\n",
    "    [[1., 0., 0., 0.],\n",
    "     [0., 1., 0., 0.]]\n",
    ")\n",
    "linr = torch.nn.Linear(4,2)"
   ]
  },
  {
   "cell_type": "code",
   "execution_count": 13,
   "id": "8ae15e67-5c26-425e-9bd3-77ae9fd35cbf",
   "metadata": {},
   "outputs": [
    {
     "data": {
      "text/plain": [
       "tensor([[ 0.5355, -0.0576],\n",
       "        [ 0.6262,  0.2586]], grad_fn=<AddmmBackward0>)"
      ]
     },
     "execution_count": 13,
     "metadata": {},
     "output_type": "execute_result"
    }
   ],
   "source": [
    "linr(X)"
   ]
  },
  {
   "cell_type": "code",
   "execution_count": 14,
   "id": "5f57ab35-427e-4c96-8198-c472b197a849",
   "metadata": {},
   "outputs": [
    {
     "data": {
      "text/plain": [
       "(tensor([[ 0.5355, -0.0576]], grad_fn=<AddmmBackward0>),\n",
       " tensor([[0.6262, 0.2586]], grad_fn=<AddmmBackward0>))"
      ]
     },
     "execution_count": 14,
     "metadata": {},
     "output_type": "execute_result"
    }
   ],
   "source": [
    "linr(X[[0]]),linr(X[[1]])"
   ]
  },
  {
   "cell_type": "code",
   "execution_count": 15,
   "id": "e46dd48f-a086-4b6a-abdc-9d76da7386a5",
   "metadata": {},
   "outputs": [
    {
     "data": {
      "text/plain": [
       "(tensor([ 0.5355, -0.0576], grad_fn=<ViewBackward0>),\n",
       " tensor([0.6262, 0.2586], grad_fn=<ViewBackward0>))"
      ]
     },
     "execution_count": 15,
     "metadata": {},
     "output_type": "execute_result"
    }
   ],
   "source": [
    "linr(X[0]),linr(X[1])"
   ]
  },
  {
   "cell_type": "markdown",
   "id": "e697ad71-ab5a-4b45-ad9e-2e0c31849ac6",
   "metadata": {},
   "source": [
    "`-` 이렇게 행별로 뽑아서 linr를 할 수 있다."
   ]
  },
  {
   "cell_type": "markdown",
   "id": "7a7f2fd9-6521-4fa1-9205-fd0643a05f32",
   "metadata": {},
   "source": [
    "## **D. 실패한 풀이의 다른구현2**"
   ]
  },
  {
   "cell_type": "code",
   "execution_count": 16,
   "id": "0eef00d0-4bbe-41b9-9cb1-ef17873b3824",
   "metadata": {},
   "outputs": [],
   "source": [
    "x = torch.tensor(df_train.x.map({'A':0,'b':1,'c':2,'d':3}))\n",
    "y = torch.tensor(df_train.y.map({'A':0,'b':1,'c':2,'d':3}))\n",
    "X = torch.nn.functional.one_hot(x).float()\n",
    "y = torch.nn.functional.one_hot(y).float()"
   ]
  },
  {
   "cell_type": "code",
   "execution_count": 17,
   "id": "99263122-3c9b-453e-84f6-1a3f43211890",
   "metadata": {},
   "outputs": [],
   "source": [
    "class Hnet(torch.nn.Module):\n",
    "    def __init__(self):\n",
    "        super().__init__()\n",
    "        self.i2h = torch.nn.Linear(4,2,bias=False)\n",
    "        self.tanh = torch.nn.Tanh()\n",
    "    def forward(self,X):\n",
    "        h = self.tanh(self.i2h(X))\n",
    "        return h\n",
    "hnet = Hnet()\n",
    "linr = torch.nn.Linear(2,4)\n",
    "hnet.i2h.weight.data = hnet.i2h.weight.data*0 + 0.1\n",
    "linr.weight.data = linr.weight.data*0 + 0.1\n",
    "linr.bias.data = linr.bias.data*0 + 0.1\n",
    "# \n",
    "loss_fn = torch.nn.CrossEntropyLoss()\n",
    "optimizr = torch.optim.Adam(list(hnet.parameters())+list(linr.parameters()),lr=0.1)\n",
    "#---#\n",
    "L = len(X)\n",
    "for epoc in range(200):\n",
    "    # 1~2 \n",
    "    loss = 0 \n",
    "    for t in range(L):\n",
    "        Xt,yt = X[t],y[t]\n",
    "        ht = hnet(Xt)\n",
    "        ot = linr(ht)\n",
    "        loss = loss + loss_fn(ot,yt)\n",
    "    loss = loss/L\n",
    "    # 3 \n",
    "    loss.backward()\n",
    "    # 4 \n",
    "    optimizr.step()\n",
    "    optimizr.zero_grad()"
   ]
  },
  {
   "cell_type": "markdown",
   "id": "336d0b23-2112-4cef-84ed-5897e95e7391",
   "metadata": {},
   "source": [
    "$y[t]$는 답지 느낌이고 $X[t]$는 문제지이다. X[t]를 hnet에 태우고 linr을 하고 나서 답지랑 비교하는 것이라고 생각하면 된다."
   ]
  },
  {
   "cell_type": "code",
   "execution_count": 18,
   "id": "7313e7e1-76c9-4880-a57a-a489c9130648",
   "metadata": {},
   "outputs": [
    {
     "data": {
      "text/plain": [
       "tensor([[-3.8668,  3.6836,  3.6836,  3.6836],\n",
       "        [ 5.4879, -4.9081, -4.9081, -4.9081],\n",
       "        [-3.8668,  3.6836,  3.6836,  3.6836],\n",
       "        ...,\n",
       "        [-3.8668,  3.6836,  3.6836,  3.6836],\n",
       "        [ 5.4879, -4.9081, -4.9081, -4.9081],\n",
       "        [-3.8668,  3.6836,  3.6836,  3.6836]], grad_fn=<AddmmBackward0>)"
      ]
     },
     "execution_count": 18,
     "metadata": {},
     "output_type": "execute_result"
    }
   ],
   "source": [
    "linr(hnet(X))"
   ]
  },
  {
   "cell_type": "markdown",
   "id": "d46eecec-c05b-4381-829e-cb32c09cf841",
   "metadata": {},
   "source": [
    "여전히 똑같이 구분하지 못한다."
   ]
  },
  {
   "cell_type": "markdown",
   "id": "d330bfea-71bf-406e-992d-c99c1de15245",
   "metadata": {},
   "source": [
    "## **E. 임베딩 공간의 해석**"
   ]
  },
  {
   "cell_type": "code",
   "execution_count": 19,
   "id": "973ece81-1060-447e-b3b2-af898c3af377",
   "metadata": {},
   "outputs": [],
   "source": [
    "h = hnet(X)"
   ]
  },
  {
   "cell_type": "code",
   "execution_count": 20,
   "id": "70814124-20e6-4d8b-b094-740d0cfbff01",
   "metadata": {},
   "outputs": [
    {
     "data": {
      "text/plain": [
       "torch.Size([299, 2])"
      ]
     },
     "execution_count": 20,
     "metadata": {},
     "output_type": "execute_result"
    }
   ],
   "source": [
    "h.shape"
   ]
  },
  {
   "cell_type": "code",
   "execution_count": 21,
   "id": "d90316bb-f58e-484b-81dc-c129a311d50d",
   "metadata": {},
   "outputs": [],
   "source": [
    "h1,h2 = h.T.data\n",
    "# h1 = h[:,0].data\n",
    "# h2 = h[:,1].data"
   ]
  },
  {
   "cell_type": "code",
   "execution_count": 22,
   "id": "dc5aa098-3789-4aa4-92a9-7223eff2c3cf",
   "metadata": {},
   "outputs": [
    {
     "data": {
      "text/plain": [
       "<matplotlib.legend.Legend at 0x7fafae5a9610>"
      ]
     },
     "execution_count": 22,
     "metadata": {},
     "output_type": "execute_result"
    },
    {
     "data": {
      "image/png": "[encoded data removed]",
      "text/plain": [
       "<Figure size 640x480 with 1 Axes>"
      ]
     },
     "metadata": {},
     "output_type": "display_data"
    }
   ],
   "source": [
    "plt.plot(h1[::6],h2[::6],'X',label=\"A\")\n",
    "plt.plot(h1[1::6],h2[1::6],'X',label=\"b\")\n",
    "plt.plot(h1[2::6],h2[2::6],'X',label=\"A\")\n",
    "plt.plot(h1[3::6],h2[3::6],'X',label=\"c\")\n",
    "plt.plot(h1[4::6],h2[4::6],'X',label=\"A\")\n",
    "plt.plot(h1[5::6],h2[5::6],'X',label=\"d\")\n",
    "plt.legend()"
   ]
  },
  {
   "cell_type": "markdown",
   "id": "425d7058-8a21-464b-90cd-591c9c33069f",
   "metadata": {},
   "source": [
    "`-` b,c,d는 사실상 같은 문자로 취급하고 있다. 하지만 b,c,d는 문맥상 다른 것들인데.. 어떻게 할까?"
   ]
  },
  {
   "cell_type": "markdown",
   "id": "96b31891-28e3-4da6-90ab-d575f19db206",
   "metadata": {},
   "source": [
    "# **4. AbAcAd - 성공**"
   ]
  },
  {
   "cell_type": "code",
   "execution_count": 23,
   "id": "77bf2889-5fef-4698-9211-fb664cabe21e",
   "metadata": {},
   "outputs": [],
   "source": [
    "x = torch.tensor(df_train.x.map({'A':0,'b':1,'c':2,'d':3}))\n",
    "y = torch.tensor(df_train.y.map({'A':0,'b':1,'c':2,'d':3}))\n",
    "X = torch.nn.functional.one_hot(x).float()\n",
    "y = torch.nn.functional.one_hot(y).float()"
   ]
  },
  {
   "cell_type": "code",
   "execution_count": 25,
   "id": "1faf4943-e29a-4c25-bc66-addf39f05aa7",
   "metadata": {},
   "outputs": [],
   "source": [
    "class rNNCell(torch.nn.Module):\n",
    "    def __init__(self):\n",
    "        super().__init__()\n",
    "        self.i2h = torch.nn.Linear(4,2)\n",
    "        self.h2h = torch.nn.Linear(2,2)\n",
    "        self.tanh = torch.nn.Tanh()\n",
    "    def forward(self,Xt,ht):\n",
    "        ht = self.tanh(self.i2h(Xt) + self.h2h(ht))\n",
    "        return ht\n",
    "\n",
    "torch.manual_seed(43052)\n",
    "rnncell = rNNCell()\n",
    "cook = torch.nn.Linear(2,4)\n",
    "\n",
    "loss_fn = torch.nn.CrossEntropyLoss()\n",
    "optimizr = torch.optim.Adam(list(rnncell.parameters()) + list(cook.parameters()), lr = 0.1)\n",
    "\n",
    "L = len(X)\n",
    "for epoc in range(200):\n",
    "    ht = torch.zeros(2)\n",
    "    loss = 0\n",
    "    for t in range(L):\n",
    "        Xt,yt = X[t],y[t]\n",
    "        ht = rnncell(Xt,ht)\n",
    "        ot = cook(ht)\n",
    "        loss = loss + loss_fn(ot,yt)\n",
    "    loss = loss/L\n",
    "    # step3\n",
    "    loss.backward()\n",
    "    # step4\n",
    "    optimizr.step()\n",
    "    optimizr.zero_grad()"
   ]
  },
  {
   "cell_type": "code",
   "execution_count": 26,
   "id": "bb532e76-4257-4b7d-8ef6-28a4434a248c",
   "metadata": {},
   "outputs": [
    {
     "data": {
      "text/plain": [
       "tensor([[4.1978e-03, 9.4555e-01, 1.9557e-06, 5.0253e-02],\n",
       "        [9.9994e-01, 5.5569e-05, 8.4751e-10, 1.3143e-06],\n",
       "        [2.1349e-07, 1.1345e-06, 9.7019e-01, 2.9806e-02],\n",
       "        ...,\n",
       "        [2.1339e-07, 1.1339e-06, 9.7020e-01, 2.9798e-02],\n",
       "        [9.9901e-01, 9.6573e-04, 6.9303e-09, 2.1945e-05],\n",
       "        [7.2919e-04, 2.5484e-02, 3.3011e-02, 9.4078e-01]],\n",
       "       grad_fn=<SoftmaxBackward0>)"
      ]
     },
     "execution_count": 26,
     "metadata": {},
     "output_type": "execute_result"
    }
   ],
   "source": [
    "h = torch.zeros(L,2)\n",
    "water = torch.zeros(2)\n",
    "h[0] = rnncell(X[0],water)\n",
    "for t in range(1,L):\n",
    "    h[t] = rnncell(X[t],h[t-1])\n",
    "yhat = soft(cook(h))\n",
    "yhat    "
   ]
  },
  {
   "cell_type": "code",
   "execution_count": 27,
   "id": "fabf437d-369f-4a11-8560-8ecad366e76a",
   "metadata": {},
   "outputs": [
    {
     "data": {
      "image/png": "[encoded data removed]",
      "text/plain": [
       "<Figure size 400x666.667 with 1 Axes>"
      ]
     },
     "metadata": {},
     "output_type": "display_data"
    }
   ],
   "source": [
    "mat = torch.concat([h,yhat],axis=1).data[:10]\n",
    "plt.matshow(mat,cmap='bwr',vmin=-1,vmax=1)\n",
    "plt.axvline(x=1.5,color='lime')\n",
    "plt.xticks(range(6),[r'$h_1$',r'$h_2$',r'$P_A$',r'$P_b$',r'$P_c$',r'$P_d$']);"
   ]
  },
  {
   "cell_type": "markdown",
   "id": "222ea627-62af-498e-bf93-faa804165655",
   "metadata": {},
   "source": [
    "`-` 임베딩 스페이스 분석"
   ]
  },
  {
   "cell_type": "code",
   "execution_count": 28,
   "id": "6d9b50e2-5915-4617-8191-3f3e104e205b",
   "metadata": {},
   "outputs": [
    {
     "data": {
      "text/plain": [
       "<matplotlib.legend.Legend at 0x7fafae402600>"
      ]
     },
     "execution_count": 28,
     "metadata": {},
     "output_type": "execute_result"
    },
    {
     "data": {
      "image/png": "[encoded data removed]",
      "text/plain": [
       "<Figure size 640x480 with 1 Axes>"
      ]
     },
     "metadata": {},
     "output_type": "display_data"
    }
   ],
   "source": [
    "h1,h2 = h.T.data\n",
    "plt.plot(h1[::6],h2[::6],'X',label=\"A\")\n",
    "plt.plot(h1[1::6],h2[1::6],'X',label=\"b\")\n",
    "plt.plot(h1[2::6],h2[2::6],'X',label=\"A\")\n",
    "plt.plot(h1[3::6],h2[3::6],'X',label=\"c\")\n",
    "plt.plot(h1[4::6],h2[4::6],'X',label=\"A\")\n",
    "plt.plot(h1[5::6],h2[5::6],'X',label=\"d\")\n",
    "plt.legend()"
   ]
  }
 ],
 "metadata": {
  "kernelspec": {
   "display_name": "Python 3 (ipykernel)",
   "language": "python",
   "name": "python3"
  },
  "language_info": {
   "codemirror_mode": {
    "name": "ipython",
    "version": 3
   },
   "file_extension": ".py",
   "mimetype": "text/x-python",
   "name": "python",
   "nbconvert_exporter": "python",
   "pygments_lexer": "ipython3",
   "version": "3.12.2"
  }
 },
 "nbformat": 4,
 "nbformat_minor": 5
}
